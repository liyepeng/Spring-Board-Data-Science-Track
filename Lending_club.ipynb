{
 "cells": [
  {
   "cell_type": "code",
   "execution_count": 1,
   "metadata": {
    "collapsed": true
   },
   "outputs": [],
   "source": [
    "import sys\n",
    "from numpy import *\n",
    "import numpy as np\n",
    "import pandas as pd\n",
    "import matplotlib.pyplot as plt\n",
    "import operator\n",
    "%matplotlib inline"
   ]
  },
  {
   "cell_type": "code",
   "execution_count": 2,
   "metadata": {},
   "outputs": [
    {
     "name": "stdout",
     "output_type": "stream",
     "text": [
      "<class 'pandas.core.frame.DataFrame'>\n",
      "RangeIndex: 421097 entries, 0 to 421096\n",
      "Columns: 137 entries, id to hardship_last_payment_amount\n",
      "dtypes: float64(104), object(33)\n",
      "memory usage: 440.1+ MB\n"
     ]
    }
   ],
   "source": [
    "df = pd.read_csv(\"LoanStats3d.csv\",skiprows=1,low_memory=False)\n",
    "df.info()"
   ]
  },
  {
   "cell_type": "code",
   "execution_count": 3,
   "metadata": {},
   "outputs": [
    {
     "data": {
      "text/plain": [
       "['member_id',\n",
       " 'url',\n",
       " 'revol_bal_joint',\n",
       " 'sec_app_earliest_cr_line',\n",
       " 'sec_app_inq_last_6mths',\n",
       " 'sec_app_mort_acc',\n",
       " 'sec_app_open_acc',\n",
       " 'sec_app_revol_util',\n",
       " 'sec_app_open_il_6m',\n",
       " 'sec_app_num_rev_accts',\n",
       " 'sec_app_chargeoff_within_12_mths',\n",
       " 'sec_app_collections_12_mths_ex_med',\n",
       " 'sec_app_mths_since_last_major_derog']"
      ]
     },
     "execution_count": 3,
     "metadata": {},
     "output_type": "execute_result"
    }
   ],
   "source": [
    "blank_columns = df.columns[df.isnull().all()].tolist()\n",
    "blank_columns"
   ]
  },
  {
   "cell_type": "code",
   "execution_count": 4,
   "metadata": {
    "collapsed": true
   },
   "outputs": [],
   "source": [
    "# drop blank columns\n",
    "df = df.drop(['id','member_id', 'url','revol_bal_joint','sec_app_earliest_cr_line','sec_app_inq_last_6mths','sec_app_mort_acc',\n",
    " 'sec_app_open_acc','sec_app_revol_util','sec_app_open_il_6m','sec_app_num_rev_accts','sec_app_chargeoff_within_12_mths',\n",
    " 'sec_app_collections_12_mths_ex_med','sec_app_mths_since_last_major_derog'], axis = 1)\n",
    "\n",
    "# drop post loan variables\n",
    "df = df.drop(['out_prncp','out_prncp_inv', 'total_pymnt', 'total_pymnt_inv', 'total_rec_prncp',\n",
    "              'grade', 'sub_grade','total_rec_int','total_rec_late_fee','recoveries','collection_recovery_fee',\n",
    "              'collection_recovery_fee','last_pymnt_d','last_pymnt_amnt','next_pymnt_d','last_credit_pull_d',\n",
    "              'payment_plan_start_date','issue_d'], axis = 1)\n",
    "df = df.drop(['term','int_rate','installment'], axis = 1)\n",
    "\n",
    "# drop hardship variables\n",
    "df = df.drop(['hardship_flag','hardship_type','hardship_reason', 'hardship_status','hardship_start_date',\n",
    "             'hardship_end_date','hardship_loan_status', 'hardship_amount','hardship_length','hardship_dpd',\n",
    "              'hardship_payoff_balance_amount','hardship_last_payment_amount'], axis = 1)"
   ]
  },
  {
   "cell_type": "markdown",
   "metadata": {},
   "source": [
    "## Object variable wrangling\n",
    "### a. Target variable: How many class of loan status are there?"
   ]
  },
  {
   "cell_type": "code",
   "execution_count": 5,
   "metadata": {},
   "outputs": [
    {
     "data": {
      "text/plain": [
       "array(['Current', 'Fully Paid', 'Charged Off', 'Late (16-30 days)',\n",
       "       'Late (31-120 days)', 'In Grace Period', 'Default', nan], dtype=object)"
      ]
     },
     "execution_count": 5,
     "metadata": {},
     "output_type": "execute_result"
    }
   ],
   "source": [
    "obj_df = df.select_dtypes(include=['object']).copy()\n",
    "pd.unique(obj_df['loan_status'].values.ravel())"
   ]
  },
  {
   "cell_type": "code",
   "execution_count": 6,
   "metadata": {},
   "outputs": [
    {
     "name": "stdout",
     "output_type": "stream",
     "text": [
      "<class 'pandas.core.frame.DataFrame'>\n",
      "RangeIndex: 421097 entries, 0 to 421096\n",
      "Data columns (total 16 columns):\n",
      "emp_title                    397221 non-null object\n",
      "emp_length                   421095 non-null object\n",
      "home_ownership               421095 non-null object\n",
      "verification_status          421095 non-null object\n",
      "loan_status                  421095 non-null object\n",
      "pymnt_plan                   421095 non-null object\n",
      "desc                         45 non-null object\n",
      "purpose                      421095 non-null object\n",
      "title                        420963 non-null object\n",
      "zip_code                     421095 non-null object\n",
      "addr_state                   421095 non-null object\n",
      "earliest_cr_line             421095 non-null object\n",
      "revol_util                   420933 non-null object\n",
      "initial_list_status          421095 non-null object\n",
      "application_type             421095 non-null object\n",
      "verification_status_joint    511 non-null object\n",
      "dtypes: object(16)\n",
      "memory usage: 51.4+ MB\n"
     ]
    }
   ],
   "source": [
    "# classified loan_status to \"good loan\" and \"bad loan''\n",
    "status_dict = {'loan_status': {'Current':'good loan', 'Fully Paid':'good loan', 'In Grace Period':'good loan', 'Charged Off':'bad loan', 'Late (16-30 days)':'bad loan',\n",
    "                'Late (31-120 days)':'bad loan', 'Default':'bad loan'}}\n",
    "obj_df.replace(status_dict, inplace=True)\n",
    "obj_df.info()"
   ]
  },
  {
   "cell_type": "code",
   "execution_count": 7,
   "metadata": {
    "collapsed": true
   },
   "outputs": [],
   "source": [
    "obj_df = obj_df.drop(['verification_status_joint', 'desc'], axis=1) # drop the variable which \n",
    "                                                          # has nealy 90% missing values"
   ]
  },
  {
   "cell_type": "markdown",
   "metadata": {},
   "source": [
    "### b. Data cleaning for other object variables"
   ]
  },
  {
   "cell_type": "code",
   "execution_count": 8,
   "metadata": {},
   "outputs": [
    {
     "data": {
      "text/plain": [
       "array(['debt_consolidation', 'credit_card', 'home_improvement',\n",
       "       'major_purchase', 'house', 'medical', 'other', 'car',\n",
       "       'small_business', 'vacation', 'moving', 'renewable_energy',\n",
       "       'wedding', 'educational', nan], dtype=object)"
      ]
     },
     "execution_count": 8,
     "metadata": {},
     "output_type": "execute_result"
    }
   ],
   "source": [
    "obj_df['purpose'].unique()"
   ]
  },
  {
   "cell_type": "code",
   "execution_count": 9,
   "metadata": {},
   "outputs": [
    {
     "data": {
      "text/plain": [
       "array(['Debt consolidation', 'Credit card refinancing', 'Home improvement',\n",
       "       nan, 'Major purchase', 'Home buying', 'Medical expenses', 'Other',\n",
       "       'Car financing', 'Business', 'Vacation', 'Moving and relocation',\n",
       "       'Green loan', 'odymeds', 'SAVE', 'Learning and training', 'new day',\n",
       "       'Trying to come back to reality!', 'considerate',\n",
       "       'Paying off higher interest cards & auto',\n",
       "       'Simple Loan Until Contract Is Completed',\n",
       "       'Prescription Drug and Medical Costs', 'Pay off Lowes Card',\n",
       "       'new kitchen for momma!', 'DebtC',\n",
       "       'New Baby and New House (CC Consolidate)',\n",
       "       'Credit Card/Auto Repair', 'Student Loan'], dtype=object)"
      ]
     },
     "execution_count": 9,
     "metadata": {},
     "output_type": "execute_result"
    }
   ],
   "source": [
    "obj_df['title'].unique()"
   ]
  },
  {
   "cell_type": "markdown",
   "metadata": {},
   "source": [
    "Variable 'purpose' and 'title' are overlapped by the most part I choose the purpose variable "
   ]
  },
  {
   "cell_type": "code",
   "execution_count": 10,
   "metadata": {
    "collapsed": true
   },
   "outputs": [],
   "source": [
    "obj_df = obj_df.drop('title', axis=1)"
   ]
  },
  {
   "cell_type": "code",
   "execution_count": 11,
   "metadata": {
    "collapsed": true
   },
   "outputs": [],
   "source": [
    "obj_df.revol_util = pd.Series(obj_df.revol_util).str.replace('%', '').astype(float)"
   ]
  },
  {
   "cell_type": "code",
   "execution_count": 12,
   "metadata": {},
   "outputs": [
    {
     "data": {
      "text/plain": [
       "10+ years    141521\n",
       "2 years       37497\n",
       "< 1 year      34340\n",
       "3 years       33430\n",
       "1 year        27473\n",
       "5 years       24930\n",
       "4 years       24506\n",
       "n/a           23817\n",
       "8 years       21560\n",
       "7 years       18414\n",
       "6 years       16838\n",
       "9 years       16769\n",
       "Name: emp_length, dtype: int64"
      ]
     },
     "execution_count": 12,
     "metadata": {},
     "output_type": "execute_result"
    }
   ],
   "source": [
    "obj_df.emp_length.value_counts()"
   ]
  },
  {
   "cell_type": "code",
   "execution_count": 13,
   "metadata": {
    "collapsed": true
   },
   "outputs": [],
   "source": [
    "# convert emp_length to numeric variable\n",
    "obj_df.replace('n/a', np.nan,inplace=True)\n",
    "obj_df.emp_length.fillna(value=0,inplace=True)\n",
    "obj_df['emp_length'].replace(to_replace='[^0-9]+', value='', inplace=True, regex=True)\n",
    "obj_df['emp_length'] = obj_df['emp_length'].astype(float)"
   ]
  },
  {
   "cell_type": "markdown",
   "metadata": {},
   "source": [
    "### c. Feature  engineering"
   ]
  },
  {
   "cell_type": "markdown",
   "metadata": {},
   "source": [
    "### emp_title\n",
    "This variable has 120813 categories and we can choose the top ten employment tiltle and create 10 dummy variables so it can be used in model building."
   ]
  },
  {
   "cell_type": "code",
   "execution_count": 14,
   "metadata": {},
   "outputs": [
    {
     "data": {
      "text/plain": [
       "(120813,)"
      ]
     },
     "execution_count": 14,
     "metadata": {},
     "output_type": "execute_result"
    }
   ],
   "source": [
    "obj_df.emp_title.unique().shape"
   ]
  },
  {
   "cell_type": "code",
   "execution_count": 15,
   "metadata": {},
   "outputs": [
    {
     "data": {
      "text/plain": [
       "teacher             9956\n",
       "manager             8958\n",
       "owner               6101\n",
       "registered nurse    4443\n",
       "supervisor          4080\n",
       "driver              3863\n",
       "sales               3759\n",
       "rn                  3545\n",
       "office manager      2826\n",
       "project manager     2734\n",
       "Name: emp_title, dtype: int64"
      ]
     },
     "execution_count": 15,
     "metadata": {},
     "output_type": "execute_result"
    }
   ],
   "source": [
    "obj_df['emp_title'].str.lower().value_counts().head(10)"
   ]
  },
  {
   "cell_type": "code",
   "execution_count": 16,
   "metadata": {
    "collapsed": true
   },
   "outputs": [],
   "source": [
    "obj_df['emp_title'] = obj_df['emp_title'].str.lower().replace('rn', 'registered nurse')"
   ]
  },
  {
   "cell_type": "code",
   "execution_count": 17,
   "metadata": {},
   "outputs": [
    {
     "data": {
      "text/plain": [
       "other               368270\n",
       "teacher               9956\n",
       "manager               8958\n",
       "registered nurse      7988\n",
       "owner                 6101\n",
       "supervisor            4080\n",
       "driver                3863\n",
       "sales                 3759\n",
       "office manager        2826\n",
       "project manager       2734\n",
       "general manager       2562\n",
       "Name: emp_title, dtype: int64"
      ]
     },
     "execution_count": 17,
     "metadata": {},
     "output_type": "execute_result"
    }
   ],
   "source": [
    "# select top ten employment title\n",
    "cats = ['teacher','manager','registered nurse', 'owner','supervisor','driver','sales','office manager',\n",
    "        'project manager','general manager']\n",
    "obj_df.loc[~ (obj_df['emp_title'].isin(cats)), 'emp_title'] = 'other'\n",
    "obj_df.emp_title.value_counts()"
   ]
  },
  {
   "cell_type": "markdown",
   "metadata": {},
   "source": [
    "### Zip code and state\n",
    "This two variables can't be used directly for the analysis of loan status. But if they combined with the local unemployment rates in US they will be useful for the analysis for the decision of the loan."
   ]
  },
  {
   "cell_type": "code",
   "execution_count": 18,
   "metadata": {},
   "outputs": [
    {
     "name": "stdout",
     "output_type": "stream",
     "text": [
      "<class 'pandas.core.frame.DataFrame'>\n",
      "RangeIndex: 855 entries, 0 to 854\n",
      "Data columns (total 3 columns):\n",
      "state       855 non-null object\n",
      "zip_code    855 non-null int64\n",
      "Rate        855 non-null float64\n",
      "dtypes: float64(1), int64(1), object(1)\n",
      "memory usage: 20.1+ KB\n"
     ]
    },
    {
     "data": {
      "text/html": [
       "<div>\n",
       "<style>\n",
       "    .dataframe thead tr:only-child th {\n",
       "        text-align: right;\n",
       "    }\n",
       "\n",
       "    .dataframe thead th {\n",
       "        text-align: left;\n",
       "    }\n",
       "\n",
       "    .dataframe tbody tr th {\n",
       "        vertical-align: top;\n",
       "    }\n",
       "</style>\n",
       "<table border=\"1\" class=\"dataframe\">\n",
       "  <thead>\n",
       "    <tr style=\"text-align: right;\">\n",
       "      <th></th>\n",
       "      <th>state</th>\n",
       "      <th>zip_code</th>\n",
       "      <th>Rate</th>\n",
       "    </tr>\n",
       "  </thead>\n",
       "  <tbody>\n",
       "    <tr>\n",
       "      <th>0</th>\n",
       "      <td>AK</td>\n",
       "      <td>99500</td>\n",
       "      <td>8.48</td>\n",
       "    </tr>\n",
       "    <tr>\n",
       "      <th>1</th>\n",
       "      <td>AK</td>\n",
       "      <td>99600</td>\n",
       "      <td>8.69</td>\n",
       "    </tr>\n",
       "    <tr>\n",
       "      <th>2</th>\n",
       "      <td>AK</td>\n",
       "      <td>99700</td>\n",
       "      <td>8.41</td>\n",
       "    </tr>\n",
       "  </tbody>\n",
       "</table>\n",
       "</div>"
      ],
      "text/plain": [
       "  state  zip_code  Rate\n",
       "0    AK     99500  8.48\n",
       "1    AK     99600  8.69\n",
       "2    AK     99700  8.41"
      ]
     },
     "execution_count": 18,
     "metadata": {},
     "output_type": "execute_result"
    }
   ],
   "source": [
    "obj_df['zip_code'] = obj_df['zip_code'].str.replace('xx', '00')\n",
    "unemp_zip = pd.read_csv('unemploy_zip.csv')\n",
    "unemp_zip.info()\n",
    "unemp_zip.head(3)"
   ]
  },
  {
   "cell_type": "code",
   "execution_count": 19,
   "metadata": {},
   "outputs": [
    {
     "data": {
      "text/plain": [
       "387468"
      ]
     },
     "execution_count": 19,
     "metadata": {},
     "output_type": "execute_result"
    }
   ],
   "source": [
    "# concate the two files\n",
    "obj_df['zip_code'] = obj_df['zip_code'].astype('float')\n",
    "obj_df = obj_df.rename(columns={'addr_state':'state'})\n",
    "unemp_zip['zip_code'] = unemp_zip['zip_code'].astype('float')\n",
    "obj_df1 = pd.merge(obj_df, unemp_zip, on=['state','zip_code'], how='left')\n",
    "obj_df1.Rate.count()"
   ]
  },
  {
   "cell_type": "markdown",
   "metadata": {},
   "source": [
    "There are 855 zip_unemployment rate in unemp_zip files while there are 915 zip code in lending club dataset. So there are missing values for the unemployment rate when this two files are merged together."
   ]
  },
  {
   "cell_type": "markdown",
   "metadata": {},
   "source": [
    "## Numerical variables wrangling"
   ]
  },
  {
   "cell_type": "code",
   "execution_count": 20,
   "metadata": {
    "collapsed": true
   },
   "outputs": [],
   "source": [
    "num_df = df.select_dtypes(include=['float']).copy()"
   ]
  },
  {
   "cell_type": "code",
   "execution_count": 21,
   "metadata": {},
   "outputs": [
    {
     "name": "stdout",
     "output_type": "stream",
     "text": [
      "Column delinq_2yrs has 87087 outliers\n",
      "Column pub_rec has 74415 outliers\n",
      "Column tot_coll_amt has 66407 outliers\n",
      "Column num_accts_ever_120_pd has 102993 outliers\n",
      "Column pub_rec_bankruptcies has 50916 outliers\n"
     ]
    }
   ],
   "source": [
    "# find the numerical variables which have more than 10% of outliers\n",
    "for col in num_df.columns:\n",
    "    Q1 = num_df[col].quantile(0.25)\n",
    "    Q3 = num_df[col].quantile(0.75)\n",
    "    IQR = Q3 - Q1\n",
    "    out_liers_number = ((num_df[col] < (Q1 - 3 * IQR)) | (num_df[col] > (Q3 + 3 * IQR))).sum()\n",
    "    count = df[col].count()\n",
    "    if out_liers_number > (0.1 * count):\n",
    "        print (\"Column {} has {} outliers\".format(col, out_liers_number)) \n",
    "\n",
    "#from scipy import stats\n",
    "#df[(np.abs(stats.zscore(df)) > 3).all(axis=1)]"
   ]
  },
  {
   "cell_type": "code",
   "execution_count": 22,
   "metadata": {
    "collapsed": true
   },
   "outputs": [],
   "source": [
    "# concat object variable files and numeric variable file\n",
    "obj_df1['zip_code'] = obj_df1['zip_code'].astype('object')\n",
    "df1 = pd.concat([obj_df1, num_df], axis=1 )"
   ]
  },
  {
   "cell_type": "markdown",
   "metadata": {},
   "source": [
    "## Explanatory Data Analysis"
   ]
  },
  {
   "cell_type": "markdown",
   "metadata": {},
   "source": [
    "#### How many good loans and bad loans are there?"
   ]
  },
  {
   "cell_type": "code",
   "execution_count": 23,
   "metadata": {},
   "outputs": [
    {
     "data": {
      "text/plain": [
       "[<matplotlib.text.Text at 0x1fa023b0198>,\n",
       " <matplotlib.text.Text at 0x1fa023a2e80>]"
      ]
     },
     "execution_count": 23,
     "metadata": {},
     "output_type": "execute_result"
    },
    {
     "data": {
      "image/png": "[encoded data removed]",
      "text/plain": [
       "<matplotlib.figure.Figure at 0x1fa03b70ba8>"
      ]
     },
     "metadata": {},
     "output_type": "display_data"
    }
   ],
   "source": [
    "_ = df1['loan_status'].value_counts().plot(kind='bar')\n",
    "_.set_xticklabels(['good loan', 'bad loan'], rotation=0)"
   ]
  },
  {
   "cell_type": "markdown",
   "metadata": {},
   "source": [
    "#### The relationship between loan status and employment title"
   ]
  },
  {
   "cell_type": "code",
   "execution_count": 24,
   "metadata": {},
   "outputs": [
    {
     "data": {
      "text/plain": [
       "<matplotlib.axes._subplots.AxesSubplot at 0x1fa0233f6d8>"
      ]
     },
     "execution_count": 24,
     "metadata": {},
     "output_type": "execute_result"
    },
    {
     "data": {
      "image/png": "[encoded data removed]",
      "text/plain": [
       "<matplotlib.figure.Figure at 0x1fa023069b0>"
      ]
     },
     "metadata": {},
     "output_type": "display_data"
    }
   ],
   "source": [
    "df1['emp_title'].value_counts()[1:10].plot(kind='barh')"
   ]
  },
  {
   "cell_type": "code",
   "execution_count": 25,
   "metadata": {
    "collapsed": true
   },
   "outputs": [],
   "source": [
    "# caculate good loan/bad loan for each employment title and their percentages\n",
    "def calculation(col, col_cats):\n",
    "    df2=df1[df1[col].isin(col_cats)][['loan_status', col]]\n",
    "    good_loan_data = df2[df2.loan_status == 'good loan']\n",
    "    bad_loan_data = df2[df2.loan_status == 'bad loan']\n",
    "\n",
    "    good_loan = good_loan_data.groupby(col).size().sort_values(ascending=False).values\n",
    "    bad_loan = bad_loan_data.groupby(col).size().sort_values(ascending=False).values\n",
    "\n",
    "    totals = good_loan + bad_loan\n",
    "    data1_percentages = (good_loan/totals)*100 \n",
    "    data2_percentages = (bad_loan/totals)*100\n",
    "    return good_loan,bad_loan,data1_percentages,data2_percentages\n",
    "    "
   ]
  },
  {
   "cell_type": "code",
   "execution_count": 26,
   "metadata": {
    "collapsed": true
   },
   "outputs": [],
   "source": [
    "def plot(xticks, col, col_cats):\n",
    "    \n",
    "    good_loan,bad_loan,data1_percentages,data2_percentages = calculation(col, col_cats)\n",
    "    \n",
    "    f, (ax1, ax2) = plt.subplots(1, 2, figsize=(15,5))\n",
    "    # plot chart for count of loan status by col\n",
    "    ax1.bar(range(len(good_loan)), good_loan, label='Good_loan', alpha=0.7, color='b')\n",
    "    ax1.bar(range(len(bad_loan)), bad_loan, bottom=good_loan, label='Bad_loan', alpha=0.7, color='r')\n",
    "    plt.sca(ax1)\n",
    "    plt.xticks(xticks, col_cats, rotation=45, ha='right')\n",
    "    ax1.set_ylabel(\"Count\")\n",
    "    ax1.set_xlabel(\"\")\n",
    "    ax1.set_title(\"Count of loan status by {}\".format(col),fontsize=14)\n",
    "    plt.legend(loc='upper right')\n",
    "\n",
    "    # plot chart for percentage of loan status by col\n",
    "    ax2.bar(range(len(data1_percentages)), data1_percentages, alpha=0.7, color='b')\n",
    "    ax2.bar(range(len(data2_percentages)), data2_percentages, bottom=data1_percentages, alpha=0.7, color='r')\n",
    "    plt.sca(ax2)\n",
    "    plt.xticks(xticks, col_cats, rotation=45, ha='right')\n",
    "    ax2.set_ylabel(\"Percentage\")\n",
    "    ax2.set_xlabel(\"\")\n",
    "    ax2.set_title(\"% of loan status by {}\".format(col),fontsize=14)"
   ]
  },
  {
   "cell_type": "code",
   "execution_count": 27,
   "metadata": {},
   "outputs": [
    {
     "data": {
      "image/png": "[encoded data removed]",
      "text/plain": [
       "<matplotlib.figure.Figure at 0x1fa021ab208>"
      ]
     },
     "metadata": {},
     "output_type": "display_data"
    }
   ],
   "source": [
    "xticks = [0.1, 1.1, 2.1, 3.1, 4.1, 5.1, 6.1, 7.1, 8.1, 9.1]\n",
    "emp_title_categories = ['teacher','manager','registered nurse', 'owner','supervisor','driver','sales','office manager',\n",
    "        'project manager','general manager']\n",
    "plot(xticks,'emp_title', emp_title_categories)"
   ]
  },
  {
   "cell_type": "markdown",
   "metadata": {},
   "source": [
    "#### The relationship between loan status and home ownership"
   ]
  },
  {
   "cell_type": "code",
   "execution_count": 28,
   "metadata": {},
   "outputs": [
    {
     "data": {
      "image/png": "[encoded data removed]",
      "text/plain": [
       "<matplotlib.figure.Figure at 0x1fa01ab8898>"
      ]
     },
     "metadata": {},
     "output_type": "display_data"
    }
   ],
   "source": [
    "xticks = [0.1, 1.1, 2.1, 3.1]\n",
    "home_ownership_categories = ['MORTGAGE','RENT','OWN']\n",
    "plot(xticks,'home_ownership', home_ownership_categories)"
   ]
  },
  {
   "cell_type": "markdown",
   "metadata": {},
   "source": [
    "#### The relationship of zip code, unemployment rate and bad loan percentage"
   ]
  },
  {
   "cell_type": "code",
   "execution_count": 29,
   "metadata": {},
   "outputs": [
    {
     "data": {
      "text/plain": [
       "<matplotlib.text.Text at 0x1fa00fbbb70>"
      ]
     },
     "execution_count": 29,
     "metadata": {},
     "output_type": "execute_result"
    },
    {
     "data": {
      "image/png": "[encoded data removed]",
      "text/plain": [
       "<matplotlib.figure.Figure at 0x1fa010efeb8>"
      ]
     },
     "metadata": {},
     "output_type": "display_data"
    }
   ],
   "source": [
    "import seaborn as sns\n",
    "sns.set_style(\"whitegrid\")\n",
    "sns.set_context(\"poster\")\n",
    "_ = sns.boxplot(x='loan_status', y='Rate',data=df1)\n",
    "plt.title('Loan status and unemployment rate')"
   ]
  },
  {
   "cell_type": "code",
   "execution_count": 30,
   "metadata": {
    "collapsed": true
   },
   "outputs": [],
   "source": [
    "# caculation of bad loan percentage in the same zip code area\n",
    "def bad_loan_perc_zip(DF):\n",
    "    new1 = DF.loc[DF.loan_status == 'good loan', ['state', 'zip_code', 'Rate', 'loan_status']]\n",
    "    new2 = DF.loc[DF.loan_status == 'bad loan', ['state', 'zip_code', 'Rate', 'loan_status']]\n",
    "\n",
    "    a = pd.DataFrame(new1.groupby(['state', 'zip_code', 'Rate'])['loan_status'].size())\n",
    "    a = a.reset_index()\n",
    "\n",
    "    b = pd.DataFrame(new2.groupby(['state', 'zip_code', 'Rate'])['loan_status'].size())\n",
    "    b = b.reset_index()\n",
    "\n",
    "    total = pd.merge(a, b, on=['state','zip_code'], how='left').drop('Rate_y', axis=1)\n",
    "    total.fillna(0, inplace=True)\n",
    "    total['bad_loan_perc'] = (total['loan_status_y']/(total['loan_status_x'] + total['loan_status_y'])) * 100\n",
    "    return total"
   ]
  },
  {
   "cell_type": "code",
   "execution_count": 31,
   "metadata": {},
   "outputs": [
    {
     "data": {
      "text/plain": [
       "<seaborn.axisgrid.JointGrid at 0x1fa00edacc0>"
      ]
     },
     "execution_count": 31,
     "metadata": {},
     "output_type": "execute_result"
    },
    {
     "data": {
      "image/png": "[encoded data removed]",
      "text/plain": [
       "<matplotlib.figure.Figure at 0x1fa00eda358>"
      ]
     },
     "metadata": {},
     "output_type": "display_data"
    }
   ],
   "source": [
    "# plot the bad loan percentage with unemployment rate in the same zip code area\n",
    "total = bad_loan_perc_zip(df1)\n",
    "sns.jointplot('Rate_x', 'bad_loan_perc', data=total, kind='reg')"
   ]
  },
  {
   "cell_type": "markdown",
   "metadata": {},
   "source": [
    "#### The relationship of employment length and bad loan percentage"
   ]
  },
  {
   "cell_type": "code",
   "execution_count": 32,
   "metadata": {},
   "outputs": [
    {
     "data": {
      "text/plain": [
       "<matplotlib.axes._subplots.AxesSubplot at 0x1fa007f49b0>"
      ]
     },
     "execution_count": 32,
     "metadata": {},
     "output_type": "execute_result"
    },
    {
     "data": {
      "image/png": "[encoded data removed]",
      "text/plain": [
       "<matplotlib.figure.Figure at 0x1fa01a8e940>"
      ]
     },
     "metadata": {},
     "output_type": "display_data"
    }
   ],
   "source": [
    "g_loan = df1[df1.loan_status == 'good loan'][['emp_length']]\n",
    "g_loan.columns = [\"Good loan emp_length\"]\n",
    "\n",
    "b_loan = df1[df1.loan_status == 'bad loan'][['emp_length']]\n",
    "b_loan.columns = [\"Bad loan emp_length\"]\n",
    "\n",
    "fig, axs = plt.subplots(ncols=2, sharey=True)\n",
    "sns.violinplot(data=g_loan, ax=axs[0], color='#9b59b6')\n",
    "sns.violinplot(data=b_loan, ax=axs[1], color='#3498db')"
   ]
  },
  {
   "cell_type": "markdown",
   "metadata": {},
   "source": [
    "##### Can you count something interesting?\n",
    "Teacher rank first in the top ten occupation of borrows and it has lowest bad loan percentage. See plot \" The relationship between loan status and employment title\"\n",
    "\n",
    "Homer owners should be rich but they seems to have higher bad loan percentage than rent people or people who have mortgage. See plot \"The relationship beween loan status and home ownership\""
   ]
  },
  {
   "cell_type": "markdown",
   "metadata": {},
   "source": [
    "##### Can you find some trends (high, low, increase, decrease, anomalies)?\n",
    "I found the higher the unemployment rate the higher of bad loan percentage in the same zip code area. See plot \"The relation ship of zip code, unemployment rate and bad loan percentage\"\n",
    "\n"
   ]
  },
  {
   "cell_type": "markdown",
   "metadata": {},
   "source": [
    "I made bar plot, histogram, box plot to compare two related quantities and scatterplot. And this data set I didn't made a time-series plot for the time variables are all post loan variables and they have been deleted in the data wrangling."
   ]
  },
  {
   "cell_type": "markdown",
   "metadata": {},
   "source": [
    "##### Having made these plots, what are some insights you get from them? Do you see any correlations? Is there a hypothesis you would like to investigate further? What other questions do they lead you to ask?\n",
    "Insights: \n",
    "1. Bad loan's percentage is about 20% in 2015.\n",
    "2. Teacher rank first in the top ten occupation of borrows while they seem to have lowest bad loan percentage. Teacher’s salary is low and they have great demand of loan. But they also have better credit to pay off the debt on time than other occupations. Supervisor seems to have the highest bad loan percentage and the reason is unknown. be rich but they seem to have higher bad loan percentage than rent people or people who have mortgage.\n",
    "3. Good loan borrowers seem to have the close median of unemployment rate with bad loan borrowers.\n",
    "4. To investigate the same zip code area bad loan percentage has a positive relationship with unemployment rate. The higher the unemployment rate the higher the bad loan percentage.\n",
    "5. Average employment length of good loan borrowers is higher than bad loan borrowers.\n",
    "\n",
    "Hypothesis to investigate further:\n",
    "1. if the top ten employment title holders have different bad loan percentage.\n",
    "2. if home ownership has effect on bad loan percentage.\n",
    "3. if unemployment rate correlates with bad loan percentage in the same zip code area.\n",
    "4. if the mean employment time for good loan borrowers differs from bad loan borrowers.\n",
    "       "
   ]
  },
  {
   "cell_type": "markdown",
   "metadata": {},
   "source": [
    "##### By now you’ve asked a bunch of questions, and found some neat insights. Is there an interesting narrative, a way of presenting the insights using text and plots from the above, that tells a compelling story? As you work out this story, what are some other trends/relationships you think will make it more complete?\n",
    "\n",
    "Story: Bad loan percentage is still high in 2015(20%). Bad loan seems to have shorter employment length, to be a home owner or to work as a teacher. Bad loan percentage seems to increase with the unemployment rate in the same zip code area.\n",
    "\n",
    "To work out the story I need to do statistical testing to test the trends. And I also need to investigate the relationsip between the numerical variables to see if they are correlated. Finally I will build a model to predict loan status."
   ]
  },
  {
   "cell_type": "markdown",
   "metadata": {},
   "source": [
    "## Statistical Analysis"
   ]
  },
  {
   "cell_type": "markdown",
   "metadata": {},
   "source": [
    "### Numeric variables correlation analysis"
   ]
  },
  {
   "cell_type": "code",
   "execution_count": 33,
   "metadata": {},
   "outputs": [
    {
     "data": {
      "text/html": [
       "<div>\n",
       "<style>\n",
       "    .dataframe thead tr:only-child th {\n",
       "        text-align: right;\n",
       "    }\n",
       "\n",
       "    .dataframe thead th {\n",
       "        text-align: left;\n",
       "    }\n",
       "\n",
       "    .dataframe tbody tr th {\n",
       "        vertical-align: top;\n",
       "    }\n",
       "</style>\n",
       "<table border=\"1\" class=\"dataframe\">\n",
       "  <thead>\n",
       "    <tr style=\"text-align: right;\">\n",
       "      <th></th>\n",
       "      <th>variable_0</th>\n",
       "      <th>variable_1</th>\n",
       "      <th>correlation</th>\n",
       "    </tr>\n",
       "  </thead>\n",
       "  <tbody>\n",
       "    <tr>\n",
       "      <th>0</th>\n",
       "      <td>funded_amnt</td>\n",
       "      <td>loan_amnt</td>\n",
       "      <td>1.000000</td>\n",
       "    </tr>\n",
       "    <tr>\n",
       "      <th>1</th>\n",
       "      <td>funded_amnt_inv</td>\n",
       "      <td>loan_amnt</td>\n",
       "      <td>0.999994</td>\n",
       "    </tr>\n",
       "    <tr>\n",
       "      <th>2</th>\n",
       "      <td>funded_amnt_inv</td>\n",
       "      <td>funded_amnt</td>\n",
       "      <td>0.999994</td>\n",
       "    </tr>\n",
       "    <tr>\n",
       "      <th>3</th>\n",
       "      <td>open_il_24m</td>\n",
       "      <td>open_il_12m</td>\n",
       "      <td>0.760552</td>\n",
       "    </tr>\n",
       "    <tr>\n",
       "      <th>4</th>\n",
       "      <td>open_rv_24m</td>\n",
       "      <td>open_rv_12m</td>\n",
       "      <td>0.767262</td>\n",
       "    </tr>\n",
       "  </tbody>\n",
       "</table>\n",
       "</div>"
      ],
      "text/plain": [
       "        variable_0   variable_1  correlation\n",
       "0      funded_amnt    loan_amnt     1.000000\n",
       "1  funded_amnt_inv    loan_amnt     0.999994\n",
       "2  funded_amnt_inv  funded_amnt     0.999994\n",
       "3      open_il_24m  open_il_12m     0.760552\n",
       "4      open_rv_24m  open_rv_12m     0.767262"
      ]
     },
     "execution_count": 33,
     "metadata": {},
     "output_type": "execute_result"
    }
   ],
   "source": [
    "# calculate correlation coefficient of the numeric variables\n",
    "num_df = df.select_dtypes(include=['float']).copy()\n",
    "cor = num_df.corr()\n",
    "\n",
    "# find the highly correlated variables\n",
    "cor.loc[:,:] = np.tril(cor, k=-1) # below main lower triangle of an array\n",
    "cor = pd.DataFrame(cor.stack())\n",
    "cor.rename(columns = {0 :'correlation'}, inplace = True)\n",
    "cor_75 = cor[(cor.correlation > 0.75) | (cor.correlation < -0.75)]\n",
    "cor_75 = cor_75.reset_index()\n",
    "cor_75.rename(columns={'level_0':'variable_0', 'level_1':'variable_1'}, inplace=True)\n",
    "cor_75.head()"
   ]
  },
  {
   "cell_type": "code",
   "execution_count": 34,
   "metadata": {},
   "outputs": [
    {
     "name": "stdout",
     "output_type": "stream",
     "text": [
      "{'open_il_24m', 'loan_amnt', 'acc_open_past_24mths', 'revol_bal', 'open_rv_12m', 'mths_since_last_delinq', 'mths_since_recent_revol_delinq', 'avg_cur_bal', 'funded_amnt', 'mths_since_recent_bc_dlq', 'tot_cur_bal', 'open_il_12m', 'open_rv_24m', 'total_rev_hi_lim', 'funded_amnt_inv'}\n"
     ]
    }
   ],
   "source": [
    "#slice the first ten correlated pair of variables\n",
    "a = cor_75.variable_0.values[:10]\n",
    "b = cor_75.variable_1.values[:10]\n",
    "c = list(a) + list(b)\n",
    "c = set(c)\n",
    "print(c)"
   ]
  },
  {
   "cell_type": "code",
   "execution_count": 35,
   "metadata": {},
   "outputs": [
    {
     "data": {
      "image/png": "[encoded data removed]",
      "text/plain": [
       "<matplotlib.figure.Figure at 0x1fa02443748>"
      ]
     },
     "metadata": {},
     "output_type": "display_data"
    }
   ],
   "source": [
    "# correlation hotmap for the selected variables\n",
    "high_cor = num_df[['acc_open_past_24mths','avg_cur_bal','funded_amnt','funded_amnt_inv','loan_amnt','mths_since_last_delinq',\n",
    " 'mths_since_recent_bc_dlq','mths_since_recent_revol_delinq','open_il_12m','open_il_24m','open_rv_12m','open_rv_24m','revol_bal',\n",
    " 'tot_cur_bal','total_rev_hi_lim']]\n",
    "high_corr = high_cor.corr()\n",
    "mask = np.zeros_like(high_corr)\n",
    "mask[np.triu_indices_from(mask)] = True\n",
    "with sns.axes_style(\"white\"):\n",
    "    ax = sns.heatmap(high_corr, mask=mask, vmax=1, square=True)"
   ]
  },
  {
   "cell_type": "markdown",
   "metadata": {},
   "source": [
    "### Chi squrare test for the loan status and employment title"
   ]
  },
  {
   "cell_type": "markdown",
   "metadata": {},
   "source": [
    " it tests whether the distribution of sample categorical data matches an expected distribution."
   ]
  },
  {
   "cell_type": "code",
   "execution_count": 36,
   "metadata": {
    "collapsed": true
   },
   "outputs": [],
   "source": [
    "def create_table(DF, col, colcats): \n",
    "    df = DF[DF[col].isin(colcats)][[ 'loan_status', col]]\n",
    "    Con_Table = pd.crosstab(df.loan_status, df[col], margins=True) \n",
    "    Con_Table.columns =  colcats +['row_totals']\n",
    "    Con_Table.index = ['good','bad', 'col_totals']\n",
    "    return Con_Table, df "
   ]
  },
  {
   "cell_type": "code",
   "execution_count": 37,
   "metadata": {},
   "outputs": [
    {
     "data": {
      "text/html": [
       "<div>\n",
       "<style>\n",
       "    .dataframe thead tr:only-child th {\n",
       "        text-align: right;\n",
       "    }\n",
       "\n",
       "    .dataframe thead th {\n",
       "        text-align: left;\n",
       "    }\n",
       "\n",
       "    .dataframe tbody tr th {\n",
       "        vertical-align: top;\n",
       "    }\n",
       "</style>\n",
       "<table border=\"1\" class=\"dataframe\">\n",
       "  <thead>\n",
       "    <tr style=\"text-align: right;\">\n",
       "      <th></th>\n",
       "      <th>teacher</th>\n",
       "      <th>manager</th>\n",
       "      <th>registered nurse</th>\n",
       "      <th>owner</th>\n",
       "      <th>supervisor</th>\n",
       "      <th>driver</th>\n",
       "      <th>sales</th>\n",
       "      <th>office manager</th>\n",
       "      <th>project manager</th>\n",
       "      <th>general manager</th>\n",
       "      <th>row_totals</th>\n",
       "    </tr>\n",
       "  </thead>\n",
       "  <tbody>\n",
       "    <tr>\n",
       "      <th>good</th>\n",
       "      <td>817</td>\n",
       "      <td>403</td>\n",
       "      <td>1319</td>\n",
       "      <td>379</td>\n",
       "      <td>987</td>\n",
       "      <td>313</td>\n",
       "      <td>1044</td>\n",
       "      <td>610</td>\n",
       "      <td>642</td>\n",
       "      <td>1162</td>\n",
       "      <td>7676</td>\n",
       "    </tr>\n",
       "    <tr>\n",
       "      <th>bad</th>\n",
       "      <td>3046</td>\n",
       "      <td>2159</td>\n",
       "      <td>7639</td>\n",
       "      <td>2447</td>\n",
       "      <td>5114</td>\n",
       "      <td>2421</td>\n",
       "      <td>6944</td>\n",
       "      <td>3149</td>\n",
       "      <td>3438</td>\n",
       "      <td>8794</td>\n",
       "      <td>45151</td>\n",
       "    </tr>\n",
       "    <tr>\n",
       "      <th>col_totals</th>\n",
       "      <td>3863</td>\n",
       "      <td>2562</td>\n",
       "      <td>8958</td>\n",
       "      <td>2826</td>\n",
       "      <td>6101</td>\n",
       "      <td>2734</td>\n",
       "      <td>7988</td>\n",
       "      <td>3759</td>\n",
       "      <td>4080</td>\n",
       "      <td>9956</td>\n",
       "      <td>52827</td>\n",
       "    </tr>\n",
       "  </tbody>\n",
       "</table>\n",
       "</div>"
      ],
      "text/plain": [
       "            teacher  manager  registered nurse  owner  supervisor  driver  \\\n",
       "good            817      403              1319    379         987     313   \n",
       "bad            3046     2159              7639   2447        5114    2421   \n",
       "col_totals     3863     2562              8958   2826        6101    2734   \n",
       "\n",
       "            sales  office manager  project manager  general manager  \\\n",
       "good         1044             610              642             1162   \n",
       "bad          6944            3149             3438             8794   \n",
       "col_totals   7988            3759             4080             9956   \n",
       "\n",
       "            row_totals  \n",
       "good              7676  \n",
       "bad              45151  \n",
       "col_totals       52827  "
      ]
     },
     "execution_count": 37,
     "metadata": {},
     "output_type": "execute_result"
    }
   ],
   "source": [
    "Con_Table, df = create_table(df1, 'emp_title', emp_title_categories)\n",
    "Con_Table"
   ]
  },
  {
   "cell_type": "code",
   "execution_count": 38,
   "metadata": {},
   "outputs": [
    {
     "data": {
      "text/html": [
       "<div>\n",
       "<style>\n",
       "    .dataframe thead tr:only-child th {\n",
       "        text-align: right;\n",
       "    }\n",
       "\n",
       "    .dataframe thead th {\n",
       "        text-align: left;\n",
       "    }\n",
       "\n",
       "    .dataframe tbody tr th {\n",
       "        vertical-align: top;\n",
       "    }\n",
       "</style>\n",
       "<table border=\"1\" class=\"dataframe\">\n",
       "  <thead>\n",
       "    <tr style=\"text-align: right;\">\n",
       "      <th></th>\n",
       "      <th>teacher</th>\n",
       "      <th>manager</th>\n",
       "      <th>registered nurse</th>\n",
       "      <th>owner</th>\n",
       "      <th>supervisor</th>\n",
       "      <th>driver</th>\n",
       "      <th>sales</th>\n",
       "      <th>office manager</th>\n",
       "      <th>project manager</th>\n",
       "      <th>general manager</th>\n",
       "    </tr>\n",
       "  </thead>\n",
       "  <tbody>\n",
       "    <tr>\n",
       "      <th>good</th>\n",
       "      <td>561.311223</td>\n",
       "      <td>372.270089</td>\n",
       "      <td>1301.637572</td>\n",
       "      <td>410.630473</td>\n",
       "      <td>886.50266</td>\n",
       "      <td>397.26246</td>\n",
       "      <td>1160.692222</td>\n",
       "      <td>546.199557</td>\n",
       "      <td>592.842297</td>\n",
       "      <td>1446.651447</td>\n",
       "    </tr>\n",
       "    <tr>\n",
       "      <th>bad</th>\n",
       "      <td>3301.688777</td>\n",
       "      <td>2189.729911</td>\n",
       "      <td>7656.362428</td>\n",
       "      <td>2415.369527</td>\n",
       "      <td>5214.49734</td>\n",
       "      <td>2336.73754</td>\n",
       "      <td>6827.307778</td>\n",
       "      <td>3212.800443</td>\n",
       "      <td>3487.157703</td>\n",
       "      <td>8509.348553</td>\n",
       "    </tr>\n",
       "  </tbody>\n",
       "</table>\n",
       "</div>"
      ],
      "text/plain": [
       "          teacher      manager  registered nurse        owner  supervisor  \\\n",
       "good   561.311223   372.270089       1301.637572   410.630473   886.50266   \n",
       "bad   3301.688777  2189.729911       7656.362428  2415.369527  5214.49734   \n",
       "\n",
       "          driver        sales  office manager  project manager  \\\n",
       "good   397.26246  1160.692222      546.199557       592.842297   \n",
       "bad   2336.73754  6827.307778     3212.800443      3487.157703   \n",
       "\n",
       "      general manager  \n",
       "good      1446.651447  \n",
       "bad       8509.348553  "
      ]
     },
     "execution_count": 38,
     "metadata": {},
     "output_type": "execute_result"
    }
   ],
   "source": [
    "# get observed value and expected value\n",
    "observed = Con_Table.iloc[0:2, 0:10]\n",
    "\n",
    "expected =  np.outer(Con_Table[\"row_totals\"][0:2],\n",
    "                     Con_Table.iloc[2, 0:10]) / 52827\n",
    "\n",
    "expected = pd.DataFrame(expected)\n",
    "\n",
    "expected.columns = emp_title_categories\n",
    "expected.index = ['good','bad']\n",
    "\n",
    "expected"
   ]
  },
  {
   "cell_type": "code",
   "execution_count": 39,
   "metadata": {},
   "outputs": [
    {
     "name": "stdout",
     "output_type": "stream",
     "text": [
      "chi_squared_stat: 269.3493768308436\n",
      "Critical value: 21.0260698175\n",
      "P value: 0.0\n"
     ]
    }
   ],
   "source": [
    "import scipy.stats as stats\n",
    "def chi_square_test(freedom):\n",
    "    # chi square statistics\n",
    "    chi_squared_stat = (((observed-expected)**2)/expected).sum().sum()\n",
    "\n",
    "    print('chi_squared_stat: ' + str(chi_squared_stat))\n",
    "\n",
    "    crit = stats.chi2.ppf(q = 0.95, # Find the critical value for 95% confidence*\n",
    "                          df = freedom)  \n",
    "\n",
    "    print(\"Critical value: \" + str(crit))\n",
    "\n",
    "    p_value = 1 - stats.chi2.cdf(x=chi_squared_stat,  # Find the p-value\n",
    "                                df=freedom)\n",
    "    print(\"P value: \" + str(p_value))\n",
    "\n",
    "chi_square_test(12)"
   ]
  },
  {
   "cell_type": "markdown",
   "metadata": {},
   "source": [
    "### Chi square test for loan status and home ownership"
   ]
  },
  {
   "cell_type": "code",
   "execution_count": 40,
   "metadata": {},
   "outputs": [
    {
     "data": {
      "text/html": [
       "<div>\n",
       "<style>\n",
       "    .dataframe thead tr:only-child th {\n",
       "        text-align: right;\n",
       "    }\n",
       "\n",
       "    .dataframe thead th {\n",
       "        text-align: left;\n",
       "    }\n",
       "\n",
       "    .dataframe tbody tr th {\n",
       "        vertical-align: top;\n",
       "    }\n",
       "</style>\n",
       "<table border=\"1\" class=\"dataframe\">\n",
       "  <thead>\n",
       "    <tr style=\"text-align: right;\">\n",
       "      <th></th>\n",
       "      <th>MORTGAGE</th>\n",
       "      <th>RENT</th>\n",
       "      <th>OWN</th>\n",
       "      <th>row_totals</th>\n",
       "    </tr>\n",
       "  </thead>\n",
       "  <tbody>\n",
       "    <tr>\n",
       "      <th>good</th>\n",
       "      <td>25314</td>\n",
       "      <td>6778</td>\n",
       "      <td>28354</td>\n",
       "      <td>60446</td>\n",
       "    </tr>\n",
       "    <tr>\n",
       "      <th>bad</th>\n",
       "      <td>182369</td>\n",
       "      <td>38988</td>\n",
       "      <td>139290</td>\n",
       "      <td>360647</td>\n",
       "    </tr>\n",
       "    <tr>\n",
       "      <th>col_totals</th>\n",
       "      <td>207683</td>\n",
       "      <td>45766</td>\n",
       "      <td>167644</td>\n",
       "      <td>421093</td>\n",
       "    </tr>\n",
       "  </tbody>\n",
       "</table>\n",
       "</div>"
      ],
      "text/plain": [
       "            MORTGAGE   RENT     OWN  row_totals\n",
       "good           25314   6778   28354       60446\n",
       "bad           182369  38988  139290      360647\n",
       "col_totals    207683  45766  167644      421093"
      ]
     },
     "execution_count": 40,
     "metadata": {},
     "output_type": "execute_result"
    }
   ],
   "source": [
    "Con_Table, df = create_table(df1, 'home_ownership', home_ownership_categories)\n",
    "Con_Table"
   ]
  },
  {
   "cell_type": "code",
   "execution_count": 41,
   "metadata": {
    "collapsed": true
   },
   "outputs": [],
   "source": [
    "# get observed value and expected value\n",
    "observed = Con_Table.iloc[0:2, 0:3]\n",
    "\n",
    "expected =  np.outer(Con_Table[\"row_totals\"][0:2],\n",
    "                     Con_Table.iloc[2, 0:3]) / 421093\n",
    "\n",
    "expected = pd.DataFrame(expected)\n",
    "\n",
    "expected.columns = home_ownership_categories\n",
    "expected.index = ['good','bad']"
   ]
  },
  {
   "cell_type": "code",
   "execution_count": 42,
   "metadata": {},
   "outputs": [
    {
     "name": "stdout",
     "output_type": "stream",
     "text": [
      "chi_squared_stat: 1692.8473338733406\n",
      "Critical value: 11.0704976935\n",
      "P value: 0.0\n"
     ]
    }
   ],
   "source": [
    "chi_square_test(5)"
   ]
  },
  {
   "cell_type": "markdown",
   "metadata": {},
   "source": [
    "### Kruskal-Wallis H-test for the median of employment length of different loan status"
   ]
  },
  {
   "cell_type": "code",
   "execution_count": 43,
   "metadata": {},
   "outputs": [
    {
     "data": {
      "text/plain": [
       "loan_status\n",
       "bad loan     5.0\n",
       "good loan    6.0\n",
       "Name: emp_length, dtype: float64"
      ]
     },
     "execution_count": 43,
     "metadata": {},
     "output_type": "execute_result"
    }
   ],
   "source": [
    "median_emp_length = df1.groupby('loan_status')['emp_length'].median()\n",
    "median_emp_length"
   ]
  },
  {
   "cell_type": "markdown",
   "metadata": {},
   "source": [
    "The Kruskal-Wallis H-test tests the null hypothesis that the population median of all of the groups are equal. It is a non-parametric version of ANOVA. The test works on 2 or more independent samples, which may have different sizes. Note that rejecting the null hypothesis does not indicate which of the groups differs. Post-hoc comparisons between groups are required to determine which groups are different."
   ]
  },
  {
   "cell_type": "code",
   "execution_count": 44,
   "metadata": {},
   "outputs": [
    {
     "name": "stdout",
     "output_type": "stream",
     "text": [
      "Kruskal Wallis H-test test:\n",
      "H-statistic: 189435635.441\n",
      "P-Value: 0.0\n",
      "Reject NULL hypothesis - Significant differences exist between groups.\n"
     ]
    },
    {
     "name": "stderr",
     "output_type": "stream",
     "text": [
      "C:\\Users\\yepeng\\Anaconda3\\lib\\site-packages\\scipy\\stats\\stats.py:5056: RuntimeWarning: overflow encountered in long_scalars\n",
      "  h = 12.0 / (totaln * (totaln + 1)) * ssbn - 3 * (totaln + 1)\n"
     ]
    }
   ],
   "source": [
    "g_loan = df1[df1.loan_status == 'good loan'][['emp_length']]\n",
    "a = g_loan['emp_length']\n",
    "\n",
    "b_loan = df1[df1.loan_status == 'bad loan'][['emp_length']]\n",
    "b = b_loan['emp_length']\n",
    "\n",
    "print(\"Kruskal Wallis H-test test:\")\n",
    "\n",
    "H, pval = stats.kruskal(a, b)\n",
    "\n",
    "print(\"H-statistic:\", H)\n",
    "print(\"P-Value:\", pval)\n",
    "\n",
    "if pval < 0.05:\n",
    "    print(\"Reject NULL hypothesis - Significant differences exist between groups.\")\n",
    "if pval > 0.05:\n",
    "    print(\"Accept NULL hypothesis - No significant difference between groups.\")"
   ]
  },
  {
   "cell_type": "markdown",
   "metadata": {},
   "source": [
    "### Two sample t-test for the mean of unemployment rate in good loan borrowers and bad loan borrowers"
   ]
  },
  {
   "cell_type": "code",
   "execution_count": 45,
   "metadata": {},
   "outputs": [
    {
     "data": {
      "text/plain": [
       "loan_status\n",
       "bad loan     5.554778\n",
       "good loan    5.494133\n",
       "Name: Rate, dtype: float64"
      ]
     },
     "execution_count": 45,
     "metadata": {},
     "output_type": "execute_result"
    }
   ],
   "source": [
    "mean_unemp_rate = df1.groupby('loan_status')['Rate'].mean()\n",
    "mean_unemp_rate "
   ]
  },
  {
   "cell_type": "code",
   "execution_count": 46,
   "metadata": {},
   "outputs": [
    {
     "name": "stdout",
     "output_type": "stream",
     "text": [
      "ttest_ind:            t = -9.58285  p = 9.71499e-22\n"
     ]
    }
   ],
   "source": [
    "good_loan = df1[df1.loan_status == 'good loan'][['Rate']].dropna()\n",
    "x = good_loan['Rate']\n",
    "\n",
    "bad_loan = df1[df1.loan_status == 'bad loan'][['Rate']].dropna()\n",
    "y = bad_loan['Rate']\n",
    "\n",
    "t, p = stats.ttest_ind(x, y, equal_var=False)\n",
    "print(\"ttest_ind:            t = %g  p = %g\" % (t, p))"
   ]
  },
  {
   "cell_type": "markdown",
   "metadata": {},
   "source": [
    "### Statistical Analysis report\n",
    "\n",
    "\n",
    "1.correlation analysis\n",
    "\n",
    "There are more than 30 pairs of numeric variables highly correlate. Among them funded_amnt/loan_amnt funded_amnt_inv/loan_amnt and funded_amnt_inv/funded_amnt's correlation coefficient are close to 1.\n",
    "\n",
    "\n",
    "2.Chi squrare test for the loan status and employment title\n",
    "\n",
    "Hypothesis\n",
    "\n",
    "H 0  : In the population, variable'loan_status' and variable 'emp_title' are independent.\n",
    "H 1  : In the population, variable'loan_status' and variable 'emp_title' are dependent. \n",
    "\n",
    "Test statistics\n",
    "\n",
    "chi_squared_stat: 269.3493768308436\n",
    "Critical value: 21.0260698175\n",
    "P value: 0.0\n",
    "\n",
    "Conclusion:\n",
    "\n",
    "We reject H 0 and consider variable'loan_status' and variable 'emp_title are dependent. In other words loan status dependend on what kind of employment title of the borrowers.\n",
    "\n",
    "3.Chi square test for loan status and home ownership\n",
    "\n",
    "Hypothesis\n",
    "\n",
    "H 0  : In the population, variable'loan_status' and variable 'home_ownership' are independent.\n",
    "H 1  : In the population, variable'loan_status' and variable 'home_ownership' are dependent.\n",
    "\n",
    "Test Statistics\n",
    "\n",
    "chi_squared_stat: 1692.8473338733406\n",
    "Critical value: 11.0704976935\n",
    "P value: 0.0\n",
    "\n",
    "Conclusion:\n",
    "\n",
    "We reject H 0 and consider variable'loan_status' and variable 'home_ownership' are dependent. It means loan status dependend on whether borrowers are renting a home or have purchased house.\n",
    "\n",
    "4.Kruskal-Wallis H-test for the median of employment length of different loan status\n",
    "\n",
    "The Kruskal-Wallis H-test tests the null hypothesis that the population median of all of the groups are equal. It is a non-parametric version of ANOVA. The test works on 2 or more independent samples, which may have different sizes. Note that rejecting the null hypothesis does not indicate which of the groups differs. Post-hoc comparisons between groups are required to determine which groups are different.\n",
    "\n",
    "Hypothersis:\n",
    "\n",
    "H 0: The population median of employment length in good loan borrowers and bad loan borrowers are equal.\n",
    "H 1: The population median of employment length in good loan borrowers and bad loan borrowers are not equal.\n",
    "\n",
    "Test statistics:\n",
    "\n",
    "Kruskal Wallis H-test test:\n",
    "H-statistic: 189435635.441\n",
    "P-Value: 0.0\n",
    "\n",
    "Conclusion:We reject H 0 and consider the population median of employment length in good loan borrowers and bad loan borrowers are equal. The median of good loan borrowers' employment length is higher than that of bad loan borrowers.\n",
    "\n",
    "5. Two sample t-test for the mean of unemployment rate in good loan borrowers and bad loan borrowers\n",
    "\n",
    "Hypothesis:\n",
    "\n",
    "H 0: The population mean of unemployment rate of good loan borrowers and bad loan borrowers are equal.\n",
    "H 1: The population mean of unemployment rate of good loan borrowers and bad loan borrowers are not equal.\n",
    "\n",
    "Test statistics:\n",
    "\n",
    "ttest_ind:            t = -9.58285  p = 9.71499e-22\n",
    "\n",
    "Conclusions:\n",
    "\n",
    "We reject H0 and consider the mean of unemployment rate of good loan borrowers is lower than that of the bad loan borrowers."
   ]
  },
  {
   "cell_type": "code",
   "execution_count": 23,
   "metadata": {
    "collapsed": true
   },
   "outputs": [],
   "source": [
    "from sklearn.model_selection import train_test_split\n",
    "from sklearn.tree import DecisionTreeClassifier\n",
    "from sklearn.metrics import accuracy_score\n",
    "from sklearn import tree"
   ]
  },
  {
   "cell_type": "markdown",
   "metadata": {},
   "source": [
    "The date the borrower's earliest reported credit line was opened"
   ]
  },
  {
   "cell_type": "markdown",
   "metadata": {},
   "source": [
    "Revolving line utilization rate, or the amount of credit the borrower is using relative to revolving credit"
   ]
  },
  {
   "cell_type": "markdown",
   "metadata": {},
   "source": [
    "home_ownership               421095 non-null object\n",
    "verification_status          421095 non-null object\n",
    "loan_status                  421095 non-null object\n",
    "pymnt_plan                   421095 non-null object\n",
    "* desc                         45 non-null object\n",
    "purpose                      421095 non-null object\n",
    "* title                        420963 non-null object\n",
    "* zip_code                     421095 non-null object\n",
    "* addr_state                   421095 non-null object\n",
    "earliest_cr_line             421095 non-null object\n",
    "* revol_util                   420933 non-null object\n",
    "initial_list_status          421095 non-null object\n",
    "application_type             421095 non-null object\n",
    "verification_status_joint"
   ]
  },
  {
   "cell_type": "code",
   "execution_count": 24,
   "metadata": {},
   "outputs": [
    {
     "data": {
      "text/plain": [
       "good loan    360649\n",
       "bad loan      60446\n",
       "NaN               2\n",
       "Name: loan_status, dtype: int64"
      ]
     },
     "execution_count": 24,
     "metadata": {},
     "output_type": "execute_result"
    }
   ],
   "source": [
    "df1['loan_status'].value_counts(dropna=False)"
   ]
  },
  {
   "cell_type": "code",
   "execution_count": 25,
   "metadata": {},
   "outputs": [
    {
     "data": {
      "text/plain": [
       "good loan    360649\n",
       "bad loan      60446\n",
       "Name: loan_status, dtype: int64"
      ]
     },
     "execution_count": 25,
     "metadata": {},
     "output_type": "execute_result"
    }
   ],
   "source": [
    "df2 = df1.dropna(subset=['loan_status'])\n",
    "df2['loan_status'].value_counts(dropna=False)"
   ]
  },
  {
   "cell_type": "code",
   "execution_count": 26,
   "metadata": {},
   "outputs": [
    {
     "data": {
      "text/plain": [
       "array(['Sep-1994', 'Aug-2009', 'Jan-2005', 'Oct-1982', 'Aug-2001',\n",
       "       'Jun-1995', 'Jun-2005', 'Aug-2004', 'Apr-2001', 'May-1992',\n",
       "       'Dec-2001', 'Sep-2003', 'Feb-1999', 'Feb-2004', 'Apr-1994',\n",
       "       'Oct-2004', 'Jul-2004', 'Dec-1997', 'Sep-2007', 'Jul-2001',\n",
       "       'Sep-2000', 'Apr-2002', 'May-1994', 'Mar-2002', 'May-2004',\n",
       "       'Nov-2001', 'Aug-2000', 'Jun-1996', 'Oct-1999', 'Aug-1986',\n",
       "       'Aug-2008', 'Nov-1999', 'Apr-2007', 'Jan-2002', 'Jan-2007',\n",
       "       'Feb-1990', 'Jun-1997', 'Jun-2002', 'Sep-2002', 'May-2006',\n",
       "       'Dec-1985', 'Jun-1990', 'Oct-2011', 'Jun-2007', 'Jan-1999',\n",
       "       'Aug-1987', 'Jul-2011', 'Feb-2002', 'Sep-2006', 'Jun-2000',\n",
       "       'Nov-1994', 'Oct-2005', 'Oct-1987', 'Jun-2004', 'Nov-2000',\n",
       "       'Feb-1989', 'Sep-2004', 'Dec-2002', 'Jan-1998', 'May-2000',\n",
       "       'Nov-2002', 'Dec-1998', 'Jun-2001', 'Sep-2008', 'May-2001',\n",
       "       'Sep-2001', 'Dec-1987', 'Jun-1998', 'Feb-2012', 'Apr-1993',\n",
       "       'Mar-2005', 'Oct-1998', 'Oct-1996', 'Oct-2006', 'Feb-1988',\n",
       "       'May-1984', 'Jan-1996', 'Jun-2006', 'Jan-2011', 'Jan-2001',\n",
       "       'Mar-2001', 'May-2002', 'Feb-1996', 'May-2008', 'Dec-1999',\n",
       "       'Apr-1995', 'Oct-2002', 'Aug-1997', 'Aug-2003', 'Nov-2003',\n",
       "       'Nov-2005', 'May-1991', 'Apr-2003', 'Nov-1993', 'Nov-2009',\n",
       "       'Sep-1993', 'Jun-1991', 'Apr-1990', 'Apr-2005', 'Sep-1989',\n",
       "       'Jul-1998', 'May-1996', 'May-2009', 'Feb-2000', 'Feb-1987',\n",
       "       'Aug-1974', 'Dec-2000', 'Sep-1990', 'May-1998', 'Oct-1994',\n",
       "       'Apr-1983', 'Dec-2005', 'Nov-2004', 'Mar-2009', 'Mar-1994',\n",
       "       'Oct-2003', 'Sep-1984', 'Mar-1997', 'May-1999', 'Apr-1989',\n",
       "       'Jul-2000', 'Jun-1983', 'May-1993', 'Feb-2010', 'Jul-1994',\n",
       "       'Dec-2007', 'Sep-1983', 'Aug-1984', 'Nov-1996', 'Oct-1993',\n",
       "       'Aug-2007', 'Sep-1977', 'Jun-1981', 'Aug-1999', 'Jul-1996',\n",
       "       'Apr-2004', 'Jan-1986', 'Aug-2011', 'Oct-2009', 'Mar-1993',\n",
       "       'May-2003', 'Oct-2000', 'Dec-2004', 'Oct-2008', 'Mar-2000',\n",
       "       'Aug-2002', 'Oct-1989', 'Sep-2009', 'Nov-1985', 'Aug-1998',\n",
       "       'Mar-1999', 'Mar-1996', 'Feb-1995', 'Jan-2004', 'Jul-2003',\n",
       "       'Dec-1977', 'Jun-1999', 'Apr-1991', 'Nov-1991', 'Dec-2009',\n",
       "       'Mar-2004', 'Jan-1997', 'May-2012', 'Jun-1986', 'Jul-2007',\n",
       "       'Aug-1996', 'Jul-1995', 'Aug-1989', 'Apr-1992', 'Jan-2008',\n",
       "       'Feb-2008', 'Oct-1991', 'Apr-2006', 'Nov-1983', 'Oct-1979',\n",
       "       'May-1989', 'Dec-1983', 'Jan-1993', 'Feb-2005', 'Sep-1987',\n",
       "       'Jan-1957', 'Feb-2001', 'Mar-2012', 'Nov-1998', 'Nov-1987',\n",
       "       'Dec-2006', 'Sep-2010', 'Jul-1993', 'Apr-1988', 'May-1985',\n",
       "       'Nov-2006', 'Sep-1991', 'Oct-2001', 'Nov-1984', 'Jan-1994',\n",
       "       'May-1988', 'Sep-1998', 'Aug-1985', 'May-1982', 'Jan-1991',\n",
       "       'Aug-2005', 'Mar-1973', 'Jul-1989', 'Mar-2003', 'Sep-1995',\n",
       "       'Aug-2010', 'Mar-1980', 'Dec-2011', 'Nov-2011', 'Jan-1988',\n",
       "       'Dec-2003', 'Jan-2003', 'Jun-2003', 'Dec-1986', 'Aug-1995',\n",
       "       'Nov-2007', 'Nov-1988', 'Jul-1987', 'Oct-2007', 'Feb-1979',\n",
       "       'Jul-1992', 'Jul-2005', 'Oct-1995', 'Sep-1988', 'Jun-1987',\n",
       "       'Jul-2009', 'Feb-1998', 'Dec-1996', 'Jul-1984', 'Apr-1980',\n",
       "       'Apr-2011', 'Mar-1998', 'Apr-1999', 'Apr-2012', 'Feb-1997',\n",
       "       'Jun-1992', 'Oct-1985', 'Apr-1985', 'Mar-1991', 'Mar-2007',\n",
       "       'Sep-1997', 'Jul-1999', 'Apr-2000', 'Nov-1992', 'Apr-1998',\n",
       "       'Feb-2007', 'May-1980', 'Dec-1989', 'Nov-1990', 'Mar-2008',\n",
       "       'Nov-1997', 'Feb-1980', 'Jul-2008', 'Jul-1968', 'Feb-1992',\n",
       "       'Jan-1982', 'Dec-1982', 'Jun-1985', 'Feb-1984', 'May-1995',\n",
       "       'Dec-1993', 'May-1997', 'Nov-1986', 'Aug-1988', 'Aug-2006',\n",
       "       'Mar-1989', 'Mar-1978', 'Jul-1990', 'Jan-1983', 'Apr-1987',\n",
       "       'Jun-1977', 'Jan-2006', 'Feb-2009', 'Jun-1994', 'Aug-1964',\n",
       "       'Sep-1976', 'Jul-1985', 'Jan-1992', 'Feb-1982', 'Jan-2000',\n",
       "       'May-2011', 'Mar-1990', 'Oct-1984', 'May-1990', 'Jul-2012',\n",
       "       'Mar-2006', 'Feb-1994', 'Jun-2008', 'Jun-2010', 'May-1986',\n",
       "       'Feb-2003', 'Jan-1990', 'Mar-2011', 'Nov-1989', 'Mar-1986',\n",
       "       'Nov-2012', 'Oct-1990', 'May-1981', 'Feb-1985', 'Dec-1995',\n",
       "       'Nov-1978', 'Apr-1982', 'Apr-1976', 'Apr-1996', 'Oct-1997',\n",
       "       'Aug-1993', 'Jan-1989', 'Jul-1988', 'Aug-1981', 'Jun-1993',\n",
       "       'Dec-1988', 'Oct-1983', 'May-1987', 'Nov-1995', 'Aug-1991',\n",
       "       'Sep-1992', 'Sep-1999', 'Jul-2006', 'Aug-1983', 'Jan-1972',\n",
       "       'Jul-1982', 'Sep-1975', 'Jun-2009', 'Dec-2010', 'May-2005',\n",
       "       'Apr-2008', 'Jul-1977', 'Apr-1975', 'Oct-1978', 'Sep-1978',\n",
       "       'Oct-1986', 'May-2010', 'Jan-1977', 'Feb-1991', 'Dec-1990',\n",
       "       'Jan-1979', 'Dec-1992', 'Feb-2011', 'Jul-1991', 'Jul-1997',\n",
       "       'Mar-1979', 'Feb-1983', 'Oct-1988', 'Dec-1994', 'Mar-1969',\n",
       "       'Dec-2008', 'Feb-1993', 'Jan-1987', 'Aug-1980', 'Jul-1974',\n",
       "       'Mar-1987', 'Mar-1981', 'Sep-2011', 'Oct-1992', 'Aug-1990',\n",
       "       'Aug-1992', 'Dec-1981', 'Aug-2012', 'Jul-2002', 'Apr-1977',\n",
       "       'Jun-1989', 'Mar-1988', 'Mar-1992', 'Jun-1978', 'Jun-1969',\n",
       "       'Jul-1986', 'Feb-2006', 'Apr-1997', 'Sep-1981', 'Dec-1991',\n",
       "       'Apr-1969', 'Oct-2012', 'Dec-1975', 'May-1983', 'Jul-1978',\n",
       "       'Jul-2010', 'Jun-2012', 'Oct-1980', 'Oct-2010', 'Aug-1975',\n",
       "       'Apr-1970', 'Jan-1978', 'Aug-1994', 'Oct-1974', 'Jan-1995',\n",
       "       'Jan-2012', 'Jun-1988', 'Apr-1984', 'Apr-2010', 'Jan-1965',\n",
       "       'Sep-2005', 'Mar-1972', 'Mar-1995', 'Jun-1984', 'Oct-1973',\n",
       "       'Jul-1983', 'Jan-2009', 'Jun-1982', 'Mar-1984', 'Jun-2011',\n",
       "       'Dec-1980', 'Mar-1982', 'May-1978', 'Nov-2010', 'Jan-1981',\n",
       "       'Mar-2010', 'Apr-2009', 'Apr-1986', 'Jan-2010', 'Aug-1978',\n",
       "       'Dec-1984', 'Sep-1996', 'Jan-1974', 'Sep-2012', 'Sep-1982',\n",
       "       'Apr-1974', 'Feb-1977', 'Nov-1969', 'Aug-1977', 'Sep-1964',\n",
       "       'Apr-1973', 'Sep-1979', 'Jan-1973', 'Jan-1985', 'May-2007',\n",
       "       'May-1966', 'Mar-1985', 'Sep-1985', 'Dec-1978', 'Nov-2008',\n",
       "       'Jun-1975', 'Mar-1974', 'Sep-1980', 'Jan-1984', 'Oct-1971',\n",
       "       'Oct-1975', 'Aug-1982', 'Sep-1986', 'Jun-1979', 'Nov-1979',\n",
       "       'Jul-1981', 'Feb-1975', 'Nov-1982', 'Mar-1977', 'Feb-1986',\n",
       "       'Jun-1974', 'May-1979', 'Jan-1976', 'Jun-1980', 'Oct-1981',\n",
       "       'Jun-1973', 'Apr-1965', 'Nov-1980', 'Sep-1962', 'Nov-1974',\n",
       "       'Oct-1976', 'Mar-1983', 'Jul-1979', 'May-1975', 'Apr-1968',\n",
       "       'Nov-1973', 'Jul-1976', 'Feb-1973', 'Jan-1971', 'Jul-1972',\n",
       "       'Jul-1980', 'Nov-1966', 'Nov-1981', 'May-1972', 'Dec-1976',\n",
       "       'Feb-1976', 'Jun-1970', 'Nov-1977', 'Jan-1968', 'Aug-1973',\n",
       "       'Jan-1980', 'Oct-1977', 'Feb-1978', 'Oct-1972', 'Jul-1965',\n",
       "       'Sep-1971', 'Aug-1969', 'Aug-1979', 'Sep-1965', 'Nov-1976',\n",
       "       'Nov-1965', 'Apr-1979', 'Sep-1974', 'Jan-1960', 'May-1977',\n",
       "       'Aug-1967', 'May-1976', 'Feb-1981', 'Apr-1978', 'Nov-1972',\n",
       "       'May-1973', 'Oct-1970', 'Jan-1967', 'Dec-1971', 'Apr-1972',\n",
       "       'Sep-1963', 'Nov-1971', 'Mar-1970', 'Jul-1969', 'Nov-1975',\n",
       "       'Aug-1976', 'Feb-1968', 'Jan-1975', 'Aug-1970', 'May-1974',\n",
       "       'Jan-1963', 'Dec-1965', 'Jan-1964', 'Dec-1962', 'Jun-1972',\n",
       "       'Aug-1972', 'Dec-1973', 'May-1971', 'May-1970', 'Feb-1972',\n",
       "       'Sep-1972', 'Jan-1969', 'Mar-1971', 'Apr-1966', 'Oct-1968',\n",
       "       'Feb-1969', 'Dec-1966', 'Feb-1971', 'Mar-1968', 'Dec-1979',\n",
       "       'Mar-1976', 'May-1967', 'Oct-1966', 'Dec-1970', 'Jan-1959',\n",
       "       'Nov-1968', 'Feb-1965', 'Jun-1976', 'Dec-1961', 'Sep-1970',\n",
       "       'Dec-1972', 'Jun-1971', 'Jun-1968', 'Jan-1961', 'Aug-1962',\n",
       "       'Sep-1969', 'May-1961', 'Feb-1970', 'Jul-1975', 'Dec-1958',\n",
       "       'Aug-1971', 'Mar-1967', 'Mar-1963', 'Jul-1963', 'Apr-1967',\n",
       "       'Dec-1974', 'Dec-1964', 'Mar-1975', 'Sep-1973', 'Oct-1958',\n",
       "       'Dec-1968', 'Jul-1973', 'Feb-1959', 'May-1969', 'Feb-1974',\n",
       "       'Apr-1981', 'Sep-1966', 'Jul-1971', 'Jan-1962', 'Jan-1950',\n",
       "       'Oct-1959', 'Aug-1968', 'Feb-1961', 'Jun-1965', 'Oct-1964',\n",
       "       'Oct-1962', 'Jun-1967', 'Nov-1970', 'Nov-1967', 'Sep-1961',\n",
       "       'Dec-1963', 'Mar-1962', 'Oct-1969', 'Jul-1970', 'Jan-1956',\n",
       "       'Jun-1962', 'May-1965', 'Jun-1966', 'Jun-1955', 'Jan-1970',\n",
       "       'May-1964', 'Feb-1967', 'Sep-1967', 'Aug-1966', 'Feb-1964',\n",
       "       'Dec-1967', 'Apr-1971', 'May-1968', 'Jul-1967', 'Jul-1966',\n",
       "       'Dec-1969', 'Jan-1966', 'Sep-1968', 'Jun-1963', 'Oct-1965',\n",
       "       'Oct-1963', 'Nov-1963', 'Apr-1963', 'Feb-1966', 'Sep-1953',\n",
       "       'Apr-1955', 'Aug-1959', 'May-1963', 'Jun-1958', 'Nov-1956',\n",
       "       'Jul-1959', 'Jan-1955', 'Mar-1966', 'Mar-1958', 'Dec-1959',\n",
       "       'Jan-1958', 'Apr-1962', 'Apr-1960', 'Nov-1957', 'Nov-1962',\n",
       "       'Jun-1964', 'May-1960', 'Oct-1967', 'Aug-1960', 'Jul-1962',\n",
       "       'May-1955', 'Mar-1960', 'Nov-1964', 'Aug-1951', 'Aug-1965',\n",
       "       'Sep-1959', 'Nov-1959', 'Apr-1964', 'Mar-1964', 'Jan-1953',\n",
       "       'Jun-1957', 'Mar-1965', 'Nov-1958', 'Sep-1956', 'May-1957',\n",
       "       'Mar-1961', 'May-1962', 'Aug-1961', 'Dec-1956', 'Jul-1964',\n",
       "       'Dec-1960', 'Aug-1963', 'Jan-1952', 'Mar-1955', 'Jul-1958',\n",
       "       'May-1959', 'Sep-1960', 'Oct-1961', 'Oct-1960', 'Jul-1951',\n",
       "       'Aug-1950', 'Aug-1955', 'Jun-1959', 'Apr-1958', 'Nov-1961',\n",
       "       'Jan-1954', 'Jan-1951', 'Jan-1944'], dtype=object)"
      ]
     },
     "execution_count": 26,
     "metadata": {},
     "output_type": "execute_result"
    }
   ],
   "source": [
    "df2['earliest_cr_line'].unique()"
   ]
  },
  {
   "cell_type": "code",
   "execution_count": 27,
   "metadata": {},
   "outputs": [
    {
     "data": {
      "text/plain": [
       "421095"
      ]
     },
     "execution_count": 27,
     "metadata": {},
     "output_type": "execute_result"
    }
   ],
   "source": [
    "import datetime as dt\n",
    "year_list = []\n",
    "for time in df2['earliest_cr_line']:\n",
    "    year = dt.datetime.strptime(time, '%b-%Y').year              \n",
    "    year_list.append(year)\n",
    "\n",
    "len(year_list)"
   ]
  },
  {
   "cell_type": "code",
   "execution_count": 28,
   "metadata": {},
   "outputs": [
    {
     "name": "stderr",
     "output_type": "stream",
     "text": [
      "C:\\Users\\yepeng\\Anaconda3\\lib\\site-packages\\pandas\\core\\indexing.py:517: SettingWithCopyWarning: \n",
      "A value is trying to be set on a copy of a slice from a DataFrame.\n",
      "Try using .loc[row_indexer,col_indexer] = value instead\n",
      "\n",
      "See the caveats in the documentation: http://pandas.pydata.org/pandas-docs/stable/indexing.html#indexing-view-versus-copy\n",
      "  self.obj[item] = s\n"
     ]
    }
   ],
   "source": [
    "df2.loc[:, 'earliest_cr_line'] = year_list"
   ]
  },
  {
   "cell_type": "code",
   "execution_count": 29,
   "metadata": {
    "collapsed": true
   },
   "outputs": [],
   "source": [
    "df3 = pd.get_dummies(df2, columns=['home_ownership', 'verification_status', 'pymnt_plan',\n",
    "                                   'purpose', 'initial_list_status', 'application_type', 'emp_title'])"
   ]
  },
  {
   "cell_type": "code",
   "execution_count": 30,
   "metadata": {},
   "outputs": [
    {
     "name": "stdout",
     "output_type": "stream",
     "text": [
      "<class 'pandas.core.frame.DataFrame'>\n",
      "Int64Index: 421095 entries, 0 to 421094\n",
      "Columns: 120 entries, emp_length to emp_title_teacher\n",
      "dtypes: float64(78), int64(1), object(3), uint8(38)\n",
      "memory usage: 281.9+ MB\n"
     ]
    }
   ],
   "source": [
    "df3.info()"
   ]
  },
  {
   "cell_type": "code",
   "execution_count": 31,
   "metadata": {
    "collapsed": true
   },
   "outputs": [],
   "source": [
    "df3 = df3.drop(['zip_code', 'state'], axis=1)"
   ]
  },
  {
   "cell_type": "code",
   "execution_count": 32,
   "metadata": {
    "collapsed": true
   },
   "outputs": [],
   "source": [
    "df3['loan_status'] = df3['loan_status'].map({'good loan':0,'bad loan':1})"
   ]
  },
  {
   "cell_type": "code",
   "execution_count": 33,
   "metadata": {},
   "outputs": [
    {
     "name": "stdout",
     "output_type": "stream",
     "text": [
      "<class 'pandas.core.frame.DataFrame'>\n",
      "Int64Index: 421095 entries, 0 to 421094\n",
      "Columns: 118 entries, emp_length to emp_title_teacher\n",
      "dtypes: float64(78), int64(2), uint8(38)\n",
      "memory usage: 275.5 MB\n"
     ]
    }
   ],
   "source": [
    "df3.info()"
   ]
  },
  {
   "cell_type": "code",
   "execution_count": 34,
   "metadata": {
    "collapsed": true
   },
   "outputs": [],
   "source": [
    "df4 = df3.drop('loan_status', axis = 1)"
   ]
  },
  {
   "cell_type": "code",
   "execution_count": 35,
   "metadata": {
    "collapsed": true
   },
   "outputs": [],
   "source": [
    "from sklearn.preprocessing import Imputer\n",
    "imputer = Imputer(missing_values='NaN', strategy='mean', axis=0)\n",
    "imputer = imputer.fit(df4)\n",
    "imputed_data = imputer.transform(df4.values)"
   ]
  },
  {
   "cell_type": "code",
   "execution_count": 36,
   "metadata": {
    "collapsed": true
   },
   "outputs": [],
   "source": [
    "X = imputed_data\n",
    "y = df3['loan_status'].values"
   ]
  },
  {
   "cell_type": "code",
   "execution_count": 37,
   "metadata": {
    "collapsed": true
   },
   "outputs": [],
   "source": [
    "X_train, X_test, y_train, y_test = \\\n",
    "        train_test_split(X, y, test_size=0.3, random_state=0)"
   ]
  },
  {
   "cell_type": "code",
   "execution_count": 38,
   "metadata": {},
   "outputs": [
    {
     "name": "stderr",
     "output_type": "stream",
     "text": [
      "C:\\Users\\yepeng\\Anaconda3\\lib\\site-packages\\sklearn\\cross_validation.py:41: DeprecationWarning: This module was deprecated in version 0.18 in favor of the model_selection module into which all the refactored classes and functions are moved. Also note that the interface of the new CV iterators are different from that of this module. This module will be removed in 0.20.\n",
      "  \"This module will be removed in 0.20.\", DeprecationWarning)\n",
      "C:\\Users\\yepeng\\Anaconda3\\lib\\site-packages\\sklearn\\grid_search.py:42: DeprecationWarning: This module was deprecated in version 0.18 in favor of the model_selection module into which all the refactored classes and functions are moved. This module will be removed in 0.20.\n",
      "  DeprecationWarning)\n"
     ]
    },
    {
     "name": "stdout",
     "output_type": "stream",
     "text": [
      "Best Score: 0.8565121884610362\n",
      "Best params: {'max_depth': 4}\n"
     ]
    }
   ],
   "source": [
    "from sklearn.grid_search import GridSearchCV\n",
    "from sklearn.cross_validation import StratifiedKFold\n",
    "\n",
    "decision_tree_classifier = DecisionTreeClassifier(random_state=0)\n",
    "cross_validation = StratifiedKFold(y, n_folds=5)\n",
    "\n",
    "parameters = {'max_depth': [3,4,5,6,7,8]}\n",
    "grid_search = GridSearchCV(decision_tree_classifier, param_grid = parameters,\n",
    "                          cv = cross_validation)\n",
    "grid_search.fit(X, y)\n",
    "\n",
    "print(\"Best Score: {}\".format(grid_search.best_score_))\n",
    "print(\"Best params: {}\".format(grid_search.best_params_))"
   ]
  },
  {
   "cell_type": "code",
   "execution_count": 39,
   "metadata": {},
   "outputs": [
    {
     "data": {
      "text/plain": [
       "DecisionTreeClassifier(class_weight=None, criterion='gini', max_depth=4,\n",
       "            max_features=None, max_leaf_nodes=None,\n",
       "            min_impurity_decrease=0.0, min_impurity_split=None,\n",
       "            min_samples_leaf=50, min_samples_split=2,\n",
       "            min_weight_fraction_leaf=0.0, presort=False, random_state=0,\n",
       "            splitter='best')"
      ]
     },
     "execution_count": 39,
     "metadata": {},
     "output_type": "execute_result"
    }
   ],
   "source": [
    "clf_gini = DecisionTreeClassifier(criterion = \"gini\", random_state = 0,\n",
    "                               max_depth=4, min_samples_leaf=50)\n",
    "clf_gini.fit(X_train, y_train)"
   ]
  },
  {
   "cell_type": "code",
   "execution_count": 40,
   "metadata": {},
   "outputs": [
    {
     "data": {
      "text/plain": [
       "DecisionTreeClassifier(class_weight=None, criterion='entropy', max_depth=4,\n",
       "            max_features=None, max_leaf_nodes=None,\n",
       "            min_impurity_decrease=0.0, min_impurity_split=None,\n",
       "            min_samples_leaf=50, min_samples_split=2,\n",
       "            min_weight_fraction_leaf=0.0, presort=False, random_state=0,\n",
       "            splitter='best')"
      ]
     },
     "execution_count": 40,
     "metadata": {},
     "output_type": "execute_result"
    }
   ],
   "source": [
    "clf_entropy = DecisionTreeClassifier(criterion = \"entropy\", random_state = 0,\n",
    "                                     max_depth=4, min_samples_leaf=50)\n",
    "clf_entropy.fit(X_train, y_train)"
   ]
  },
  {
   "cell_type": "code",
   "execution_count": 41,
   "metadata": {},
   "outputs": [
    {
     "data": {
      "text/plain": [
       "array([0, 0, 0, ..., 0, 0, 0], dtype=int64)"
      ]
     },
     "execution_count": 41,
     "metadata": {},
     "output_type": "execute_result"
    }
   ],
   "source": [
    "y_pred = clf_gini.predict(X_test)\n",
    "y_pred"
   ]
  },
  {
   "cell_type": "code",
   "execution_count": 42,
   "metadata": {},
   "outputs": [
    {
     "data": {
      "text/plain": [
       "array([0, 0, 0, ..., 0, 0, 0], dtype=int64)"
      ]
     },
     "execution_count": 42,
     "metadata": {},
     "output_type": "execute_result"
    }
   ],
   "source": [
    "y_pred_en = clf_entropy.predict(X_test)\n",
    "y_pred_en"
   ]
  },
  {
   "cell_type": "code",
   "execution_count": 43,
   "metadata": {},
   "outputs": [
    {
     "name": "stdout",
     "output_type": "stream",
     "text": [
      "AUC - ROC :  0.500890862655\n"
     ]
    }
   ],
   "source": [
    "from sklearn.metrics import roc_auc_score\n",
    "print(\"AUC - ROC : \", roc_auc_score(y_test, y_pred))"
   ]
  },
  {
   "cell_type": "code",
   "execution_count": 44,
   "metadata": {},
   "outputs": [
    {
     "name": "stdout",
     "output_type": "stream",
     "text": [
      "AUC - ROC :  0.5\n"
     ]
    }
   ],
   "source": [
    "\n",
    "print(\"AUC - ROC : \", roc_auc_score(y_test, y_pred_en))"
   ]
  },
  {
   "cell_type": "code",
   "execution_count": 45,
   "metadata": {},
   "outputs": [
    {
     "name": "stdout",
     "output_type": "stream",
     "text": [
      "Accuracy is  85.517972912\n"
     ]
    }
   ],
   "source": [
    "print (\"Accuracy is \", accuracy_score(y_test,y_pred)*100)"
   ]
  },
  {
   "cell_type": "code",
   "execution_count": 46,
   "metadata": {},
   "outputs": [
    {
     "name": "stdout",
     "output_type": "stream",
     "text": [
      "Accuracy is  85.4973917311\n"
     ]
    }
   ],
   "source": [
    "print (\"Accuracy is \", accuracy_score(y_test,y_pred_en)*100)"
   ]
  },
  {
   "cell_type": "code",
   "execution_count": 48,
   "metadata": {},
   "outputs": [
    {
     "data": {
      "text/plain": [
       "RandomForestClassifier(bootstrap=True, class_weight=None, criterion='gini',\n",
       "            max_depth=None, max_features='auto', max_leaf_nodes=None,\n",
       "            min_impurity_decrease=0.0, min_impurity_split=None,\n",
       "            min_samples_leaf=50, min_samples_split=2,\n",
       "            min_weight_fraction_leaf=0.0, n_estimators=500, n_jobs=-1,\n",
       "            oob_score=True, random_state=0, verbose=0, warm_start=False)"
      ]
     },
     "execution_count": 48,
     "metadata": {},
     "output_type": "execute_result"
    }
   ],
   "source": [
    "from sklearn.ensemble import RandomForestClassifier\n",
    "forest = RandomForestClassifier(n_estimators=500, oob_score = True, random_state=0, n_jobs=-1,\n",
    "                                max_features = \"auto\", min_samples_leaf = 50)\n",
    "forest.fit(X_train, y_train)"
   ]
  },
  {
   "cell_type": "code",
   "execution_count": 49,
   "metadata": {},
   "outputs": [
    {
     "name": "stdout",
     "output_type": "stream",
     "text": [
      "AUC - ROC :  0.5\n",
      "Accuracy is  0.854973917311\n"
     ]
    }
   ],
   "source": [
    "y_pred1 = forest.predict(X_test)\n",
    "print(\"AUC - ROC : \", roc_auc_score(y_test, y_pred1))\n",
    "print('Accuracy is ' , accuracy_score(y_test, y_pred1))"
   ]
  },
  {
   "cell_type": "code",
   "execution_count": 50,
   "metadata": {
    "collapsed": true
   },
   "outputs": [],
   "source": [
    "from sklearn.ensemble import GradientBoostingClassifier #For Classification"
   ]
  },
  {
   "cell_type": "code",
   "execution_count": 55,
   "metadata": {},
   "outputs": [
    {
     "data": {
      "text/plain": [
       "GradientBoostingClassifier(criterion='friedman_mse', init=None,\n",
       "              learning_rate=0.5, loss='deviance', max_depth=2,\n",
       "              max_features=None, max_leaf_nodes=None,\n",
       "              min_impurity_decrease=0.0, min_impurity_split=None,\n",
       "              min_samples_leaf=1, min_samples_split=2,\n",
       "              min_weight_fraction_leaf=0.0, n_estimators=200,\n",
       "              presort='auto', random_state=None, subsample=1.0, verbose=0,\n",
       "              warm_start=False)"
      ]
     },
     "execution_count": 55,
     "metadata": {},
     "output_type": "execute_result"
    }
   ],
   "source": [
    "clf = GradientBoostingClassifier(n_estimators=200, learning_rate=0.5, max_depth=2)\n",
    "clf.fit(X_train, y_train)"
   ]
  },
  {
   "cell_type": "code",
   "execution_count": 56,
   "metadata": {},
   "outputs": [
    {
     "name": "stdout",
     "output_type": "stream",
     "text": [
      "AUC - ROC :  0.507364867955\n",
      "Accuracy is  0.85458604121\n"
     ]
    }
   ],
   "source": [
    "y_pred2 = clf.predict(X_test)\n",
    "print(\"AUC - ROC : \", roc_auc_score(y_test, y_pred2))\n",
    "print('Accuracy is ' , accuracy_score(y_test, y_pred2))"
   ]
  },
  {
   "cell_type": "code",
   "execution_count": 62,
   "metadata": {
    "collapsed": true
   },
   "outputs": [],
   "source": [
    "from sklearn.preprocessing import StandardScaler\n",
    "stdsc = StandardScaler()\n",
    "X_train_std = stdsc.fit_transform(X_train)\n",
    "X_test_std = stdsc.transform(X_test)"
   ]
  }
 ],
 "metadata": {
  "kernelspec": {
   "display_name": "Python 3",
   "language": "python",
   "name": "python3"
  },
  "language_info": {
   "codemirror_mode": {
    "name": "ipython",
    "version": 3
   },
   "file_extension": ".py",
   "mimetype": "text/x-python",
   "name": "python",
   "nbconvert_exporter": "python",
   "pygments_lexer": "ipython3",
   "version": "3.6.2"
  }
 },
 "nbformat": 4,
 "nbformat_minor": 2
}
