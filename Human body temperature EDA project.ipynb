{
 "cells": [
  {
   "cell_type": "markdown",
   "metadata": {},
   "source": [
    "# What is the True Normal Human Body Temperature? \n",
    "\n",
    "#### Background\n",
    "\n",
    "The mean normal body temperature was held to be 37$^{\\circ}$C or 98.6$^{\\circ}$F for more than 120 years since it was first conceptualized and reported by Carl Wunderlich in a famous 1868 book. But, is this value statistically correct?"
   ]
  },
  {
   "cell_type": "code",
   "execution_count": 1,
   "metadata": {
    "collapsed": true
   },
   "outputs": [],
   "source": [
    "import pandas as pd\n",
    "import numpy as np\n",
    "from scipy.stats import kstest, normaltest, ttest_1samp, wilcoxon, ranksums, ttest_ind, norm\n",
    "import seaborn as sns\n",
    "import matplotlib.pyplot as plt"
   ]
  },
  {
   "cell_type": "code",
   "execution_count": 2,
   "metadata": {},
   "outputs": [
    {
     "name": "stdout",
     "output_type": "stream",
     "text": [
      "<class 'pandas.core.frame.DataFrame'>\n",
      "RangeIndex: 130 entries, 0 to 129\n",
      "Data columns (total 3 columns):\n",
      "temperature    130 non-null float64\n",
      "gender         130 non-null object\n",
      "heart_rate     130 non-null float64\n",
      "dtypes: float64(2), object(1)\n",
      "memory usage: 3.1+ KB\n"
     ]
    },
    {
     "data": {
      "text/html": [
       "<div>\n",
       "<style>\n",
       "    .dataframe thead tr:only-child th {\n",
       "        text-align: right;\n",
       "    }\n",
       "\n",
       "    .dataframe thead th {\n",
       "        text-align: left;\n",
       "    }\n",
       "\n",
       "    .dataframe tbody tr th {\n",
       "        vertical-align: top;\n",
       "    }\n",
       "</style>\n",
       "<table border=\"1\" class=\"dataframe\">\n",
       "  <thead>\n",
       "    <tr style=\"text-align: right;\">\n",
       "      <th></th>\n",
       "      <th>temperature</th>\n",
       "      <th>gender</th>\n",
       "      <th>heart_rate</th>\n",
       "    </tr>\n",
       "  </thead>\n",
       "  <tbody>\n",
       "    <tr>\n",
       "      <th>0</th>\n",
       "      <td>99.3</td>\n",
       "      <td>F</td>\n",
       "      <td>68.0</td>\n",
       "    </tr>\n",
       "    <tr>\n",
       "      <th>1</th>\n",
       "      <td>98.4</td>\n",
       "      <td>F</td>\n",
       "      <td>81.0</td>\n",
       "    </tr>\n",
       "    <tr>\n",
       "      <th>2</th>\n",
       "      <td>97.8</td>\n",
       "      <td>M</td>\n",
       "      <td>73.0</td>\n",
       "    </tr>\n",
       "  </tbody>\n",
       "</table>\n",
       "</div>"
      ],
      "text/plain": [
       "   temperature gender  heart_rate\n",
       "0         99.3      F        68.0\n",
       "1         98.4      F        81.0\n",
       "2         97.8      M        73.0"
      ]
     },
     "execution_count": 2,
     "metadata": {},
     "output_type": "execute_result"
    }
   ],
   "source": [
    "df = pd.read_csv('data/human_body_temperature.csv')\n",
    "df.info()\n",
    "df.head(3)"
   ]
  },
  {
   "cell_type": "markdown",
   "metadata": {},
   "source": [
    "### Is the distribution of body temperatures normal? "
   ]
  },
  {
   "cell_type": "code",
   "execution_count": 3,
   "metadata": {},
   "outputs": [
    {
     "data": {
      "image/png": "[encoded data removed]",
      "text/plain": [
       "<matplotlib.figure.Figure at 0x2975da2e0f0>"
      ]
     },
     "metadata": {},
     "output_type": "display_data"
    }
   ],
   "source": [
    "sns.set()\n",
    "sns.distplot(df.temperature)\n",
    "plt.show()"
   ]
  },
  {
   "cell_type": "code",
   "execution_count": 4,
   "metadata": {},
   "outputs": [
    {
     "name": "stdout",
     "output_type": "stream",
     "text": [
      "The Kolmogorov-Smirnov test indicates that the data IS normally distirbuted\n",
      "================================================================================\n",
      "The D’Agostino and Pearson’s indicates that the data is NOT normally distirbuted\n"
     ]
    }
   ],
   "source": [
    "# Test if the population where the data from follows normal\n",
    "def explain_test(pval,test):\n",
    "    if pval > 0.05:\n",
    "        print('The '+ test + ' indicates that the data is NOT normally distirbuted')\n",
    "    else:\n",
    "        print('The '+ test + ' indicates that the data IS normally distirbuted')\n",
    "\n",
    "def norm_tests(xdata):\n",
    "    _, p =kstest(xdata, 'norm')\n",
    "    explain_test(p,'Kolmogorov-Smirnov test')\n",
    "    print(40*'==')\n",
    "    _, p =normaltest(xdata)\n",
    "    explain_test(p,'D’Agostino and Pearson’s')\n",
    "\n",
    "df_temp = df[['temperature']]\n",
    "norm_tests(df_temp)"
   ]
  },
  {
   "cell_type": "code",
   "execution_count": 5,
   "metadata": {
    "collapsed": true
   },
   "outputs": [],
   "source": [
    "#check gender effect\n",
    "def by_gender(df):\n",
    "    x = df.temperature\n",
    "    females = x[(df.gender == 'F').values]\n",
    "    males = x[(df.gender == 'M').values]\n",
    "    return females, males\n",
    "\n",
    "females, males = by_gender(df)"
   ]
  },
  {
   "cell_type": "code",
   "execution_count": 6,
   "metadata": {},
   "outputs": [
    {
     "name": "stdout",
     "output_type": "stream",
     "text": [
      "FEMALE subjects\n",
      "----------------------------------------\n",
      "The Kolmogorov-Smirnov test indicates that the data IS normally distirbuted\n",
      "================================================================================\n",
      "The D’Agostino and Pearson’s indicates that the data is NOT normally distirbuted\n",
      "                    \n",
      "MALE subjects\n",
      "                    \n",
      "The Kolmogorov-Smirnov test indicates that the data IS normally distirbuted\n",
      "================================================================================\n",
      "The D’Agostino and Pearson’s indicates that the data is NOT normally distirbuted\n"
     ]
    }
   ],
   "source": [
    "def check_gender_effect(females,males):\n",
    "    print('FEMALE subjects')\n",
    "    print(20*'--')\n",
    "    norm_tests(females);\n",
    "    print(20*' ')\n",
    "    print('MALE subjects')\n",
    "    print(20*' ')\n",
    "    norm_tests(males);\n",
    "    plt.hist(females);plt.hist(males);\n",
    "    plt.legend(('Females','Males'))\n",
    "\n",
    "check_gender_effect(females, males)"
   ]
  },
  {
   "cell_type": "markdown",
   "metadata": {},
   "source": [
    " True human body temperature follows normal distribution according to Kolmogorov-Smirnov test."
   ]
  },
  {
   "cell_type": "markdown",
   "metadata": {},
   "source": [
    "### Is the sample size large? Are the observations independent? "
   ]
  },
  {
   "cell_type": "markdown",
   "metadata": {},
   "source": [
    "There are 130 samples and it is large. If each observation is got randomly they would be independent."
   ]
  },
  {
   "cell_type": "markdown",
   "metadata": {},
   "source": [
    "### Is the true population mean really 98.6 degrees F? \n",
    "Would you use a one-sample or two-sample test? Why? \n",
    "\n",
    "In this situation, is it appropriate to use the t or z statistic? \n",
    "\n",
    "Now try using the other test. How is the result be different? Why? \n"
   ]
  },
  {
   "cell_type": "code",
   "execution_count": 8,
   "metadata": {},
   "outputs": [
    {
     "data": {
      "image/png": "[encoded data removed]",
      "text/plain": [
       "<matplotlib.figure.Figure at 0x2976151e518>"
      ]
     },
     "metadata": {},
     "output_type": "display_data"
    }
   ],
   "source": [
    "_ = sns.boxplot(y='temperature', data=df[['temperature']])\n",
    "plt.show()"
   ]
  },
  {
   "cell_type": "code",
   "execution_count": 9,
   "metadata": {},
   "outputs": [
    {
     "name": "stdout",
     "output_type": "stream",
     "text": [
      "The p-value for the t-statistic is: [  2.41063204e-07]\n",
      "We can reject the null hypothesis; The mean IS different than 98.6\n"
     ]
    }
   ],
   "source": [
    "# one sample t test\n",
    "def one_sample_test(xvector,mu):\n",
    "    _, p_val = ttest_1samp(xvector,mu)\n",
    "    print('The p-value for the t-statistic is: ' + str(p_val))\n",
    "    if p_val < 0.05:\n",
    "        print('We can reject the null hypothesis; The mean IS different than '+ str(mu))\n",
    "    else:\n",
    "        print('We cannot reject the null hypothesis; The mean is NOT different than '+ str(mu))\n",
    "\n",
    "one_sample_test(df_temp, 98.6)"
   ]
  },
  {
   "cell_type": "code",
   "execution_count": 10,
   "metadata": {},
   "outputs": [
    {
     "data": {
      "text/plain": [
       "(-5.476, 0.0)"
      ]
     },
     "execution_count": 10,
     "metadata": {},
     "output_type": "execute_result"
    }
   ],
   "source": [
    "# one sample z test\n",
    "def OneSampZ(X1, delta, n1):\n",
    "    from numpy import sqrt, abs, round\n",
    "    sd = np.std(x1)\n",
    "    SE = sqrt(sd**2/n1)\n",
    "    mean = np.mean(x1)\n",
    "    z = (mean - delta)/SE\n",
    "    P_value = 2*(1 - norm.cdf(abs(z)))\n",
    "    return round(z, 3), round(P_value, 4)\n",
    "\n",
    "x1 = df['temperature']\n",
    "OneSampZ(x1,98.6,130)"
   ]
  },
  {
   "cell_type": "code",
   "execution_count": 11,
   "metadata": {},
   "outputs": [
    {
     "data": {
      "text/plain": [
       "WilcoxonResult(statistic=1774.5, pvalue=1.1661000053543139e-06)"
      ]
     },
     "execution_count": 11,
     "metadata": {},
     "output_type": "execute_result"
    }
   ],
   "source": [
    "x = df['temperature']\n",
    "y = [98.6] * 130\n",
    "wilcoxon(x, y)"
   ]
  },
  {
   "cell_type": "markdown",
   "metadata": {},
   "source": [
    "True population mean is not 98.6 for one sample t test p value less than 0.05. We don't know population variance so we choose t test instead of z test. \n",
    "\n",
    "However if the sample size is large enough we can use sample variance instead of population variance. We used Z test for this sample and got the same conclusion as t test.\n",
    "\n",
    "If we choose unparametric wilcoxon signed rank test , we still get the population median temperature is different from 98.6 for p value less than 0.05."
   ]
  },
  {
   "cell_type": "markdown",
   "metadata": {},
   "source": [
    "### Draw a small sample of size 10 from the data and repeat both tests. \n",
    "Which one is the correct one to use? \n",
    "What do you notice? What does this tell you about the difference in application of the t and z statistic? "
   ]
  },
  {
   "cell_type": "code",
   "execution_count": 12,
   "metadata": {
    "collapsed": true
   },
   "outputs": [],
   "source": [
    "# 10 of the data without replacement\n",
    "data = df.sample(frac=1/13, replace=False, random_state=123) "
   ]
  },
  {
   "cell_type": "code",
   "execution_count": 13,
   "metadata": {},
   "outputs": [
    {
     "name": "stdout",
     "output_type": "stream",
     "text": [
      "The p-value for the t-statistic is: [ 0.01736665]\n",
      "We can reject the null hypothesis; The mean IS different than 98.6\n"
     ]
    }
   ],
   "source": [
    "one_sample_test(data[['temperature']], 98.6)"
   ]
  },
  {
   "cell_type": "code",
   "execution_count": 14,
   "metadata": {},
   "outputs": [
    {
     "data": {
      "text/plain": [
       "(-1.5189999999999999, 0.1288)"
      ]
     },
     "execution_count": 14,
     "metadata": {},
     "output_type": "execute_result"
    }
   ],
   "source": [
    "OneSampZ(data['temperature'], 98.6, 10)"
   ]
  },
  {
   "cell_type": "markdown",
   "metadata": {},
   "source": [
    " When sample size is small I choose one sample t test for population variance can not be replaced by sample variance in this situation."
   ]
  },
  {
   "cell_type": "markdown",
   "metadata": {},
   "source": [
    "### At what temperature should we consider someone's temperature to be \"abnormal\"? \n",
    "Start by computing the margin of error and confidence interval. "
   ]
  },
  {
   "cell_type": "code",
   "execution_count": 15,
   "metadata": {},
   "outputs": [
    {
     "name": "stdout",
     "output_type": "stream",
     "text": [
      "The lower limit at the 95% conf. level is temperature    98.12368\n",
      "dtype: float64\n",
      "The upper limit at the 95% conf. level is temperature    98.374782\n",
      "dtype: float64\n",
      "--------------------\n"
     ]
    },
    {
     "data": {
      "text/plain": [
       "(temperature    98.12368\n",
       " dtype: float64, temperature    98.374782\n",
       " dtype: float64)"
      ]
     },
     "execution_count": 15,
     "metadata": {},
     "output_type": "execute_result"
    }
   ],
   "source": [
    "# 95% confidence interval of normal temperature\n",
    "def expected_rante(observations):\n",
    "    SE = np.std(observations) / np.sqrt(len(observations))\n",
    "    lb = np.mean(observations) - 1.96*SE\n",
    "    ub = np.mean(observations) + 1.96*SE\n",
    "    print('The lower limit at the 95% conf. level is ' + str(lb))\n",
    "    print('The upper limit at the 95% conf. level is ' + str(ub))\n",
    "    print(10*'--')\n",
    "    return lb, ub\n",
    "expected_rante(df_temp)"
   ]
  },
  {
   "cell_type": "markdown",
   "metadata": {},
   "source": [
    " The temperature is lower than 98.12368 or above 98.374782 to be considered 'abnormal'"
   ]
  },
  {
   "cell_type": "markdown",
   "metadata": {},
   "source": [
    "### Is there a significant difference between males and females in normal temperature? \n",
    "What test did you use and why? \n",
    "Write a story with your conclusion in the context of the original problem. "
   ]
  },
  {
   "cell_type": "code",
   "execution_count": 16,
   "metadata": {},
   "outputs": [
    {
     "data": {
      "image/png": "[encoded data removed]",
      "text/plain": [
       "<matplotlib.figure.Figure at 0x2976154e9e8>"
      ]
     },
     "metadata": {},
     "output_type": "display_data"
    }
   ],
   "source": [
    "_ = sns.boxplot(x='gender', y='temperature', data=df)\n",
    "plt.show()"
   ]
  },
  {
   "cell_type": "code",
   "execution_count": 17,
   "metadata": {},
   "outputs": [
    {
     "name": "stdout",
     "output_type": "stream",
     "text": [
      "The p-value for the t-statistic is: 0.0239382641829\n",
      "We can reject the null hypothesis; The means ARE different\n"
     ]
    }
   ],
   "source": [
    "def men_vs_women(fem,mal):\n",
    "    _, p = ttest_ind(fem,mal,equal_var=False)\n",
    "    print('The p-value for the t-statistic is: ' + str(p))\n",
    "    if p < 0.05:\n",
    "        print('We can reject the null hypothesis; The means ARE different')\n",
    "    else:\n",
    "        print('We cannot reject the null hypothesis; The means ARE NOT different') \n",
    "men_vs_women(females, males)"
   ]
  },
  {
   "cell_type": "markdown",
   "metadata": {},
   "source": [
    "Two sample t test is choosed for we are test if two samples means are from the same population and we don't know the population variance. \n",
    "\n",
    "There is significant difference between males and females in normal temperature. Female's meab normal temperature is higher than that of male's."
   ]
  }
 ],
 "metadata": {
  "kernelspec": {
   "display_name": "Python 3",
   "language": "python",
   "name": "python3"
  },
  "language_info": {
   "codemirror_mode": {
    "name": "ipython",
    "version": 3
   },
   "file_extension": ".py",
   "mimetype": "text/x-python",
   "name": "python",
   "nbconvert_exporter": "python",
   "pygments_lexer": "ipython3",
   "version": "3.6.2"
  }
 },
 "nbformat": 4,
 "nbformat_minor": 1
}
