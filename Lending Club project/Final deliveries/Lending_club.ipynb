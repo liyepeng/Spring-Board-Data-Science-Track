{
 "cells": [
  {
   "cell_type": "markdown",
   "metadata": {},
   "source": [
    "## Synopsis\n",
    "LendingClub is a US peer-to-peer lending company, which operates an online lending platform that enables borrowers to obtain a loan, and investors to purchase notes backed by payments made on loans. Lending Club is the world's largest peer-to-peer lending platform. The company claims that $15.98 billion in loans had been originated through its platform up to December 31, 2015.\n",
    "\n",
    "To find good borrowers is key for the investors in LendingClub to make profit. How to find a good borrowers? In other word, how to predict the loan status according to the information of the loan applicants? A predictive model of loan status can help the investors to make a wise decision for the loan applicants and decrease the risk of bad loans.\n",
    "\n",
    "In this report, we attempt to predict the risk of the loan being default based on the past loan data. We obtained data from LendingClub’s website(https://www.lendingclub.com/info/download-data.action). We also get external data resource for the unemployment rate in United States by zip codes from Kaggle. The assumption is if a borrowers from a zip code area with high unemployment rate he is more likely to have a bad loan. The investors can make a judgement according to the zip code of the borrowers for they correlate with Unemployment rate.\n",
    "\n",
    "We use loan data from year 2015 and perform data wrangling, explanatory data analysis and statistical hypothesis testing. We also split the data set into training and test data sets and apply tree based methods to build predictive models for the loan status. We found that, among multiple machine learning algorithms that we tried, Gradient boosting method provided a reasonable trade-off performance, and a higher return than the naive loan picking strategy can be achieved."
   ]
  },
  {
   "cell_type": "code",
   "execution_count": 1,
   "metadata": {
    "collapsed": true
   },
   "outputs": [],
   "source": [
    "import sys\n",
    "from numpy import *\n",
    "import numpy as np\n",
    "import pandas as pd\n",
    "import matplotlib.pyplot as plt\n",
    "import operator\n",
    "%matplotlib inline"
   ]
  },
  {
   "cell_type": "code",
   "execution_count": 2,
   "metadata": {},
   "outputs": [
    {
     "data": {
      "text/plain": [
       "(421097, 137)"
      ]
     },
     "execution_count": 2,
     "metadata": {},
     "output_type": "execute_result"
    }
   ],
   "source": [
    "# read lending club stat file\n",
    "df = pd.read_csv(\"LoanStats3d.csv\",skiprows=1,low_memory=False)\n",
    "df.shape"
   ]
  },
  {
   "cell_type": "markdown",
   "metadata": {},
   "source": [
    "The blank columns wouldn't provide any information. The post loan variables and hardship variables are not suitable for the predictive model building. So we delete these variables."
   ]
  },
  {
   "cell_type": "code",
   "execution_count": 3,
   "metadata": {},
   "outputs": [
    {
     "data": {
      "text/plain": [
       "['member_id',\n",
       " 'url',\n",
       " 'revol_bal_joint',\n",
       " 'sec_app_earliest_cr_line',\n",
       " 'sec_app_inq_last_6mths',\n",
       " 'sec_app_mort_acc',\n",
       " 'sec_app_open_acc',\n",
       " 'sec_app_revol_util',\n",
       " 'sec_app_open_il_6m',\n",
       " 'sec_app_num_rev_accts',\n",
       " 'sec_app_chargeoff_within_12_mths',\n",
       " 'sec_app_collections_12_mths_ex_med',\n",
       " 'sec_app_mths_since_last_major_derog']"
      ]
     },
     "execution_count": 3,
     "metadata": {},
     "output_type": "execute_result"
    }
   ],
   "source": [
    "blank_columns = df.columns[df.isnull().all()].tolist()\n",
    "blank_columns"
   ]
  },
  {
   "cell_type": "code",
   "execution_count": 4,
   "metadata": {
    "collapsed": true
   },
   "outputs": [],
   "source": [
    "# drop blank columns\n",
    "df = df.drop(['id','member_id', 'url','revol_bal_joint','sec_app_earliest_cr_line','sec_app_inq_last_6mths','sec_app_mort_acc',\n",
    " 'sec_app_open_acc','sec_app_revol_util','sec_app_open_il_6m','sec_app_num_rev_accts','sec_app_chargeoff_within_12_mths',\n",
    " 'sec_app_collections_12_mths_ex_med','sec_app_mths_since_last_major_derog'], axis = 1)\n",
    "\n",
    "# drop post loan variables\n",
    "df = df.drop(['out_prncp','out_prncp_inv', 'total_pymnt', 'total_pymnt_inv', 'total_rec_prncp',\n",
    "              'grade', 'sub_grade','total_rec_int','total_rec_late_fee','recoveries','collection_recovery_fee',\n",
    "              'collection_recovery_fee','last_pymnt_d','last_pymnt_amnt','next_pymnt_d','last_credit_pull_d',\n",
    "              'payment_plan_start_date','issue_d',\"funded_amnt_inv\",\"loan_amnt\",'num_tl_120dpd_2m','num_tl_30dpd'], axis = 1)\n",
    "df = df.drop(['term','int_rate','installment'], axis = 1)\n",
    "\n",
    "# drop hardship variables\n",
    "df = df.drop(['hardship_flag','hardship_type','hardship_reason', 'hardship_status','hardship_start_date',\n",
    "             'hardship_end_date','hardship_loan_status', 'hardship_amount','hardship_length','hardship_dpd',\n",
    "              'hardship_payoff_balance_amount','hardship_last_payment_amount'], axis = 1)"
   ]
  },
  {
   "cell_type": "markdown",
   "metadata": {},
   "source": [
    "## Object variable wrangling\n",
    "### a. Target variable: How many class of loan status are there?"
   ]
  },
  {
   "cell_type": "markdown",
   "metadata": {},
   "source": [
    "The target variable in the project is loan status. There are 7 types of loan status. Among them 'Current', 'Fully Paid' and 'In grace Peroid' mean that the lenders are paying the loan on time or have already paid the loan off. So these three status are called 'good loan'. And the rest four status mean the lenders have delayed the payment more than 15 days or even have no ability to make any payment at all. These four status are called 'bad loan'."
   ]
  },
  {
   "cell_type": "code",
   "execution_count": 5,
   "metadata": {},
   "outputs": [
    {
     "data": {
      "text/plain": [
       "array(['Current', 'Fully Paid', 'Charged Off', 'Late (16-30 days)',\n",
       "       'Late (31-120 days)', 'In Grace Period', 'Default', nan], dtype=object)"
      ]
     },
     "execution_count": 5,
     "metadata": {},
     "output_type": "execute_result"
    }
   ],
   "source": [
    "obj_df = df.select_dtypes(include=['object']).copy()\n",
    "pd.unique(obj_df['loan_status'].values.ravel())"
   ]
  },
  {
   "cell_type": "code",
   "execution_count": 6,
   "metadata": {},
   "outputs": [
    {
     "data": {
      "text/plain": [
       "(421097, 16)"
      ]
     },
     "execution_count": 6,
     "metadata": {},
     "output_type": "execute_result"
    }
   ],
   "source": [
    "# classified loan_status to \"good loan\" and \"bad loan\"\n",
    "status_dict = {'loan_status': {'Current':'good loan', 'Fully Paid':'good loan', 'In Grace Period':'good loan', 'Charged Off':'bad loan', 'Late (16-30 days)':'bad loan',\n",
    "                'Late (31-120 days)':'bad loan', 'Default':'bad loan'}}\n",
    "obj_df.replace(status_dict, inplace=True)\n",
    "obj_df.shape"
   ]
  },
  {
   "cell_type": "code",
   "execution_count": 7,
   "metadata": {
    "collapsed": true
   },
   "outputs": [],
   "source": [
    "# drop the variables which have more than 90% missing values\n",
    "obj_df = obj_df.drop(['verification_status_joint', 'desc'], axis=1) "
   ]
  },
  {
   "cell_type": "markdown",
   "metadata": {},
   "source": [
    "### b. Data cleaning for other object variables"
   ]
  },
  {
   "cell_type": "markdown",
   "metadata": {},
   "source": [
    "'title' is replicated in 'purpose' so we will drop them."
   ]
  },
  {
   "cell_type": "code",
   "execution_count": 8,
   "metadata": {},
   "outputs": [
    {
     "data": {
      "text/plain": [
       "array(['debt_consolidation', 'credit_card', 'home_improvement',\n",
       "       'major_purchase', 'house', 'medical', 'other', 'car',\n",
       "       'small_business', 'vacation', 'moving', 'renewable_energy',\n",
       "       'wedding', 'educational', nan], dtype=object)"
      ]
     },
     "execution_count": 8,
     "metadata": {},
     "output_type": "execute_result"
    }
   ],
   "source": [
    "obj_df['purpose'].unique()"
   ]
  },
  {
   "cell_type": "code",
   "execution_count": 9,
   "metadata": {},
   "outputs": [
    {
     "data": {
      "text/plain": [
       "array(['Debt consolidation', 'Credit card refinancing', 'Home improvement',\n",
       "       nan, 'Major purchase', 'Home buying', 'Medical expenses', 'Other',\n",
       "       'Car financing', 'Business', 'Vacation', 'Moving and relocation',\n",
       "       'Green loan', 'odymeds', 'SAVE', 'Learning and training', 'new day',\n",
       "       'Trying to come back to reality!', 'considerate',\n",
       "       'Paying off higher interest cards & auto',\n",
       "       'Simple Loan Until Contract Is Completed',\n",
       "       'Prescription Drug and Medical Costs', 'Pay off Lowes Card',\n",
       "       'new kitchen for momma!', 'DebtC',\n",
       "       'New Baby and New House (CC Consolidate)',\n",
       "       'Credit Card/Auto Repair', 'Student Loan'], dtype=object)"
      ]
     },
     "execution_count": 9,
     "metadata": {},
     "output_type": "execute_result"
    }
   ],
   "source": [
    "obj_df['title'].unique()"
   ]
  },
  {
   "cell_type": "code",
   "execution_count": 10,
   "metadata": {
    "collapsed": true
   },
   "outputs": [],
   "source": [
    "obj_df = obj_df.drop('title', axis=1)"
   ]
  },
  {
   "cell_type": "code",
   "execution_count": 11,
   "metadata": {
    "collapsed": true
   },
   "outputs": [],
   "source": [
    "#convert 'obj_df.revol_util' to numeric variable\n",
    "obj_df.revol_util = pd.Series(obj_df.revol_util).str.replace('%', '').astype(float)"
   ]
  },
  {
   "cell_type": "code",
   "execution_count": 12,
   "metadata": {},
   "outputs": [
    {
     "data": {
      "text/plain": [
       "10+ years    141521\n",
       "2 years       37497\n",
       "< 1 year      34340\n",
       "3 years       33430\n",
       "1 year        27473\n",
       "5 years       24930\n",
       "4 years       24506\n",
       "n/a           23817\n",
       "8 years       21560\n",
       "7 years       18414\n",
       "6 years       16838\n",
       "9 years       16769\n",
       "Name: emp_length, dtype: int64"
      ]
     },
     "execution_count": 12,
     "metadata": {},
     "output_type": "execute_result"
    }
   ],
   "source": [
    "# convert emp_length to numeric variable\n",
    "obj_df.emp_length.value_counts()"
   ]
  },
  {
   "cell_type": "code",
   "execution_count": 13,
   "metadata": {
    "collapsed": true
   },
   "outputs": [],
   "source": [
    "obj_df.replace('n/a', np.nan,inplace=True)\n",
    "obj_df.emp_length.fillna(value=0,inplace=True)\n",
    "obj_df['emp_length'].replace(to_replace='[^0-9]+', value='', inplace=True, regex=True)\n",
    "obj_df['emp_length'] = obj_df['emp_length'].astype(float)"
   ]
  },
  {
   "cell_type": "markdown",
   "metadata": {},
   "source": [
    "### c. Feature  engineering"
   ]
  },
  {
   "cell_type": "markdown",
   "metadata": {},
   "source": [
    "### emp_title\n",
    "This variable has 120813 categories and we can choose the top ten employment tiltle and create 10 dummy variables so it can be used in model building."
   ]
  },
  {
   "cell_type": "code",
   "execution_count": 14,
   "metadata": {},
   "outputs": [
    {
     "data": {
      "text/plain": [
       "(120813,)"
      ]
     },
     "execution_count": 14,
     "metadata": {},
     "output_type": "execute_result"
    }
   ],
   "source": [
    "obj_df.emp_title.unique().shape"
   ]
  },
  {
   "cell_type": "code",
   "execution_count": 15,
   "metadata": {},
   "outputs": [
    {
     "data": {
      "text/plain": [
       "teacher             9956\n",
       "manager             8958\n",
       "owner               6101\n",
       "registered nurse    4443\n",
       "supervisor          4080\n",
       "driver              3863\n",
       "sales               3759\n",
       "rn                  3545\n",
       "office manager      2826\n",
       "project manager     2734\n",
       "Name: emp_title, dtype: int64"
      ]
     },
     "execution_count": 15,
     "metadata": {},
     "output_type": "execute_result"
    }
   ],
   "source": [
    "obj_df['emp_title'].str.lower().value_counts().head(10)"
   ]
  },
  {
   "cell_type": "code",
   "execution_count": 16,
   "metadata": {
    "collapsed": true
   },
   "outputs": [],
   "source": [
    "# 'rn' should be the same as 'registered nurse'\n",
    "obj_df['emp_title'] = obj_df['emp_title'].str.lower().replace('rn', 'registered nurse')"
   ]
  },
  {
   "cell_type": "code",
   "execution_count": 17,
   "metadata": {},
   "outputs": [
    {
     "data": {
      "text/plain": [
       "other               368270\n",
       "teacher               9956\n",
       "manager               8958\n",
       "registered nurse      7988\n",
       "owner                 6101\n",
       "supervisor            4080\n",
       "driver                3863\n",
       "sales                 3759\n",
       "office manager        2826\n",
       "project manager       2734\n",
       "general manager       2562\n",
       "Name: emp_title, dtype: int64"
      ]
     },
     "execution_count": 17,
     "metadata": {},
     "output_type": "execute_result"
    }
   ],
   "source": [
    "# select top ten employment title\n",
    "cats = ['teacher','manager','registered nurse', 'owner','supervisor','driver','sales','office manager',\n",
    "        'project manager','general manager']\n",
    "obj_df.loc[~ (obj_df['emp_title'].isin(cats)), 'emp_title'] = 'other'\n",
    "obj_df.emp_title.value_counts()"
   ]
  },
  {
   "cell_type": "markdown",
   "metadata": {},
   "source": [
    "### Zip code and state\n",
    "These two variables can't be used directly for the analysis of loan status. But if they combined with the local unemployment rates in US they will be useful for the analysis."
   ]
  },
  {
   "cell_type": "code",
   "execution_count": 18,
   "metadata": {},
   "outputs": [
    {
     "name": "stdout",
     "output_type": "stream",
     "text": [
      "(855, 3)\n"
     ]
    },
    {
     "data": {
      "text/html": [
       "<div>\n",
       "<style>\n",
       "    .dataframe thead tr:only-child th {\n",
       "        text-align: right;\n",
       "    }\n",
       "\n",
       "    .dataframe thead th {\n",
       "        text-align: left;\n",
       "    }\n",
       "\n",
       "    .dataframe tbody tr th {\n",
       "        vertical-align: top;\n",
       "    }\n",
       "</style>\n",
       "<table border=\"1\" class=\"dataframe\">\n",
       "  <thead>\n",
       "    <tr style=\"text-align: right;\">\n",
       "      <th></th>\n",
       "      <th>state</th>\n",
       "      <th>zip_code</th>\n",
       "      <th>Rate</th>\n",
       "    </tr>\n",
       "  </thead>\n",
       "  <tbody>\n",
       "    <tr>\n",
       "      <th>0</th>\n",
       "      <td>AK</td>\n",
       "      <td>99500</td>\n",
       "      <td>8.48</td>\n",
       "    </tr>\n",
       "    <tr>\n",
       "      <th>1</th>\n",
       "      <td>AK</td>\n",
       "      <td>99600</td>\n",
       "      <td>8.69</td>\n",
       "    </tr>\n",
       "    <tr>\n",
       "      <th>2</th>\n",
       "      <td>AK</td>\n",
       "      <td>99700</td>\n",
       "      <td>8.41</td>\n",
       "    </tr>\n",
       "  </tbody>\n",
       "</table>\n",
       "</div>"
      ],
      "text/plain": [
       "  state  zip_code  Rate\n",
       "0    AK     99500  8.48\n",
       "1    AK     99600  8.69\n",
       "2    AK     99700  8.41"
      ]
     },
     "execution_count": 18,
     "metadata": {},
     "output_type": "execute_result"
    }
   ],
   "source": [
    "obj_df['zip_code'] = obj_df['zip_code'].str.replace('xx', '00')\n",
    "unemp_zip = pd.read_csv('unemploy_zip.csv')\n",
    "print(unemp_zip.shape)\n",
    "unemp_zip.head(3)"
   ]
  },
  {
   "cell_type": "code",
   "execution_count": 19,
   "metadata": {},
   "outputs": [
    {
     "data": {
      "text/plain": [
       "387468"
      ]
     },
     "execution_count": 19,
     "metadata": {},
     "output_type": "execute_result"
    }
   ],
   "source": [
    "# concatenate the two files\n",
    "obj_df['zip_code'] = obj_df['zip_code'].astype('float')\n",
    "obj_df = obj_df.rename(columns={'addr_state':'state'})\n",
    "unemp_zip['zip_code'] = unemp_zip['zip_code'].astype('float')\n",
    "obj_df1 = pd.merge(obj_df, unemp_zip, on=['state','zip_code'], how='left')\n",
    "obj_df1.Rate.count()"
   ]
  },
  {
   "cell_type": "markdown",
   "metadata": {},
   "source": [
    "The total observations for the data set are 421095. And there are 387468 observations for the 'Rate' variable. The reason is that there are 855 zip_unemployment rates in unemp_zip files while there are 915 zip codes in lending club dataset. So there would have missing values for the unemployment rate when these two files are merged together."
   ]
  },
  {
   "cell_type": "markdown",
   "metadata": {},
   "source": [
    "## Numerical variables wrangling"
   ]
  },
  {
   "cell_type": "code",
   "execution_count": 20,
   "metadata": {
    "collapsed": true
   },
   "outputs": [],
   "source": [
    "num_df = df.select_dtypes(include=['float']).copy()"
   ]
  },
  {
   "cell_type": "code",
   "execution_count": 21,
   "metadata": {},
   "outputs": [
    {
     "name": "stdout",
     "output_type": "stream",
     "text": [
      "Column delinq_2yrs has 87087 outliers\n",
      "Column pub_rec has 74415 outliers\n",
      "Column tot_coll_amt has 66407 outliers\n",
      "Column num_accts_ever_120_pd has 102993 outliers\n",
      "Column pub_rec_bankruptcies has 50916 outliers\n"
     ]
    }
   ],
   "source": [
    "# find the numerical variables which have more than 10% of outliers\n",
    "for col in num_df.columns:\n",
    "    Q1 = num_df[col].quantile(0.25)\n",
    "    Q3 = num_df[col].quantile(0.75)\n",
    "    IQR = Q3 - Q1\n",
    "    out_liers_number = ((num_df[col] < (Q1 - 3 * IQR)) | (num_df[col] > (Q3 + 3 * IQR))).sum()\n",
    "    count = df[col].count()\n",
    "    if out_liers_number > (0.1 * count):\n",
    "        print (\"Column {} has {} outliers\".format(col, out_liers_number)) \n",
    "\n",
    "#from scipy import stats\n",
    "#df[(np.abs(stats.zscore(df)) > 3).all(axis=1)]"
   ]
  },
  {
   "cell_type": "code",
   "execution_count": 22,
   "metadata": {
    "collapsed": true
   },
   "outputs": [],
   "source": [
    "# concat object variable files and numeric variable file\n",
    "obj_df1['zip_code'] = obj_df1['zip_code'].astype('object')\n",
    "df1 = pd.concat([obj_df1, num_df], axis=1 )"
   ]
  },
  {
   "cell_type": "markdown",
   "metadata": {},
   "source": [
    "## Explanatory Data Analysis"
   ]
  },
  {
   "cell_type": "markdown",
   "metadata": {},
   "source": [
    "#### How many good loans and bad loans are there?"
   ]
  },
  {
   "cell_type": "code",
   "execution_count": 23,
   "metadata": {},
   "outputs": [
    {
     "data": {
      "text/plain": [
       "[<matplotlib.text.Text at 0x1d52454edd8>,\n",
       " <matplotlib.text.Text at 0x1d524554860>]"
      ]
     },
     "execution_count": 23,
     "metadata": {},
     "output_type": "execute_result"
    },
    {
     "data": {
      "image/png": "[encoded data removed]",
      "text/plain": [
       "<matplotlib.figure.Figure at 0x1d528411d68>"
      ]
     },
     "metadata": {},
     "output_type": "display_data"
    }
   ],
   "source": [
    "_ = df1['loan_status'].value_counts().plot(kind='bar')\n",
    "_.set_xticklabels(['good loan', 'bad loan'], rotation=0)"
   ]
  },
  {
   "cell_type": "markdown",
   "metadata": {},
   "source": [
    "Among all the loans about 20% is bad loans and 80% is good loans."
   ]
  },
  {
   "cell_type": "markdown",
   "metadata": {},
   "source": [
    "#### The loan amount and employment title"
   ]
  },
  {
   "cell_type": "code",
   "execution_count": 24,
   "metadata": {},
   "outputs": [
    {
     "data": {
      "text/plain": [
       "<matplotlib.axes._subplots.AxesSubplot at 0x1d5244a6cc0>"
      ]
     },
     "execution_count": 24,
     "metadata": {},
     "output_type": "execute_result"
    },
    {
     "data": {
      "image/png": "[encoded data removed]",
      "text/plain": [
       "<matplotlib.figure.Figure at 0x1d5244895c0>"
      ]
     },
     "metadata": {},
     "output_type": "display_data"
    }
   ],
   "source": [
    "df1['emp_title'].value_counts()[1:10].plot(kind='barh')"
   ]
  },
  {
   "cell_type": "markdown",
   "metadata": {},
   "source": [
    "Teacher is the occupation which has the largest number of loans. Manager and registered nurse rank the second and third in the number of loans."
   ]
  },
  {
   "cell_type": "markdown",
   "metadata": {},
   "source": [
    "#### The bad loan percentage for different occupations "
   ]
  },
  {
   "cell_type": "code",
   "execution_count": 25,
   "metadata": {
    "collapsed": true
   },
   "outputs": [],
   "source": [
    "# create a function to caculate good loan/bad loan for different variables and their percentages\n",
    "def calculation(col, col_cats):\n",
    "    df2=df1[df1[col].isin(col_cats)][['loan_status', col]]\n",
    "    good_loan_data = df2[df2.loan_status == 'good loan']\n",
    "    bad_loan_data = df2[df2.loan_status == 'bad loan']\n",
    "\n",
    "    good_loan = good_loan_data.groupby(col).size().sort_values(ascending=False).values\n",
    "    bad_loan = bad_loan_data.groupby(col).size().sort_values(ascending=False).values\n",
    "\n",
    "    totals = good_loan + bad_loan\n",
    "    data1_percentages = (good_loan/totals)*100 \n",
    "    data2_percentages = (bad_loan/totals)*100\n",
    "    return good_loan,bad_loan,data1_percentages,data2_percentages\n"
   ]
  },
  {
   "cell_type": "code",
   "execution_count": 26,
   "metadata": {
    "collapsed": true
   },
   "outputs": [],
   "source": [
    "# create plot function\n",
    "def plot(xticks, col, col_cats):\n",
    "    \n",
    "    good_loan,bad_loan,data1_percentages,data2_percentages = calculation(col, col_cats)\n",
    "    \n",
    "    f, (ax1, ax2) = plt.subplots(1, 2, figsize=(15,5))\n",
    "    # plot chart for count of loan status by col\n",
    "    ax1.bar(range(len(good_loan)), good_loan, label='Good_loan', alpha=0.7, color='b')\n",
    "    ax1.bar(range(len(bad_loan)), bad_loan, bottom=good_loan, label='Bad_loan', alpha=0.7, color='r')\n",
    "    plt.sca(ax1)\n",
    "    plt.xticks(xticks, col_cats, rotation=45, ha='right', size=17)\n",
    "    ax1.set_ylabel(\"Count\")\n",
    "    ax1.set_xlabel(\"\")\n",
    "    ax1.set_title(\"Count of loan status by {}\".format(col),fontsize=17)\n",
    "    plt.legend(loc='upper right')\n",
    "\n",
    "    # plot chart for percentage of loan status by col\n",
    "    ax2.bar(range(len(data1_percentages)), data1_percentages, alpha=0.7, color='b')\n",
    "    ax2.bar(range(len(data2_percentages)), data2_percentages, bottom=data1_percentages, alpha=0.7, color='r')\n",
    "    plt.sca(ax2)\n",
    "    plt.xticks(xticks, col_cats, rotation=45, ha='right',size=17)\n",
    "    ax2.set_ylabel(\"Percentage\")\n",
    "    ax2.set_xlabel(\"\")\n",
    "    ax2.set_title(\"% of loan status by {}\".format(col),fontsize=17)"
   ]
  },
  {
   "cell_type": "code",
   "execution_count": 27,
   "metadata": {},
   "outputs": [
    {
     "data": {
      "image/png": "[encoded data removed]",
      "text/plain": [
       "<matplotlib.figure.Figure at 0x1d524417048>"
      ]
     },
     "metadata": {},
     "output_type": "display_data"
    }
   ],
   "source": [
    "xticks = [0.1, 1.1, 2.1, 3.1, 4.1, 5.1, 6.1, 7.1, 8.1, 9.1]\n",
    "emp_title_categories = ['teacher','manager','registered nurse', 'owner','supervisor','driver','sales','office manager',\n",
    "        'project manager','general manager']\n",
    "plot(xticks,'emp_title', emp_title_categories)"
   ]
  },
  {
   "cell_type": "markdown",
   "metadata": {},
   "source": [
    "Although teachers have largest number of loans they have relatively low bad loan percentage. And manager and registered nurse also have low bad loan ratio."
   ]
  },
  {
   "cell_type": "markdown",
   "metadata": {},
   "source": [
    "#### The relationship between loan status and home ownership"
   ]
  },
  {
   "cell_type": "code",
   "execution_count": 28,
   "metadata": {},
   "outputs": [
    {
     "data": {
      "image/png": "[encoded data removed]",
      "text/plain": [
       "<matplotlib.figure.Figure at 0x1d523c43b00>"
      ]
     },
     "metadata": {},
     "output_type": "display_data"
    }
   ],
   "source": [
    "xticks = [0.1, 1.1, 2.1, 3.1]\n",
    "home_ownership_categories = ['MORTGAGE','RENT','OWN']\n",
    "plot(xticks,'home_ownership', home_ownership_categories)"
   ]
  },
  {
   "cell_type": "markdown",
   "metadata": {},
   "source": [
    "The people who have mortgage have largest number of loans while their bad loan percentage is relatively low compare to the renters/home owners."
   ]
  },
  {
   "cell_type": "markdown",
   "metadata": {},
   "source": [
    "#### The relationship of zip code, unemployment rate and bad loan percentage"
   ]
  },
  {
   "cell_type": "markdown",
   "metadata": {},
   "source": [
    "What is the mean unemployment rate in zip codes for bad/good loans?"
   ]
  },
  {
   "cell_type": "code",
   "execution_count": 29,
   "metadata": {},
   "outputs": [
    {
     "data": {
      "text/html": [
       "<div>\n",
       "<style>\n",
       "    .dataframe thead tr:only-child th {\n",
       "        text-align: right;\n",
       "    }\n",
       "\n",
       "    .dataframe thead th {\n",
       "        text-align: left;\n",
       "    }\n",
       "\n",
       "    .dataframe tbody tr th {\n",
       "        vertical-align: top;\n",
       "    }\n",
       "</style>\n",
       "<table border=\"1\" class=\"dataframe\">\n",
       "  <thead>\n",
       "    <tr style=\"text-align: right;\">\n",
       "      <th></th>\n",
       "      <th>state</th>\n",
       "      <th>zip_code</th>\n",
       "      <th>Rate</th>\n",
       "    </tr>\n",
       "  </thead>\n",
       "  <tbody>\n",
       "    <tr>\n",
       "      <th>84</th>\n",
       "      <td>CA</td>\n",
       "      <td>92200.0</td>\n",
       "      <td>15.37</td>\n",
       "    </tr>\n",
       "    <tr>\n",
       "      <th>302</th>\n",
       "      <td>KY</td>\n",
       "      <td>41600.0</td>\n",
       "      <td>12.05</td>\n",
       "    </tr>\n",
       "    <tr>\n",
       "      <th>904</th>\n",
       "      <td>WV</td>\n",
       "      <td>24800.0</td>\n",
       "      <td>11.92</td>\n",
       "    </tr>\n",
       "    <tr>\n",
       "      <th>57</th>\n",
       "      <td>AZ</td>\n",
       "      <td>86500.0</td>\n",
       "      <td>11.55</td>\n",
       "    </tr>\n",
       "    <tr>\n",
       "      <th>438</th>\n",
       "      <td>MS</td>\n",
       "      <td>38700.0</td>\n",
       "      <td>11.31</td>\n",
       "    </tr>\n",
       "  </tbody>\n",
       "</table>\n",
       "</div>"
      ],
      "text/plain": [
       "    state  zip_code   Rate\n",
       "84     CA   92200.0  15.37\n",
       "302    KY   41600.0  12.05\n",
       "904    WV   24800.0  11.92\n",
       "57     AZ   86500.0  11.55\n",
       "438    MS   38700.0  11.31"
      ]
     },
     "execution_count": 29,
     "metadata": {},
     "output_type": "execute_result"
    }
   ],
   "source": [
    "data = df1.loc[df1.loan_status == 'bad loan', ['state', 'zip_code', 'Rate', 'loan_status']].groupby(['state', 'zip_code']).mean()\n",
    "data = data.reset_index()\n",
    "data.sort_values('Rate', ascending=False, inplace=True)\n",
    "data.head()"
   ]
  },
  {
   "cell_type": "code",
   "execution_count": 30,
   "metadata": {},
   "outputs": [
    {
     "data": {
      "text/plain": [
       "<matplotlib.text.Text at 0x1d523a480b8>"
      ]
     },
     "execution_count": 30,
     "metadata": {},
     "output_type": "execute_result"
    },
    {
     "data": {
      "image/png": "[encoded data removed]",
      "text/plain": [
       "<matplotlib.figure.Figure at 0x1d5239efba8>"
      ]
     },
     "metadata": {},
     "output_type": "display_data"
    }
   ],
   "source": [
    "# mean unemployment rate in zip codes for bad/good loans\n",
    "plt.scatter(data['zip_code'], data['Rate'], alpha=0.2, c='red')\n",
    "plt.xlabel('Zip code')\n",
    "plt.ylabel('Unemployment rate')\n",
    "plt.title('Mean unemployment rate in zip codes')"
   ]
  },
  {
   "cell_type": "code",
   "execution_count": 31,
   "metadata": {},
   "outputs": [
    {
     "data": {
      "text/plain": [
       "<matplotlib.text.Text at 0x1d523a7d4e0>"
      ]
     },
     "execution_count": 31,
     "metadata": {},
     "output_type": "execute_result"
    },
    {
     "data": {
      "image/png": "[encoded data removed]",
      "text/plain": [
       "<matplotlib.figure.Figure at 0x1d523b44a20>"
      ]
     },
     "metadata": {},
     "output_type": "display_data"
    }
   ],
   "source": [
    "# top ten mean unemployment rate in zip codes for bad/good loans\n",
    "plt.scatter(data['zip_code'].values[:10], data['Rate'].values[:10], \n",
    "            alpha=0.2, s=20*data['Rate'].values[:10],c='red')\n",
    "plt.xlabel('Zip code')\n",
    "plt.ylabel('Unemployment rate')\n",
    "plt.title(\"Top ten unemployment rate's zip code\")"
   ]
  },
  {
   "cell_type": "markdown",
   "metadata": {},
   "source": [
    "The top ten unemployment rates locate in three zip codes area(20000, 40000, 90000).States CA and AZ's zip codes are around 90000, KY is around 40000, WV and MS are around 20000."
   ]
  },
  {
   "cell_type": "markdown",
   "metadata": {},
   "source": [
    "Will the loan lenders in the five states(CA, AZ, KY, WV and MS) which have high unemployment rates also have high bad loan percentage?"
   ]
  },
  {
   "cell_type": "code",
   "execution_count": 32,
   "metadata": {
    "collapsed": true
   },
   "outputs": [],
   "source": [
    "# caculation of bad loan percentage in zip code\n",
    "def bad_loan_perc_zip(DF):\n",
    "    new1 = DF.loc[DF.loan_status == 'good loan', ['state', 'zip_code', 'Rate', 'loan_status']]\n",
    "    new2 = DF.loc[DF.loan_status == 'bad loan', ['state', 'zip_code', 'Rate', 'loan_status']]\n",
    "\n",
    "    a = pd.DataFrame(new1.groupby(['state', 'zip_code', 'Rate'])['loan_status'].size())\n",
    "    a = a.reset_index()\n",
    "\n",
    "    b = pd.DataFrame(new2.groupby(['state', 'zip_code', 'Rate'])['loan_status'].size())\n",
    "    b = b.reset_index()\n",
    "\n",
    "    total = pd.merge(a, b, on=['state','zip_code'], how='left').drop('Rate_y', axis=1)\n",
    "    total.fillna(0, inplace=True)\n",
    "    total['bad_loan_perc'] = (total['loan_status_y']/(total['loan_status_x'] + total['loan_status_y'])) * 100\n",
    "    return total"
   ]
  },
  {
   "cell_type": "code",
   "execution_count": 33,
   "metadata": {},
   "outputs": [
    {
     "data": {
      "text/plain": [
       "<matplotlib.text.Text at 0x1d522f1eac8>"
      ]
     },
     "execution_count": 33,
     "metadata": {},
     "output_type": "execute_result"
    },
    {
     "data": {
      "image/png": "[encoded data removed]",
      "text/plain": [
       "<matplotlib.figure.Figure at 0x1d522fa4518>"
      ]
     },
     "metadata": {},
     "output_type": "display_data"
    }
   ],
   "source": [
    "# plot the bad loan percentage with unemployment rate in the same zip code area\n",
    "import seaborn as sns\n",
    "total = bad_loan_perc_zip(df1)\n",
    "sns.jointplot('Rate_x', 'bad_loan_perc', data=total, kind='reg')\n",
    "plt.title('Bad loan percentage and unemployment rate')"
   ]
  },
  {
   "cell_type": "markdown",
   "metadata": {},
   "source": [
    "From the above plot we can see that the higher the unemployment rate is the higher the bad loan percentage. So we should pay attention to the loan applicants from the five states(CA, AZ, KY, WV and MS) which have high unemployment rates."
   ]
  },
  {
   "cell_type": "markdown",
   "metadata": {},
   "source": [
    "What are the relationships of the mean unemployment rate for people without loan, in good loan status and in bad loan status in the same zip code area?"
   ]
  },
  {
   "cell_type": "code",
   "execution_count": 38,
   "metadata": {},
   "outputs": [
    {
     "name": "stderr",
     "output_type": "stream",
     "text": [
      "C:\\Users\\yepeng\\Anaconda3\\lib\\site-packages\\ipykernel_launcher.py:3: SettingWithCopyWarning: \n",
      "A value is trying to be set on a copy of a slice from a DataFrame.\n",
      "Try using .loc[row_indexer,col_indexer] = value instead\n",
      "\n",
      "See the caveats in the documentation: http://pandas.pydata.org/pandas-docs/stable/indexing.html#indexing-view-versus-copy\n",
      "  This is separate from the ipykernel package so we can avoid doing imports until\n"
     ]
    },
    {
     "data": {
      "text/plain": [
       "(421950, 2)"
      ]
     },
     "execution_count": 38,
     "metadata": {},
     "output_type": "execute_result"
    }
   ],
   "source": [
    "# get unemployment rate of unloanded population\n",
    "new = unemp_zip[['Rate']]  \n",
    "new['loan_status'] = ['rejected population'] * 855\n",
    "\n",
    "# get enemployment rate of good loan lenders and bad loan lenders\n",
    "new1 = df1.loc[df1.loan_status == 'good loan', ['Rate', 'loan_status']]\n",
    "new2 = df1.loc[df1.loan_status == 'bad loan', ['Rate', 'loan_status']]\n",
    "\n",
    "# concatenate the three files \n",
    "frames = [new, new1, new2]\n",
    "new_total = pd.concat(frames)\n",
    "new_total.shape"
   ]
  },
  {
   "cell_type": "code",
   "execution_count": 35,
   "metadata": {},
   "outputs": [
    {
     "name": "stdout",
     "output_type": "stream",
     "text": [
      "Rejected population' mean unemployment rate: 5.523099415204683\n",
      "Good loan lenders' mean unemployment rate: 5.4941326246224715\n",
      "Bad loan lenders' mean unemployment rate: 5.554777603913014\n"
     ]
    }
   ],
   "source": [
    "print(\"Rejected population' mean unemployment rate: \" + str(new.Rate.mean()))\n",
    "print(\"Good loan lenders' mean unemployment rate: \" + str(new1.Rate.mean()))\n",
    "print(\"Bad loan lenders' mean unemployment rate: \" + str(new2.Rate.mean()))"
   ]
  },
  {
   "cell_type": "code",
   "execution_count": 39,
   "metadata": {},
   "outputs": [
    {
     "data": {
      "text/plain": [
       "<matplotlib.text.Text at 0x1d524c45da0>"
      ]
     },
     "execution_count": 39,
     "metadata": {},
     "output_type": "execute_result"
    },
    {
     "data": {
      "image/png": "[encoded data removed]",
      "text/plain": [
       "<matplotlib.figure.Figure at 0x1d522ea72e8>"
      ]
     },
     "metadata": {},
     "output_type": "display_data"
    }
   ],
   "source": [
    "sns.set_style(\"whitegrid\")\n",
    "sns.set_context(\"poster\")\n",
    "_ = sns.boxplot(x='loan_status', y='Rate', data=new_total)\n",
    "plt.title('Loan status and unemployment rate')"
   ]
  },
  {
   "cell_type": "markdown",
   "metadata": {},
   "source": [
    "From the above figure we can see the mean unemployment rate for good loan lenders is lower than that of unloaded population and bad loan lenders. The mean calculation shows the mean unemployment rate for unloaded population is lower than that of bad loan lenders.\n",
    "\n",
    "In other words, people that are accepted for a loan and pay back a loan on time typically more easily  employed than the rest of the population. While people that are accepted for a loan and don't pay back a loan typically more likely to be unemployed than the rest of the population."
   ]
  },
  {
   "cell_type": "markdown",
   "metadata": {},
   "source": [
    "#### The relationship of employment length and bad loan percentage"
   ]
  },
  {
   "cell_type": "code",
   "execution_count": 40,
   "metadata": {},
   "outputs": [
    {
     "data": {
      "text/plain": [
       "<matplotlib.axes._subplots.AxesSubplot at 0x1d529580630>"
      ]
     },
     "execution_count": 40,
     "metadata": {},
     "output_type": "execute_result"
    },
    {
     "data": {
      "image/png": "[encoded data removed]",
      "text/plain": [
       "<matplotlib.figure.Figure at 0x1d524c30a90>"
      ]
     },
     "metadata": {},
     "output_type": "display_data"
    }
   ],
   "source": [
    "g_loan = df1[df1.loan_status == 'good loan'][['emp_length']]\n",
    "g_loan.columns = [\"Good loan emp_length\"]\n",
    "\n",
    "b_loan = df1[df1.loan_status == 'bad loan'][['emp_length']]\n",
    "b_loan.columns = [\"Bad loan emp_length\"]\n",
    "\n",
    "fig, axs = plt.subplots(ncols=2, sharey=True)\n",
    "sns.violinplot(data=g_loan, ax=axs[0], color='#9b59b6')\n",
    "sns.violinplot(data=b_loan, ax=axs[1], color='#3498db')"
   ]
  },
  {
   "cell_type": "markdown",
   "metadata": {},
   "source": [
    "## Statistical Analysis"
   ]
  },
  {
   "cell_type": "markdown",
   "metadata": {},
   "source": [
    "### Numeric variables correlation analysis"
   ]
  },
  {
   "cell_type": "code",
   "execution_count": 34,
   "metadata": {},
   "outputs": [
    {
     "data": {
      "text/html": [
       "<div>\n",
       "<style>\n",
       "    .dataframe thead tr:only-child th {\n",
       "        text-align: right;\n",
       "    }\n",
       "\n",
       "    .dataframe thead th {\n",
       "        text-align: left;\n",
       "    }\n",
       "\n",
       "    .dataframe tbody tr th {\n",
       "        vertical-align: top;\n",
       "    }\n",
       "</style>\n",
       "<table border=\"1\" class=\"dataframe\">\n",
       "  <thead>\n",
       "    <tr style=\"text-align: right;\">\n",
       "      <th></th>\n",
       "      <th>variable_0</th>\n",
       "      <th>variable_1</th>\n",
       "      <th>correlation</th>\n",
       "    </tr>\n",
       "  </thead>\n",
       "  <tbody>\n",
       "    <tr>\n",
       "      <th>0</th>\n",
       "      <td>open_il_24m</td>\n",
       "      <td>open_il_12m</td>\n",
       "      <td>0.760552</td>\n",
       "    </tr>\n",
       "    <tr>\n",
       "      <th>1</th>\n",
       "      <td>open_rv_24m</td>\n",
       "      <td>open_rv_12m</td>\n",
       "      <td>0.767262</td>\n",
       "    </tr>\n",
       "    <tr>\n",
       "      <th>2</th>\n",
       "      <td>total_rev_hi_lim</td>\n",
       "      <td>revol_bal</td>\n",
       "      <td>0.833423</td>\n",
       "    </tr>\n",
       "    <tr>\n",
       "      <th>3</th>\n",
       "      <td>acc_open_past_24mths</td>\n",
       "      <td>open_rv_24m</td>\n",
       "      <td>0.842395</td>\n",
       "    </tr>\n",
       "    <tr>\n",
       "      <th>4</th>\n",
       "      <td>avg_cur_bal</td>\n",
       "      <td>tot_cur_bal</td>\n",
       "      <td>0.834840</td>\n",
       "    </tr>\n",
       "  </tbody>\n",
       "</table>\n",
       "</div>"
      ],
      "text/plain": [
       "             variable_0   variable_1  correlation\n",
       "0           open_il_24m  open_il_12m     0.760552\n",
       "1           open_rv_24m  open_rv_12m     0.767262\n",
       "2      total_rev_hi_lim    revol_bal     0.833423\n",
       "3  acc_open_past_24mths  open_rv_24m     0.842395\n",
       "4           avg_cur_bal  tot_cur_bal     0.834840"
      ]
     },
     "execution_count": 34,
     "metadata": {},
     "output_type": "execute_result"
    }
   ],
   "source": [
    "# calculate correlation coefficient of the numeric variables\n",
    "num_df = df.select_dtypes(include=['float']).copy()\n",
    "cor = num_df.corr()\n",
    "\n",
    "# find the highly correlated variables\n",
    "cor.loc[:,:] = np.tril(cor, k=-1) # below main lower triangle of an array\n",
    "cor = pd.DataFrame(cor.stack())\n",
    "cor.rename(columns = {0 :'correlation'}, inplace = True)\n",
    "cor_75 = cor[(cor.correlation > 0.75) | (cor.correlation < -0.75)]\n",
    "cor_75 = cor_75.reset_index()\n",
    "cor_75.rename(columns={'level_0':'variable_0', 'level_1':'variable_1'}, inplace=True)\n",
    "cor_75.head()"
   ]
  },
  {
   "cell_type": "code",
   "execution_count": 35,
   "metadata": {},
   "outputs": [
    {
     "name": "stdout",
     "output_type": "stream",
     "text": [
      "{'tot_cur_bal', 'num_bc_sats', 'open_rv_12m', 'mths_since_recent_revol_delinq', 'avg_cur_bal', 'num_actv_rev_tl', 'acc_open_past_24mths', 'num_actv_bc_tl', 'mths_since_last_delinq', 'mths_since_recent_bc_dlq', 'open_rv_24m', 'open_il_12m', 'revol_bal', 'total_rev_hi_lim', 'open_il_24m'}\n"
     ]
    }
   ],
   "source": [
    "#slice the first ten correlated pair of variables\n",
    "a = cor_75.variable_0.values[:10]\n",
    "b = cor_75.variable_1.values[:10]\n",
    "c = list(a) + list(b)\n",
    "c = set(c)\n",
    "print(c)"
   ]
  },
  {
   "cell_type": "code",
   "execution_count": 36,
   "metadata": {},
   "outputs": [
    {
     "data": {
      "image/png": "[encoded data removed]",
      "text/plain": [
       "<matplotlib.figure.Figure at 0x222009341d0>"
      ]
     },
     "metadata": {},
     "output_type": "display_data"
    }
   ],
   "source": [
    "# correlation hotmap for the selected variables\n",
    "high_cor = num_df[['mths_since_last_delinq', 'acc_open_past_24mths', 'open_rv_12m', 'total_rev_hi_lim',\n",
    "                   'avg_cur_bal', 'num_bc_sats', 'open_il_12m', 'mths_since_recent_revol_delinq', \n",
    "                   'num_actv_rev_tl', 'tot_cur_bal', 'num_actv_bc_tl', 'open_rv_24m', \n",
    "                   'mths_since_recent_bc_dlq', 'open_il_24m', 'revol_bal']]\n",
    "high_corr = high_cor.corr()\n",
    "mask = np.zeros_like(high_corr)\n",
    "mask[np.triu_indices_from(mask)] = True\n",
    "with sns.axes_style(\"white\"):\n",
    "    ax = sns.heatmap(high_corr, mask=mask, vmax=1, square=True)"
   ]
  },
  {
   "cell_type": "markdown",
   "metadata": {},
   "source": [
    "### Chi squrare test for the loan status and employment title"
   ]
  },
  {
   "cell_type": "markdown",
   "metadata": {},
   "source": [
    " It tests whether the distribution of sample categorical data matches an expected distribution."
   ]
  },
  {
   "cell_type": "markdown",
   "metadata": {},
   "source": [
    "Hypothesis\n",
    "\n",
    "H 0  : In the population, variable'loan_status' and variable 'emp_title' are independent.\n",
    "\n",
    "H 1  : In the population, variable'loan_status' and variable 'emp_title' are dependent. "
   ]
  },
  {
   "cell_type": "code",
   "execution_count": 37,
   "metadata": {
    "collapsed": true
   },
   "outputs": [],
   "source": [
    "def create_table(DF, col, colcats): \n",
    "    df = DF[DF[col].isin(colcats)][[ 'loan_status', col]]\n",
    "    Con_Table = pd.crosstab(df.loan_status, df[col], margins=True) \n",
    "    Con_Table.columns =  colcats +['row_totals']\n",
    "    Con_Table.index = ['good','bad', 'col_totals']\n",
    "    return Con_Table, df "
   ]
  },
  {
   "cell_type": "code",
   "execution_count": 38,
   "metadata": {},
   "outputs": [
    {
     "data": {
      "text/html": [
       "<div>\n",
       "<style>\n",
       "    .dataframe thead tr:only-child th {\n",
       "        text-align: right;\n",
       "    }\n",
       "\n",
       "    .dataframe thead th {\n",
       "        text-align: left;\n",
       "    }\n",
       "\n",
       "    .dataframe tbody tr th {\n",
       "        vertical-align: top;\n",
       "    }\n",
       "</style>\n",
       "<table border=\"1\" class=\"dataframe\">\n",
       "  <thead>\n",
       "    <tr style=\"text-align: right;\">\n",
       "      <th></th>\n",
       "      <th>teacher</th>\n",
       "      <th>manager</th>\n",
       "      <th>registered nurse</th>\n",
       "      <th>owner</th>\n",
       "      <th>supervisor</th>\n",
       "      <th>driver</th>\n",
       "      <th>sales</th>\n",
       "      <th>office manager</th>\n",
       "      <th>project manager</th>\n",
       "      <th>general manager</th>\n",
       "      <th>row_totals</th>\n",
       "    </tr>\n",
       "  </thead>\n",
       "  <tbody>\n",
       "    <tr>\n",
       "      <th>good</th>\n",
       "      <td>817</td>\n",
       "      <td>403</td>\n",
       "      <td>1319</td>\n",
       "      <td>379</td>\n",
       "      <td>987</td>\n",
       "      <td>313</td>\n",
       "      <td>1044</td>\n",
       "      <td>610</td>\n",
       "      <td>642</td>\n",
       "      <td>1162</td>\n",
       "      <td>7676</td>\n",
       "    </tr>\n",
       "    <tr>\n",
       "      <th>bad</th>\n",
       "      <td>3046</td>\n",
       "      <td>2159</td>\n",
       "      <td>7639</td>\n",
       "      <td>2447</td>\n",
       "      <td>5114</td>\n",
       "      <td>2421</td>\n",
       "      <td>6944</td>\n",
       "      <td>3149</td>\n",
       "      <td>3438</td>\n",
       "      <td>8794</td>\n",
       "      <td>45151</td>\n",
       "    </tr>\n",
       "    <tr>\n",
       "      <th>col_totals</th>\n",
       "      <td>3863</td>\n",
       "      <td>2562</td>\n",
       "      <td>8958</td>\n",
       "      <td>2826</td>\n",
       "      <td>6101</td>\n",
       "      <td>2734</td>\n",
       "      <td>7988</td>\n",
       "      <td>3759</td>\n",
       "      <td>4080</td>\n",
       "      <td>9956</td>\n",
       "      <td>52827</td>\n",
       "    </tr>\n",
       "  </tbody>\n",
       "</table>\n",
       "</div>"
      ],
      "text/plain": [
       "            teacher  manager  registered nurse  owner  supervisor  driver  \\\n",
       "good            817      403              1319    379         987     313   \n",
       "bad            3046     2159              7639   2447        5114    2421   \n",
       "col_totals     3863     2562              8958   2826        6101    2734   \n",
       "\n",
       "            sales  office manager  project manager  general manager  \\\n",
       "good         1044             610              642             1162   \n",
       "bad          6944            3149             3438             8794   \n",
       "col_totals   7988            3759             4080             9956   \n",
       "\n",
       "            row_totals  \n",
       "good              7676  \n",
       "bad              45151  \n",
       "col_totals       52827  "
      ]
     },
     "execution_count": 38,
     "metadata": {},
     "output_type": "execute_result"
    }
   ],
   "source": [
    "Con_Table, df = create_table(df1, 'emp_title', emp_title_categories)\n",
    "Con_Table"
   ]
  },
  {
   "cell_type": "code",
   "execution_count": 39,
   "metadata": {
    "collapsed": true
   },
   "outputs": [],
   "source": [
    "# get observed value and expected value\n",
    "observed = Con_Table.iloc[0:2, 0:10]\n",
    "\n",
    "expected =  np.outer(Con_Table[\"row_totals\"][0:2],\n",
    "                     Con_Table.iloc[2, 0:10]) / 52827\n",
    "\n",
    "expected = pd.DataFrame(expected)\n",
    "\n",
    "expected.columns = emp_title_categories\n",
    "expected.index = ['good','bad']"
   ]
  },
  {
   "cell_type": "code",
   "execution_count": 40,
   "metadata": {},
   "outputs": [
    {
     "name": "stdout",
     "output_type": "stream",
     "text": [
      "chi_squared_stat: 269.3493768308436\n",
      "Critical value: 21.0260698175\n",
      "P value: 0.0\n"
     ]
    }
   ],
   "source": [
    "import scipy.stats as stats\n",
    "def chi_square_test(freedom):\n",
    "    # chi square statistics\n",
    "    chi_squared_stat = (((observed-expected)**2)/expected).sum().sum()\n",
    "\n",
    "    print('chi_squared_stat: ' + str(chi_squared_stat))\n",
    "\n",
    "    crit = stats.chi2.ppf(q = 0.95, # Find the critical value for 95% confidence*\n",
    "                          df = freedom)  \n",
    "\n",
    "    print(\"Critical value: \" + str(crit))\n",
    "\n",
    "    p_value = 1 - stats.chi2.cdf(x=chi_squared_stat,  # Find the p-value\n",
    "                                df=freedom)\n",
    "    print(\"P value: \" + str(p_value))\n",
    "\n",
    "chi_square_test(12)"
   ]
  },
  {
   "cell_type": "markdown",
   "metadata": {},
   "source": [
    "Conclusion:\n",
    "\n",
    "We reject H 0 and consider variable'loan_status' and variable 'emp_title are dependent at alpha = 0.05 level. In other words loan status dependend on what kind of employment title of the borrowers."
   ]
  },
  {
   "cell_type": "markdown",
   "metadata": {},
   "source": [
    "### Chi square test for loan status and home ownership"
   ]
  },
  {
   "cell_type": "markdown",
   "metadata": {},
   "source": [
    "Hypothesis\n",
    "\n",
    "H 0  : In the population, variable'loan_status' and variable 'home_ownership' are independent.\n",
    "\n",
    "H 1  : In the population, variable'loan_status' and variable 'home_ownership' are dependent."
   ]
  },
  {
   "cell_type": "code",
   "execution_count": 41,
   "metadata": {},
   "outputs": [
    {
     "data": {
      "text/html": [
       "<div>\n",
       "<style>\n",
       "    .dataframe thead tr:only-child th {\n",
       "        text-align: right;\n",
       "    }\n",
       "\n",
       "    .dataframe thead th {\n",
       "        text-align: left;\n",
       "    }\n",
       "\n",
       "    .dataframe tbody tr th {\n",
       "        vertical-align: top;\n",
       "    }\n",
       "</style>\n",
       "<table border=\"1\" class=\"dataframe\">\n",
       "  <thead>\n",
       "    <tr style=\"text-align: right;\">\n",
       "      <th></th>\n",
       "      <th>MORTGAGE</th>\n",
       "      <th>RENT</th>\n",
       "      <th>OWN</th>\n",
       "      <th>row_totals</th>\n",
       "    </tr>\n",
       "  </thead>\n",
       "  <tbody>\n",
       "    <tr>\n",
       "      <th>good</th>\n",
       "      <td>25314</td>\n",
       "      <td>6778</td>\n",
       "      <td>28354</td>\n",
       "      <td>60446</td>\n",
       "    </tr>\n",
       "    <tr>\n",
       "      <th>bad</th>\n",
       "      <td>182369</td>\n",
       "      <td>38988</td>\n",
       "      <td>139290</td>\n",
       "      <td>360647</td>\n",
       "    </tr>\n",
       "    <tr>\n",
       "      <th>col_totals</th>\n",
       "      <td>207683</td>\n",
       "      <td>45766</td>\n",
       "      <td>167644</td>\n",
       "      <td>421093</td>\n",
       "    </tr>\n",
       "  </tbody>\n",
       "</table>\n",
       "</div>"
      ],
      "text/plain": [
       "            MORTGAGE   RENT     OWN  row_totals\n",
       "good           25314   6778   28354       60446\n",
       "bad           182369  38988  139290      360647\n",
       "col_totals    207683  45766  167644      421093"
      ]
     },
     "execution_count": 41,
     "metadata": {},
     "output_type": "execute_result"
    }
   ],
   "source": [
    "Con_Table, df = create_table(df1, 'home_ownership', home_ownership_categories)\n",
    "Con_Table"
   ]
  },
  {
   "cell_type": "code",
   "execution_count": 42,
   "metadata": {
    "collapsed": true
   },
   "outputs": [],
   "source": [
    "# get observed value and expected value\n",
    "observed = Con_Table.iloc[0:2, 0:3]\n",
    "\n",
    "expected =  np.outer(Con_Table[\"row_totals\"][0:2],\n",
    "                     Con_Table.iloc[2, 0:3]) / 421093\n",
    "\n",
    "expected = pd.DataFrame(expected)\n",
    "\n",
    "expected.columns = home_ownership_categories\n",
    "expected.index = ['good','bad']"
   ]
  },
  {
   "cell_type": "code",
   "execution_count": 43,
   "metadata": {},
   "outputs": [
    {
     "name": "stdout",
     "output_type": "stream",
     "text": [
      "chi_squared_stat: 1692.8473338733406\n",
      "Critical value: 11.0704976935\n",
      "P value: 0.0\n"
     ]
    }
   ],
   "source": [
    "chi_square_test(5)"
   ]
  },
  {
   "cell_type": "markdown",
   "metadata": {},
   "source": [
    "Conclusion:\n",
    "\n",
    "We reject H 0 and consider variable'loan_status' and variable 'home_ownership' are dependent at alpha=0.05 level. It means loan status dependend on whether borrowers are renting a home or have purchased house."
   ]
  },
  {
   "cell_type": "markdown",
   "metadata": {},
   "source": [
    "### Kruskal-Wallis H-test for the median of employment length of different loan status"
   ]
  },
  {
   "cell_type": "markdown",
   "metadata": {},
   "source": [
    "The Kruskal-Wallis H-test tests the null hypothesis that the population median of all of the groups are equal. It is a non-parametric version of ANOVA. The test works on 2 or more independent samples, which may have different sizes. Note that rejecting the null hypothesis does not indicate which of the groups differs. Post-hoc comparisons between groups are required to determine which groups are different."
   ]
  },
  {
   "cell_type": "code",
   "execution_count": 44,
   "metadata": {},
   "outputs": [
    {
     "data": {
      "text/plain": [
       "loan_status\n",
       "bad loan     5.0\n",
       "good loan    6.0\n",
       "Name: emp_length, dtype: float64"
      ]
     },
     "execution_count": 44,
     "metadata": {},
     "output_type": "execute_result"
    }
   ],
   "source": [
    "median_emp_length = df1.groupby('loan_status')['emp_length'].median()\n",
    "median_emp_length"
   ]
  },
  {
   "cell_type": "markdown",
   "metadata": {},
   "source": [
    "Hypothesis:\n",
    "\n",
    "H 0: The population median of employment length in good loan borrowers and bad loan borrowers are equal.\n",
    "\n",
    "H 1: The population median of employment length in good loan borrowers and bad loan borrowers are not equal."
   ]
  },
  {
   "cell_type": "code",
   "execution_count": 45,
   "metadata": {},
   "outputs": [
    {
     "name": "stdout",
     "output_type": "stream",
     "text": [
      "Kruskal Wallis H-test test:\n",
      "H-statistic: 189435635.441\n",
      "P-Value: 0.0\n",
      "Reject NULL hypothesis - Significant differences exist between groups.\n"
     ]
    },
    {
     "name": "stderr",
     "output_type": "stream",
     "text": [
      "C:\\Users\\yepeng\\Anaconda3\\lib\\site-packages\\scipy\\stats\\stats.py:5056: RuntimeWarning: overflow encountered in long_scalars\n",
      "  h = 12.0 / (totaln * (totaln + 1)) * ssbn - 3 * (totaln + 1)\n"
     ]
    }
   ],
   "source": [
    "g_loan = df1[df1.loan_status == 'good loan'][['emp_length']]\n",
    "a = g_loan['emp_length']\n",
    "\n",
    "b_loan = df1[df1.loan_status == 'bad loan'][['emp_length']]\n",
    "b = b_loan['emp_length']\n",
    "\n",
    "print(\"Kruskal Wallis H-test test:\")\n",
    "\n",
    "H, pval = stats.kruskal(a, b)\n",
    "\n",
    "print(\"H-statistic:\", H)\n",
    "print(\"P-Value:\", pval)\n",
    "\n",
    "if pval < 0.05:\n",
    "    print(\"Reject NULL hypothesis - Significant differences exist between groups.\")\n",
    "if pval > 0.05:\n",
    "    print(\"Accept NULL hypothesis - No significant difference between groups.\")"
   ]
  },
  {
   "cell_type": "markdown",
   "metadata": {},
   "source": [
    "Conclusion:\n",
    "\n",
    "We reject H 0 and consider the population median of employment length in good loan borrowers and bad loan borrowers are equal. The median of good loan borrowers' employment length is higher than that of bad loan borrowers."
   ]
  },
  {
   "cell_type": "markdown",
   "metadata": {},
   "source": [
    "### Two sample t-test for the mean of unemployment rate in good loan borrowers and bad loan lenders"
   ]
  },
  {
   "cell_type": "markdown",
   "metadata": {},
   "source": [
    "Hypothesis:\n",
    "\n",
    "H 0: The population mean of unemployment rate of good loan borrowers and bad loan borrowers are equal.\n",
    "\n",
    "H 1: The population mean of unemployment rate of good loan borrowers and bad loan borrowers are not equal."
   ]
  },
  {
   "cell_type": "code",
   "execution_count": 46,
   "metadata": {},
   "outputs": [
    {
     "data": {
      "text/plain": [
       "loan_status\n",
       "bad loan     5.554778\n",
       "good loan    5.494133\n",
       "Name: Rate, dtype: float64"
      ]
     },
     "execution_count": 46,
     "metadata": {},
     "output_type": "execute_result"
    }
   ],
   "source": [
    "mean_unemp_rate = df1.groupby('loan_status')['Rate'].mean()\n",
    "mean_unemp_rate "
   ]
  },
  {
   "cell_type": "code",
   "execution_count": 47,
   "metadata": {},
   "outputs": [
    {
     "name": "stdout",
     "output_type": "stream",
     "text": [
      "ttest_ind:            t = -9.58285  p = 9.71499e-22\n"
     ]
    }
   ],
   "source": [
    "good_loan = df1[df1.loan_status == 'good loan'][['Rate']].dropna()\n",
    "x = good_loan['Rate']\n",
    "\n",
    "bad_loan = df1[df1.loan_status == 'bad loan'][['Rate']].dropna()\n",
    "y = bad_loan['Rate']\n",
    "\n",
    "t, p = stats.ttest_ind(x, y, equal_var=False)\n",
    "print(\"ttest_ind:            t = %g  p = %g\" % (t, p))"
   ]
  },
  {
   "cell_type": "markdown",
   "metadata": {},
   "source": [
    "Conclusions:\n",
    "\n",
    "We reject H0 and consider the mean of unemployment rate of good loan borrowers is lower than that of the bad loan borrowers."
   ]
  },
  {
   "cell_type": "markdown",
   "metadata": {},
   "source": [
    "# Model building"
   ]
  },
  {
   "cell_type": "code",
   "execution_count": 41,
   "metadata": {
    "collapsed": true
   },
   "outputs": [],
   "source": [
    "from sklearn.model_selection import train_test_split\n",
    "from sklearn.tree import DecisionTreeClassifier\n",
    "from sklearn.metrics import accuracy_score"
   ]
  },
  {
   "cell_type": "markdown",
   "metadata": {},
   "source": [
    "### Data preprocessing"
   ]
  },
  {
   "cell_type": "code",
   "execution_count": 42,
   "metadata": {},
   "outputs": [
    {
     "data": {
      "text/plain": [
       "good loan    360649\n",
       "bad loan      60446\n",
       "Name: loan_status, dtype: int64"
      ]
     },
     "execution_count": 42,
     "metadata": {},
     "output_type": "execute_result"
    }
   ],
   "source": [
    "df2 = df1.dropna(subset=['loan_status'])\n",
    "df2['loan_status'].value_counts(dropna=False)"
   ]
  },
  {
   "cell_type": "markdown",
   "metadata": {},
   "source": [
    "#### Extract 'year' from variable 'earliest_cr_line'"
   ]
  },
  {
   "cell_type": "code",
   "execution_count": 43,
   "metadata": {},
   "outputs": [
    {
     "name": "stderr",
     "output_type": "stream",
     "text": [
      "C:\\Users\\yepeng\\Anaconda3\\lib\\site-packages\\pandas\\core\\indexing.py:517: SettingWithCopyWarning: \n",
      "A value is trying to be set on a copy of a slice from a DataFrame.\n",
      "Try using .loc[row_indexer,col_indexer] = value instead\n",
      "\n",
      "See the caveats in the documentation: http://pandas.pydata.org/pandas-docs/stable/indexing.html#indexing-view-versus-copy\n",
      "  self.obj[item] = s\n"
     ]
    }
   ],
   "source": [
    "import datetime as dt\n",
    "year_list = []\n",
    "for time in df2['earliest_cr_line']:\n",
    "    year = dt.datetime.strptime(time, '%b-%Y').year              \n",
    "    year_list.append(year)\n",
    "\n",
    "df2.loc[0:421095, 'earliest_cr_line'] = year_list"
   ]
  },
  {
   "cell_type": "code",
   "execution_count": 44,
   "metadata": {
    "collapsed": true
   },
   "outputs": [],
   "source": [
    "# convert all the object variables to dummy variabls\n",
    "df3 = pd.get_dummies(df2, columns=['home_ownership', 'verification_status', 'pymnt_plan',\n",
    "                                   'purpose', 'initial_list_status', 'application_type', 'emp_title'])\n",
    "\n",
    "#'policy_code' only have '1' and 'NaN' values \n",
    "df3 = df3.drop(['zip_code', 'state','policy_code'], axis=1) "
   ]
  },
  {
   "cell_type": "markdown",
   "metadata": {},
   "source": [
    "#### Imputing missing values of predictors with mean"
   ]
  },
  {
   "cell_type": "code",
   "execution_count": 45,
   "metadata": {
    "collapsed": true
   },
   "outputs": [],
   "source": [
    "df4 = df3.drop('loan_status', axis = 1)\n",
    "from sklearn.preprocessing import Imputer\n",
    "imputer = Imputer(missing_values='NaN', strategy='mean', axis=0)\n",
    "imputer = imputer.fit(df4)\n",
    "imputed_data = imputer.transform(df4.values)"
   ]
  },
  {
   "cell_type": "code",
   "execution_count": 46,
   "metadata": {
    "collapsed": true
   },
   "outputs": [],
   "source": [
    "X = imputed_data\n",
    "y = (df3.loan_status == 'bad loan').values"
   ]
  },
  {
   "cell_type": "code",
   "execution_count": 47,
   "metadata": {},
   "outputs": [
    {
     "name": "stdout",
     "output_type": "stream",
     "text": [
      "(252657, 112)\n",
      "(168438, 112)\n",
      "(252657,)\n",
      "(168438,)\n"
     ]
    }
   ],
   "source": [
    "X_train, X_test, y_train, y_test = train_test_split(\n",
    "    X, y, test_size=0.4, random_state = 0)\n",
    "print(X_train.shape)\n",
    "print(X_test.shape)\n",
    "print(y_train.shape)\n",
    "print(y_test.shape)"
   ]
  },
  {
   "cell_type": "markdown",
   "metadata": {},
   "source": [
    "### Decision Tree "
   ]
  },
  {
   "cell_type": "markdown",
   "metadata": {},
   "source": [
    "#### Hyperparameter tuning"
   ]
  },
  {
   "cell_type": "code",
   "execution_count": 56,
   "metadata": {},
   "outputs": [
    {
     "name": "stdout",
     "output_type": "stream",
     "text": [
      "[(3, 0.85669108733167099), (4, 0.85671483517706548), (5, 0.85673066729330494), (6, 0.85673066729330494), (7, 0.85663567777590433), (8, 0.85623987914651389), (9, 0.85583221575084278)]\n"
     ]
    }
   ],
   "source": [
    "# use cross validation to tune hyperparameter of decision tree algorithm\n",
    "from sklearn.model_selection import cross_val_score\n",
    "from sklearn import tree\n",
    "depth = []\n",
    "for i in range(3,10):\n",
    "    clf = tree.DecisionTreeClassifier(max_depth=i,min_samples_leaf=50)\n",
    "    # Perform 7-fold cross validation \n",
    "    scores = cross_val_score(estimator=clf, X=X_train, y=y_train, cv=7, n_jobs=4)\n",
    "    depth.append((i,scores.mean()))\n",
    "print(depth)"
   ]
  },
  {
   "cell_type": "markdown",
   "metadata": {},
   "source": [
    "From the scores we obtained from the tuning process max_depth equaling 5 or 6 is the best choice."
   ]
  },
  {
   "cell_type": "code",
   "execution_count": 57,
   "metadata": {},
   "outputs": [
    {
     "data": {
      "text/plain": [
       "DecisionTreeClassifier(class_weight=None, criterion='gini', max_depth=6,\n",
       "            max_features=None, max_leaf_nodes=None,\n",
       "            min_impurity_decrease=0.0, min_impurity_split=None,\n",
       "            min_samples_leaf=50, min_samples_split=2,\n",
       "            min_weight_fraction_leaf=0.0, presort=False, random_state=0,\n",
       "            splitter='best')"
      ]
     },
     "execution_count": 57,
     "metadata": {},
     "output_type": "execute_result"
    }
   ],
   "source": [
    "# training decision tree model with 'gini index' criterion\n",
    "clf_gini = DecisionTreeClassifier(criterion = \"gini\", random_state = 0,\n",
    "                               max_depth=6, min_samples_leaf=50)\n",
    "clf_gini.fit(X_train, y_train)"
   ]
  },
  {
   "cell_type": "code",
   "execution_count": 58,
   "metadata": {},
   "outputs": [
    {
     "data": {
      "text/plain": [
       "DecisionTreeClassifier(class_weight=None, criterion='entropy', max_depth=6,\n",
       "            max_features=None, max_leaf_nodes=None,\n",
       "            min_impurity_decrease=0.0, min_impurity_split=None,\n",
       "            min_samples_leaf=50, min_samples_split=2,\n",
       "            min_weight_fraction_leaf=0.0, presort=False, random_state=0,\n",
       "            splitter='best')"
      ]
     },
     "execution_count": 58,
     "metadata": {},
     "output_type": "execute_result"
    }
   ],
   "source": [
    "# training decision tree model with 'entropy' criterion\n",
    "clf_entropy = DecisionTreeClassifier(criterion = \"entropy\", random_state = 0,\n",
    "                                     max_depth=6, min_samples_leaf=50)\n",
    "clf_entropy.fit(X_train, y_train)"
   ]
  },
  {
   "cell_type": "code",
   "execution_count": 59,
   "metadata": {
    "collapsed": true
   },
   "outputs": [],
   "source": [
    "# testing the decision tree models\n",
    "y_pred_gi = pd.DataFrame(clf_gini.predict_proba(X_test)).iloc[:,1]\n",
    "y_pred_en = pd.DataFrame(clf_entropy.predict_proba(X_test)).iloc[:,1]"
   ]
  },
  {
   "cell_type": "code",
   "execution_count": 60,
   "metadata": {},
   "outputs": [
    {
     "name": "stdout",
     "output_type": "stream",
     "text": [
      "AUC - ROC gini :  0.636293062904\n",
      "AUC - ROC entropy :  0.637417236881\n"
     ]
    }
   ],
   "source": [
    "# use roc_aus matrix to score the decision tree models\n",
    "from sklearn.metrics import roc_auc_score\n",
    "print(\"AUC - ROC gini : \", roc_auc_score(y_test, y_pred_gi))\n",
    "print(\"AUC - ROC entropy : \", roc_auc_score(y_test, y_pred_en))"
   ]
  },
  {
   "cell_type": "markdown",
   "metadata": {},
   "source": [
    "The score of the model using 'entropy' is a little bit higher than that using 'gini index'."
   ]
  },
  {
   "cell_type": "code",
   "execution_count": 61,
   "metadata": {},
   "outputs": [
    {
     "data": {
      "image/png": "[encoded data removed]",
      "text/plain": [
       "<matplotlib.figure.Figure at 0x2220209d4e0>"
      ]
     },
     "metadata": {},
     "output_type": "display_data"
    }
   ],
   "source": [
    "# plot roc_auc cure of decision tree model\n",
    "from sklearn.metrics import roc_curve\n",
    "from sklearn.metrics import auc\n",
    "\n",
    "def roc_auc_curve(y, preds):\n",
    "    # calculate the fpr and tpr for all thresholds of the classification\n",
    "    fpr, tpr, threshold = roc_curve(y_test, preds)\n",
    "    roc_auc = auc(fpr, tpr)\n",
    "\n",
    "    plt.title('Receiver Operating Characteristic')\n",
    "    plt.plot(fpr, tpr, 'b', label = 'AUC = %0.2f' % roc_auc)\n",
    "    plt.legend(loc = 'lower right')\n",
    "    plt.plot([0, 1], [0, 1],'r--')\n",
    "    plt.xlim([0, 1])\n",
    "    plt.ylim([0, 1])\n",
    "    plt.ylabel('True Positive Rate')\n",
    "    plt.xlabel('False Positive Rate')\n",
    "    plt.show()\n",
    "\n",
    "roc_auc_curve(y_test, y_pred_en)"
   ]
  },
  {
   "cell_type": "markdown",
   "metadata": {},
   "source": [
    "### Random Forest"
   ]
  },
  {
   "cell_type": "code",
   "execution_count": 62,
   "metadata": {},
   "outputs": [
    {
     "data": {
      "text/plain": [
       "RandomForestClassifier(bootstrap=True, class_weight=None, criterion='gini',\n",
       "            max_depth=None, max_features='auto', max_leaf_nodes=None,\n",
       "            min_impurity_decrease=0.0, min_impurity_split=None,\n",
       "            min_samples_leaf=50, min_samples_split=2,\n",
       "            min_weight_fraction_leaf=0.0, n_estimators=1000, n_jobs=-1,\n",
       "            oob_score=True, random_state=0, verbose=0, warm_start=False)"
      ]
     },
     "execution_count": 62,
     "metadata": {},
     "output_type": "execute_result"
    }
   ],
   "source": [
    "from sklearn.ensemble import RandomForestClassifier\n",
    "\n",
    "forest = RandomForestClassifier(n_estimators=1000, oob_score = True, random_state=0, n_jobs=-1,\n",
    "                                max_features = \"auto\", min_samples_leaf = 50)\n",
    "forest.fit(X_train, y_train)"
   ]
  },
  {
   "cell_type": "markdown",
   "metadata": {},
   "source": [
    "#### Score the random forest model and plot roc curve"
   ]
  },
  {
   "cell_type": "code",
   "execution_count": 63,
   "metadata": {},
   "outputs": [
    {
     "name": "stdout",
     "output_type": "stream",
     "text": [
      "AUC - ROC :  0.685429370428\n"
     ]
    },
    {
     "data": {
      "image/png": "[encoded data removed]",
      "text/plain": [
       "<matplotlib.figure.Figure at 0x222020901d0>"
      ]
     },
     "metadata": {},
     "output_type": "display_data"
    }
   ],
   "source": [
    "y_pred_rf = pd.DataFrame(forest.predict_proba(X_test)).iloc[:,1]\n",
    "print(\"AUC - ROC : \", roc_auc_score(y_test, y_pred_rf))\n",
    "roc_auc_curve(y_test, y_pred_rf)"
   ]
  },
  {
   "cell_type": "markdown",
   "metadata": {},
   "source": [
    "Decision tree model's auc_roc score is 0.637 and random forest model get the score 0.685."
   ]
  },
  {
   "cell_type": "markdown",
   "metadata": {},
   "source": [
    "### Gradient Boosting Method"
   ]
  },
  {
   "cell_type": "code",
   "execution_count": 64,
   "metadata": {
    "collapsed": true
   },
   "outputs": [],
   "source": [
    "from sklearn.ensemble import GradientBoostingClassifier #For Classification"
   ]
  },
  {
   "cell_type": "markdown",
   "metadata": {},
   "source": [
    "#### Tuning the learning rate "
   ]
  },
  {
   "cell_type": "code",
   "execution_count": 68,
   "metadata": {},
   "outputs": [
    {
     "name": "stdout",
     "output_type": "stream",
     "text": [
      "learning rate 0.0001 mean scores: 0.856691087231\n",
      "learning rate 0.001 mean scores: 0.856691087231\n",
      "learning rate 0.005 mean scores: 0.856691087231\n",
      "learning rate 0.01 mean scores: 0.856691087231\n",
      "learning rate 0.05 mean scores: 0.856885026801\n",
      "learning rate 0.1 mean scores: 0.85705917701\n"
     ]
    }
   ],
   "source": [
    "learning_rate = [0.0001, 0.001, 0.005, 0.01, 0.05, 0.1]\n",
    "append = []\n",
    "for i in learning_rate:\n",
    "    clf = GradientBoostingClassifier(learning_rate=i)\n",
    "    # Perform 5-fold cross validation \n",
    "    scores = cross_val_score(estimator=clf, X=X_train, y=y_train, cv=5, n_jobs=4)\n",
    "    estimator = append.append(scores)\n",
    "    print('learning rate ' + str(i) + ' mean scores: ' + str(scores.mean()))"
   ]
  },
  {
   "cell_type": "markdown",
   "metadata": {},
   "source": [
    "Learning rate decides the number of trees. The lower the learning rate the more of trees needed. Learning rate 0.1 performs better than other smaller rates."
   ]
  },
  {
   "cell_type": "markdown",
   "metadata": {},
   "source": [
    "#### Training and scoring the model"
   ]
  },
  {
   "cell_type": "code",
   "execution_count": 65,
   "metadata": {},
   "outputs": [
    {
     "data": {
      "text/plain": [
       "GradientBoostingClassifier(criterion='friedman_mse', init=None,\n",
       "              learning_rate=0.2, loss='deviance', max_depth=2,\n",
       "              max_features=None, max_leaf_nodes=None,\n",
       "              min_impurity_decrease=0.0, min_impurity_split=None,\n",
       "              min_samples_leaf=1, min_samples_split=2,\n",
       "              min_weight_fraction_leaf=0.0, n_estimators=200,\n",
       "              presort='auto', random_state=None, subsample=1.0, verbose=0,\n",
       "              warm_start=False)"
      ]
     },
     "execution_count": 65,
     "metadata": {},
     "output_type": "execute_result"
    }
   ],
   "source": [
    "#try learning rate 0.1, 0.2, 0.3 and 0.5 and 0.2 is the best one\n",
    "clf = GradientBoostingClassifier(n_estimators=200, learning_rate=0.2, max_depth=2)\n",
    "clf.fit(X_train, y_train)"
   ]
  },
  {
   "cell_type": "code",
   "execution_count": 66,
   "metadata": {},
   "outputs": [
    {
     "name": "stdout",
     "output_type": "stream",
     "text": [
      "AUC - ROC :  0.695164170634\n"
     ]
    },
    {
     "data": {
      "image/png": "[encoded data removed]",
      "text/plain": [
       "<matplotlib.figure.Figure at 0x2220bd0c278>"
      ]
     },
     "metadata": {},
     "output_type": "display_data"
    }
   ],
   "source": [
    "y_pred_gb = pd.DataFrame(clf.predict_proba(X_test)).iloc[:,1]\n",
    "print(\"AUC - ROC : \", roc_auc_score(y_test, y_pred_gb))\n",
    "roc_auc_curve(y_test, y_pred_gb)"
   ]
  },
  {
   "cell_type": "markdown",
   "metadata": {},
   "source": [
    "GBM model gets a score of 0.695 and a little bit improvment than Random Forest 0.685."
   ]
  },
  {
   "cell_type": "markdown",
   "metadata": {
    "collapsed": true
   },
   "source": [
    "To predict the loan status we tried Decision Tree, Random Forest and Gradient Boost method. We tuned hyperparameters and used cross validation. Finally we increase the ROC_AUC score from 0.637 to 0.695. Gradient Boost method proved to be the best method for the predictive model. "
   ]
  },
  {
   "cell_type": "markdown",
   "metadata": {},
   "source": [
    "## Comparing feature importance in the tree based methods"
   ]
  },
  {
   "cell_type": "code",
   "execution_count": 67,
   "metadata": {
    "collapsed": true
   },
   "outputs": [],
   "source": [
    "# Define top 10 important features function for printing and plot\n",
    "features = df4.columns\n",
    "def top_10_features(classifier):\n",
    "    importances = classifier.feature_importances_\n",
    "    indices = np.argsort(importances)[::-1][:10]\n",
    "   \n",
    "    #plot top 20 features\n",
    "    plt.title('Feature Importances')\n",
    "    plt.barh(range(len(indices)), importances[indices], color='b', align='center')\n",
    "    plt.yticks(range(len(indices)), features[indices])\n",
    "    plt.xlabel('Relative Importance')\n",
    "    plt.show()\n",
    "    \n",
    "    # Print the feature ranking top 20\n",
    "    print(\"Top 10 feature ranking:\")\n",
    "\n",
    "    for f in range(len(indices)):\n",
    "        print(\"%2d) %-*s %f\" % (f + 1, 30, features[indices[f]], importances[indices[f]]))\n",
    "    return importances, indices"
   ]
  },
  {
   "cell_type": "markdown",
   "metadata": {},
   "source": [
    "#### Top 10 important features from Decision tree model"
   ]
  },
  {
   "cell_type": "code",
   "execution_count": 70,
   "metadata": {},
   "outputs": [
    {
     "data": {
      "image/png": "[encoded data removed]",
      "text/plain": [
       "<matplotlib.figure.Figure at 0x22211765898>"
      ]
     },
     "metadata": {},
     "output_type": "display_data"
    },
    {
     "name": "stdout",
     "output_type": "stream",
     "text": [
      "Top 10 feature ranking:\n",
      " 1) acc_open_past_24mths           0.391798\n",
      " 2) tot_hi_cred_lim                0.156528\n",
      " 3) bc_open_to_buy                 0.139130\n",
      " 4) dti                            0.098290\n",
      " 5) funded_amnt                    0.053754\n",
      " 6) mths_since_recent_inq          0.026543\n",
      " 7) annual_inc                     0.026049\n",
      " 8) inq_last_6mths                 0.023597\n",
      " 9) total_rev_hi_lim               0.020172\n",
      "10) total_bc_limit                 0.013095\n"
     ]
    }
   ],
   "source": [
    "D_importance, D_indice = top_10_features(clf_entropy)"
   ]
  },
  {
   "cell_type": "markdown",
   "metadata": {},
   "source": [
    "#### Top 10 important features from Random forest model"
   ]
  },
  {
   "cell_type": "code",
   "execution_count": 72,
   "metadata": {},
   "outputs": [
    {
     "data": {
      "image/png": "[encoded data removed]",
      "text/plain": [
       "<matplotlib.figure.Figure at 0x22227952fd0>"
      ]
     },
     "metadata": {},
     "output_type": "display_data"
    },
    {
     "name": "stdout",
     "output_type": "stream",
     "text": [
      "Top 10 feature ranking:\n",
      " 1) acc_open_past_24mths           0.061432\n",
      " 2) dti                            0.058367\n",
      " 3) funded_amnt                    0.044979\n",
      " 4) bc_open_to_buy                 0.040004\n",
      " 5) num_tl_op_past_12m             0.037900\n",
      " 6) total_bc_limit                 0.035266\n",
      " 7) tot_hi_cred_lim                0.034621\n",
      " 8) mo_sin_old_rev_tl_op           0.030147\n",
      " 9) total_rev_hi_lim               0.030045\n",
      "10) avg_cur_bal                    0.029514\n"
     ]
    }
   ],
   "source": [
    "F_importance, F_indice =top_10_features(forest)"
   ]
  },
  {
   "cell_type": "markdown",
   "metadata": {},
   "source": [
    "#### Top 10 important features from Gradient boost model"
   ]
  },
  {
   "cell_type": "code",
   "execution_count": 73,
   "metadata": {},
   "outputs": [
    {
     "data": {
      "image/png": "[encoded data removed]",
      "text/plain": [
       "<matplotlib.figure.Figure at 0x222116cda90>"
      ]
     },
     "metadata": {},
     "output_type": "display_data"
    },
    {
     "name": "stdout",
     "output_type": "stream",
     "text": [
      "Top 10 feature ranking:\n",
      " 1) funded_amnt                    0.084644\n",
      " 2) revol_bal                      0.052458\n",
      " 3) dti                            0.049636\n",
      " 4) acc_open_past_24mths           0.045603\n",
      " 5) annual_inc                     0.035486\n",
      " 6) mo_sin_old_rev_tl_op           0.035171\n",
      " 7) tot_hi_cred_lim                0.031488\n",
      " 8) bc_util                        0.029816\n",
      " 9) bc_open_to_buy                 0.026288\n",
      "10) mths_since_recent_bc           0.025307\n"
     ]
    }
   ],
   "source": [
    "G_importance, G_indice =top_10_features(clf)"
   ]
  },
  {
   "cell_type": "markdown",
   "metadata": {},
   "source": [
    "#### Let's get  three models' top ten important features"
   ]
  },
  {
   "cell_type": "code",
   "execution_count": 74,
   "metadata": {
    "collapsed": true
   },
   "outputs": [],
   "source": [
    "# the list of top ten important features\n",
    "decision_tree =[]\n",
    "for f in range(len(D_indice)):\n",
    "    decision_tree.append(features[D_indice[f]])\n",
    "    \n",
    "forest =[]\n",
    "for f in range(len(F_indice)):\n",
    "    forest.append(features[F_indice[f]])\n",
    "\n",
    "gbm =[]\n",
    "for f in range(len(G_indice)):\n",
    "    gbm.append(features[G_indice[f]])"
   ]
  },
  {
   "cell_type": "code",
   "execution_count": 76,
   "metadata": {
    "collapsed": true
   },
   "outputs": [],
   "source": [
    "top_10_features = pd.DataFrame({'decision_tree': decision_tree,\n",
    "                                'forest': forest,\n",
    "                                'gbm': gbm})"
   ]
  },
  {
   "cell_type": "code",
   "execution_count": 77,
   "metadata": {},
   "outputs": [
    {
     "data": {
      "text/html": [
       "<div>\n",
       "<style>\n",
       "    .dataframe thead tr:only-child th {\n",
       "        text-align: right;\n",
       "    }\n",
       "\n",
       "    .dataframe thead th {\n",
       "        text-align: left;\n",
       "    }\n",
       "\n",
       "    .dataframe tbody tr th {\n",
       "        vertical-align: top;\n",
       "    }\n",
       "</style>\n",
       "<table border=\"1\" class=\"dataframe\">\n",
       "  <thead>\n",
       "    <tr style=\"text-align: right;\">\n",
       "      <th></th>\n",
       "      <th>decision_tree</th>\n",
       "      <th>forest</th>\n",
       "      <th>gbm</th>\n",
       "    </tr>\n",
       "  </thead>\n",
       "  <tbody>\n",
       "    <tr>\n",
       "      <th>0</th>\n",
       "      <td>acc_open_past_24mths</td>\n",
       "      <td>acc_open_past_24mths</td>\n",
       "      <td>funded_amnt</td>\n",
       "    </tr>\n",
       "    <tr>\n",
       "      <th>1</th>\n",
       "      <td>tot_hi_cred_lim</td>\n",
       "      <td>dti</td>\n",
       "      <td>revol_bal</td>\n",
       "    </tr>\n",
       "    <tr>\n",
       "      <th>2</th>\n",
       "      <td>bc_open_to_buy</td>\n",
       "      <td>funded_amnt</td>\n",
       "      <td>dti</td>\n",
       "    </tr>\n",
       "    <tr>\n",
       "      <th>3</th>\n",
       "      <td>dti</td>\n",
       "      <td>bc_open_to_buy</td>\n",
       "      <td>acc_open_past_24mths</td>\n",
       "    </tr>\n",
       "    <tr>\n",
       "      <th>4</th>\n",
       "      <td>funded_amnt</td>\n",
       "      <td>num_tl_op_past_12m</td>\n",
       "      <td>annual_inc</td>\n",
       "    </tr>\n",
       "    <tr>\n",
       "      <th>5</th>\n",
       "      <td>mths_since_recent_inq</td>\n",
       "      <td>total_bc_limit</td>\n",
       "      <td>mo_sin_old_rev_tl_op</td>\n",
       "    </tr>\n",
       "    <tr>\n",
       "      <th>6</th>\n",
       "      <td>annual_inc</td>\n",
       "      <td>tot_hi_cred_lim</td>\n",
       "      <td>tot_hi_cred_lim</td>\n",
       "    </tr>\n",
       "    <tr>\n",
       "      <th>7</th>\n",
       "      <td>inq_last_6mths</td>\n",
       "      <td>mo_sin_old_rev_tl_op</td>\n",
       "      <td>bc_util</td>\n",
       "    </tr>\n",
       "    <tr>\n",
       "      <th>8</th>\n",
       "      <td>total_rev_hi_lim</td>\n",
       "      <td>total_rev_hi_lim</td>\n",
       "      <td>bc_open_to_buy</td>\n",
       "    </tr>\n",
       "    <tr>\n",
       "      <th>9</th>\n",
       "      <td>total_bc_limit</td>\n",
       "      <td>avg_cur_bal</td>\n",
       "      <td>mths_since_recent_bc</td>\n",
       "    </tr>\n",
       "  </tbody>\n",
       "</table>\n",
       "</div>"
      ],
      "text/plain": [
       "           decision_tree                forest                   gbm\n",
       "0   acc_open_past_24mths  acc_open_past_24mths           funded_amnt\n",
       "1        tot_hi_cred_lim                   dti             revol_bal\n",
       "2         bc_open_to_buy           funded_amnt                   dti\n",
       "3                    dti        bc_open_to_buy  acc_open_past_24mths\n",
       "4            funded_amnt    num_tl_op_past_12m            annual_inc\n",
       "5  mths_since_recent_inq        total_bc_limit  mo_sin_old_rev_tl_op\n",
       "6             annual_inc       tot_hi_cred_lim       tot_hi_cred_lim\n",
       "7         inq_last_6mths  mo_sin_old_rev_tl_op               bc_util\n",
       "8       total_rev_hi_lim      total_rev_hi_lim        bc_open_to_buy\n",
       "9         total_bc_limit           avg_cur_bal  mths_since_recent_bc"
      ]
     },
     "execution_count": 77,
     "metadata": {},
     "output_type": "execute_result"
    }
   ],
   "source": [
    "#print out top ten important features of the three models\n",
    "top_10_features"
   ]
  },
  {
   "cell_type": "code",
   "execution_count": 79,
   "metadata": {},
   "outputs": [
    {
     "data": {
      "text/plain": [
       "{'acc_open_past_24mths',\n",
       " 'bc_open_to_buy',\n",
       " 'dti',\n",
       " 'funded_amnt',\n",
       " 'tot_hi_cred_lim'}"
      ]
     },
     "execution_count": 79,
     "metadata": {},
     "output_type": "execute_result"
    }
   ],
   "source": [
    "# get the common important features of the three models\n",
    "set(decision_tree).intersection(forest, gbm)"
   ]
  },
  {
   "cell_type": "markdown",
   "metadata": {},
   "source": [
    "Among the five common important features of the three models 'acc_open_past_24mths','bc_open_to_buy' and 'dti' are variables reflect the bank account information of the lenders. 'tot_hi_cred_lim' shows the credit information and 'funded_amnt' is the total amount committed to that loan at that point in time. Another common important feature is 'annual_inc' which is in both decision tree model and GBM. And it ranks 11 in random forest model"
   ]
  },
  {
   "cell_type": "markdown",
   "metadata": {},
   "source": [
    "##### Summary of types of important features:\n",
    "Decision tree: \n",
    "\n",
    "4 bank variabls: acc_open_past_24mths, bc_open_to_buy, dti, inq_last_6mths     \n",
    "4 credit variables: tot_hi_cred_lim  mths_since_recent_inq  total_rev_hi_lim total_bc_limit     \n",
    "1:  funded_amnt\n",
    "1:  annual_inc  \n",
    "\n",
    "Random Forest:\n",
    "\n",
    "6 bank variables: acc_open_past_24mths, bc_open_to_buy, dti, num_tl_op_past_12m,\n",
    "                  mo_sin_old_rev_tl_op  , avg_cur_bal  \n",
    "                  \n",
    "3 credit varaibles: tot_hi_cred_lim  total_bc_limit  total_rev_hi_lim                  \n",
    "1:  funded_amnt\n",
    "\n",
    "Gradient boost method:\n",
    "\n",
    "6 bank variables: acc_open_past_24mths, bc_open_to_buy , dti , mo_sin_old_rev_tl_op,\n",
    "                  mths_since_recent_, bc_util                        \n",
    "                  \n",
    "2 credit variables: revol_bal , tot_hi_cred_lim                    \n",
    "1:  funded_amnt\n",
    "1:  annual_inc  "
   ]
  },
  {
   "cell_type": "markdown",
   "metadata": {},
   "source": [
    "### Build a model without 'Rate' variable"
   ]
  },
  {
   "cell_type": "code",
   "execution_count": 80,
   "metadata": {
    "collapsed": true
   },
   "outputs": [],
   "source": [
    "# Drop 'Rate' variable\n",
    "df5 = df4.drop('Rate', axis=1)\n",
    "\n",
    "#Fit the missing values with mean\n",
    "imputer = Imputer(missing_values='NaN', strategy='mean', axis=0)\n",
    "imputer = imputer.fit(df5)\n",
    "imputed_data = imputer.transform(df5.values)"
   ]
  },
  {
   "cell_type": "code",
   "execution_count": 81,
   "metadata": {},
   "outputs": [
    {
     "name": "stdout",
     "output_type": "stream",
     "text": [
      "(252657, 111)\n",
      "(168438, 111)\n",
      "(252657,)\n",
      "(168438,)\n"
     ]
    }
   ],
   "source": [
    "X1 = imputed_data\n",
    "X1_train, X1_test, y_train, y_test = train_test_split(\n",
    "    X1, y, test_size=0.4, random_state = 0)\n",
    "print(X1_train.shape)\n",
    "print(X1_test.shape)\n",
    "print(y_train.shape)\n",
    "print(y_test.shape)"
   ]
  },
  {
   "cell_type": "code",
   "execution_count": 83,
   "metadata": {},
   "outputs": [
    {
     "name": "stdout",
     "output_type": "stream",
     "text": [
      "AUC - ROC :  0.69487128738\n"
     ]
    },
    {
     "data": {
      "image/png": "[encoded data removed]",
      "text/plain": [
       "<matplotlib.figure.Figure at 0x2220bcf9cf8>"
      ]
     },
     "metadata": {},
     "output_type": "display_data"
    }
   ],
   "source": [
    "# fit the data with Gradient boost model we built befor\n",
    "clf.fit(X1_train, y_train)\n",
    "y_pred_gb = pd.DataFrame(clf.predict_proba(X1_test)).iloc[:,1]\n",
    "print(\"AUC - ROC : \", roc_auc_score(y_test, y_pred_gb))\n",
    "roc_auc_curve(y_test, y_pred_gb)"
   ]
  },
  {
   "cell_type": "markdown",
   "metadata": {
    "collapsed": true
   },
   "source": [
    "The accuracy of GBM model without 'Rate' Variable is 0.6948 and that of model with 'Rate' is 0.6952. There is a little change for the model accuracy with or without 'Rate' variable. The reason may be that original unemployment rate we get is by counties not zip codes. One county has several corresponding zip codes. If we use census data in U.S and recalculate the unemployment rate by zip code the 'Rate' variable may have more weight in the model."
   ]
  },
  {
   "cell_type": "markdown",
   "metadata": {},
   "source": [
    "There is still room for the improvement of model performance, however. In the EDA and statistical part we analyzed four features which are employment length, unemployment rate, employment title and home ownership. They all have impacts on the bad loan ratio and statistical testing shows the impacts have statistical significance. But from the feather importance analysis none of them is among the top ten important features. The employment title's importance is zero. It is worth to dig deeper for the feature \"employment title\". For example we can explore more than 10 employment titles and see if it will increase the importance of the feature. Or we can connect employment title with employment length and create a new variable, because the income for a teacher working for ten years will have great difference with a manager working for ten years. "
   ]
  },
  {
   "cell_type": "markdown",
   "metadata": {},
   "source": [
    "### Random Oversampling method in building predictive model"
   ]
  },
  {
   "cell_type": "markdown",
   "metadata": {},
   "source": [
    "This data set has 80% good loan and 20% bad loan. It is imbalanced data set. Let's try SMOTE(Synthetic Minority Over-sampling) Technique in random oversampling method to balance the data set."
   ]
  },
  {
   "cell_type": "code",
   "execution_count": 48,
   "metadata": {
    "collapsed": true
   },
   "outputs": [],
   "source": [
    "Y_train = y_train\n",
    "x_train, x_val, y_train, y_val = train_test_split(X_train, Y_train,\n",
    "                                                  test_size = .1,\n",
    "                                                  random_state=0)"
   ]
  },
  {
   "cell_type": "code",
   "execution_count": 49,
   "metadata": {},
   "outputs": [
    {
     "name": "stderr",
     "output_type": "stream",
     "text": [
      "C:\\Users\\yepeng\\Anaconda3\\lib\\site-packages\\sklearn\\utils\\deprecation.py:75: DeprecationWarning: Function _ratio_float is deprecated; Use a float for 'ratio' is deprecated from version 0.2. The support will be removed in 0.4. Use a dict, str, or a callable instead.\n",
      "  warnings.warn(msg, category=DeprecationWarning)\n"
     ]
    }
   ],
   "source": [
    "from imblearn.over_sampling import SMOTE\n",
    "sm = SMOTE(random_state=0, ratio = 1.0)\n",
    "x_train_res, y_train_res = sm.fit_sample(x_train, y_train)"
   ]
  },
  {
   "cell_type": "markdown",
   "metadata": {},
   "source": [
    "#### Fit the resampled date with gradient boost classifier"
   ]
  },
  {
   "cell_type": "markdown",
   "metadata": {},
   "source": [
    "Oversampling is a well-known way to potentially improve models trained on imbalanced data. Advantages of oversampling is that unlike under sampling this method leads to no information loss and outperforms under sampling. But oversampling increases the likelihood of overfitting since it replicates the minority class events. Gradient boost method is great because the model architecture reduces overfitting."
   ]
  },
  {
   "cell_type": "code",
   "execution_count": 51,
   "metadata": {},
   "outputs": [
    {
     "data": {
      "text/plain": [
       "GradientBoostingClassifier(criterion='friedman_mse', init=None,\n",
       "              learning_rate=0.2, loss='deviance', max_depth=2,\n",
       "              max_features=None, max_leaf_nodes=None,\n",
       "              min_impurity_decrease=0.0, min_impurity_split=None,\n",
       "              min_samples_leaf=1, min_samples_split=2,\n",
       "              min_weight_fraction_leaf=0.0, n_estimators=200,\n",
       "              presort='auto', random_state=None, subsample=1.0, verbose=0,\n",
       "              warm_start=False)"
      ]
     },
     "execution_count": 51,
     "metadata": {},
     "output_type": "execute_result"
    }
   ],
   "source": [
    "from sklearn.ensemble import GradientBoostingClassifier\n",
    "clf = GradientBoostingClassifier(n_estimators=200, learning_rate=0.2, max_depth=2)\n",
    "clf.fit(x_train_res, y_train_res)"
   ]
  },
  {
   "cell_type": "markdown",
   "metadata": {},
   "source": [
    "#### Check the accuracy and recall on validate data set and test data set"
   ]
  },
  {
   "cell_type": "code",
   "execution_count": 53,
   "metadata": {},
   "outputs": [
    {
     "name": "stdout",
     "output_type": "stream",
     "text": [
      "Validation Results\n",
      "0.85490382332\n",
      "0.00682128240109\n",
      "\n",
      "Test Results\n",
      "0.856297272587\n",
      "0.00734384025085\n"
     ]
    }
   ],
   "source": [
    "from sklearn.metrics import precision_score, recall_score\n",
    "print('Validation Results')\n",
    "print(clf.score(x_val, y_val))\n",
    "print(recall_score(y_val, clf.predict(x_val)))\n",
    "print('\\nTest Results')\n",
    "print(clf.score(X_test, y_test))\n",
    "print(recall_score(y_test, clf.predict(X_test)))"
   ]
  },
  {
   "cell_type": "markdown",
   "metadata": {},
   "source": [
    "The model performance in validate set and test set are similiar. It shows we applied the random oversampling method correctly."
   ]
  },
  {
   "cell_type": "code",
   "execution_count": 55,
   "metadata": {},
   "outputs": [
    {
     "name": "stdout",
     "output_type": "stream",
     "text": [
      "0.703983636072\n"
     ]
    }
   ],
   "source": [
    "y_pred = clf.predict(X_test)\n",
    "print(precision_score(y_test, y_pred, average=\"macro\"))"
   ]
  },
  {
   "cell_type": "markdown",
   "metadata": {},
   "source": [
    "The model performance of Gradient boost in imbalanced data set is 0.695 and that in balanced data set is 0.704. A little bit  improvement of model performance has been made by applying oversampling method to balance the data set. There are lots of methods to balance the imbalanced data set including Under_sampling, Over_sampling, Over-sampling followed by under-sampling and Ensemble sampling. It is worth trying other method to balance the data set and build models in the future work."
   ]
  },
  {
   "cell_type": "code",
   "execution_count": null,
   "metadata": {
    "collapsed": true
   },
   "outputs": [],
   "source": []
  }
 ],
 "metadata": {
  "kernelspec": {
   "display_name": "Python 3",
   "language": "python",
   "name": "python3"
  },
  "language_info": {
   "codemirror_mode": {
    "name": "ipython",
    "version": 3
   },
   "file_extension": ".py",
   "mimetype": "text/x-python",
   "name": "python",
   "nbconvert_exporter": "python",
   "pygments_lexer": "ipython3",
   "version": "3.6.2"
  }
 },
 "nbformat": 4,
 "nbformat_minor": 2
}
