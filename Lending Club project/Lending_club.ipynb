{
 "cells": [
  {
   "cell_type": "code",
   "execution_count": 1,
   "metadata": {
    "collapsed": true
   },
   "outputs": [],
   "source": [
    "import sys\n",
    "from numpy import *\n",
    "import numpy as np\n",
    "import pandas as pd\n",
    "import matplotlib.pyplot as plt\n",
    "import operator\n",
    "%matplotlib inline"
   ]
  },
  {
   "cell_type": "code",
   "execution_count": 2,
   "metadata": {},
   "outputs": [
    {
     "name": "stdout",
     "output_type": "stream",
     "text": [
      "<class 'pandas.core.frame.DataFrame'>\n",
      "RangeIndex: 421097 entries, 0 to 421096\n",
      "Columns: 137 entries, id to hardship_last_payment_amount\n",
      "dtypes: float64(104), object(33)\n",
      "memory usage: 440.1+ MB\n"
     ]
    }
   ],
   "source": [
    "df = pd.read_csv(\"LoanStats3d.csv\",skiprows=1,low_memory=False)\n",
    "df.info()"
   ]
  },
  {
   "cell_type": "code",
   "execution_count": 3,
   "metadata": {},
   "outputs": [
    {
     "data": {
      "text/plain": [
       "['member_id',\n",
       " 'url',\n",
       " 'revol_bal_joint',\n",
       " 'sec_app_earliest_cr_line',\n",
       " 'sec_app_inq_last_6mths',\n",
       " 'sec_app_mort_acc',\n",
       " 'sec_app_open_acc',\n",
       " 'sec_app_revol_util',\n",
       " 'sec_app_open_il_6m',\n",
       " 'sec_app_num_rev_accts',\n",
       " 'sec_app_chargeoff_within_12_mths',\n",
       " 'sec_app_collections_12_mths_ex_med',\n",
       " 'sec_app_mths_since_last_major_derog']"
      ]
     },
     "execution_count": 3,
     "metadata": {},
     "output_type": "execute_result"
    }
   ],
   "source": [
    "blank_columns = df.columns[df.isnull().all()].tolist()\n",
    "blank_columns"
   ]
  },
  {
   "cell_type": "code",
   "execution_count": 4,
   "metadata": {
    "collapsed": true
   },
   "outputs": [],
   "source": [
    "# drop blank columns\n",
    "df = df.drop(['id','member_id', 'url','revol_bal_joint','sec_app_earliest_cr_line','sec_app_inq_last_6mths','sec_app_mort_acc',\n",
    " 'sec_app_open_acc','sec_app_revol_util','sec_app_open_il_6m','sec_app_num_rev_accts','sec_app_chargeoff_within_12_mths',\n",
    " 'sec_app_collections_12_mths_ex_med','sec_app_mths_since_last_major_derog'], axis = 1)\n",
    "\n",
    "# drop post loan variables\n",
    "df = df.drop(['out_prncp','out_prncp_inv', 'total_pymnt', 'total_pymnt_inv', 'total_rec_prncp',\n",
    "              'grade', 'sub_grade','total_rec_int','total_rec_late_fee','recoveries','collection_recovery_fee',\n",
    "              'collection_recovery_fee','last_pymnt_d','last_pymnt_amnt','next_pymnt_d','last_credit_pull_d',\n",
    "              'payment_plan_start_date','issue_d'], axis = 1)\n",
    "df = df.drop(['term','int_rate','installment'], axis = 1)\n",
    "\n",
    "# drop hardship variables\n",
    "df = df.drop(['hardship_flag','hardship_type','hardship_reason', 'hardship_status','hardship_start_date',\n",
    "             'hardship_end_date','hardship_loan_status', 'hardship_amount','hardship_length','hardship_dpd',\n",
    "              'hardship_payoff_balance_amount','hardship_last_payment_amount'], axis = 1)"
   ]
  },
  {
   "cell_type": "markdown",
   "metadata": {},
   "source": [
    "## Object variable wrangling\n",
    "### a. Target variable: How many class of loan status are there?"
   ]
  },
  {
   "cell_type": "code",
   "execution_count": 5,
   "metadata": {},
   "outputs": [
    {
     "data": {
      "text/plain": [
       "array(['Current', 'Fully Paid', 'Charged Off', 'Late (16-30 days)',\n",
       "       'Late (31-120 days)', 'In Grace Period', 'Default', nan], dtype=object)"
      ]
     },
     "execution_count": 5,
     "metadata": {},
     "output_type": "execute_result"
    }
   ],
   "source": [
    "obj_df = df.select_dtypes(include=['object']).copy()\n",
    "pd.unique(obj_df['loan_status'].values.ravel())"
   ]
  },
  {
   "cell_type": "code",
   "execution_count": 6,
   "metadata": {},
   "outputs": [
    {
     "name": "stdout",
     "output_type": "stream",
     "text": [
      "<class 'pandas.core.frame.DataFrame'>\n",
      "RangeIndex: 421097 entries, 0 to 421096\n",
      "Data columns (total 16 columns):\n",
      "emp_title                    397221 non-null object\n",
      "emp_length                   421095 non-null object\n",
      "home_ownership               421095 non-null object\n",
      "verification_status          421095 non-null object\n",
      "loan_status                  421095 non-null object\n",
      "pymnt_plan                   421095 non-null object\n",
      "desc                         45 non-null object\n",
      "purpose                      421095 non-null object\n",
      "title                        420963 non-null object\n",
      "zip_code                     421095 non-null object\n",
      "addr_state                   421095 non-null object\n",
      "earliest_cr_line             421095 non-null object\n",
      "revol_util                   420933 non-null object\n",
      "initial_list_status          421095 non-null object\n",
      "application_type             421095 non-null object\n",
      "verification_status_joint    511 non-null object\n",
      "dtypes: object(16)\n",
      "memory usage: 51.4+ MB\n"
     ]
    }
   ],
   "source": [
    "# classified loan_status to \"good loan\" and \"bad loan''\n",
    "status_dict = {'loan_status': {'Current':'good loan', 'Fully Paid':'good loan', 'In Grace Period':'good loan', 'Charged Off':'bad loan', 'Late (16-30 days)':'bad loan',\n",
    "                'Late (31-120 days)':'bad loan', 'Default':'bad loan'}}\n",
    "obj_df.replace(status_dict, inplace=True)\n",
    "obj_df.info()"
   ]
  },
  {
   "cell_type": "markdown",
   "metadata": {},
   "source": [
    "### b. Data cleaning for other object variables"
   ]
  },
  {
   "cell_type": "code",
   "execution_count": 7,
   "metadata": {
    "collapsed": true
   },
   "outputs": [],
   "source": [
    "obj_df.revol_util = pd.Series(obj_df.revol_util).str.replace('%', '').astype(float)"
   ]
  },
  {
   "cell_type": "code",
   "execution_count": 8,
   "metadata": {},
   "outputs": [
    {
     "data": {
      "text/plain": [
       "10+ years    141521\n",
       "2 years       37497\n",
       "< 1 year      34340\n",
       "3 years       33430\n",
       "1 year        27473\n",
       "5 years       24930\n",
       "4 years       24506\n",
       "n/a           23817\n",
       "8 years       21560\n",
       "7 years       18414\n",
       "6 years       16838\n",
       "9 years       16769\n",
       "Name: emp_length, dtype: int64"
      ]
     },
     "execution_count": 8,
     "metadata": {},
     "output_type": "execute_result"
    }
   ],
   "source": [
    "obj_df.emp_length.value_counts()"
   ]
  },
  {
   "cell_type": "code",
   "execution_count": 9,
   "metadata": {
    "collapsed": true
   },
   "outputs": [],
   "source": [
    "# convert emp_length to numeric variable\n",
    "obj_df.replace('n/a', np.nan,inplace=True)\n",
    "obj_df.emp_length.fillna(value=0,inplace=True)\n",
    "obj_df['emp_length'].replace(to_replace='[^0-9]+', value='', inplace=True, regex=True)\n",
    "obj_df['emp_length'] = obj_df['emp_length'].astype(float)"
   ]
  },
  {
   "cell_type": "markdown",
   "metadata": {},
   "source": [
    "##### Employment Length\n",
    "Leaving this variable in might contradict our decision to drop the employment tile as it also conveyed a sort of socio-economic seniority. A Computer Scientist 5 years into their career would generally have a larger salary than a Kindergarden teacher 10 years into their career. Arguably it might be powerful to combine a grouped, matched, and reduced set of employment titles with their length to create a \"purchasing power\" metric. Since employment length is an easy scalar, let's leave it in for now. We could leave 'emp_length' as categorical data, but it shouldn't be treated as such or as ordinal data since the intervals are easy to determine. We can convert it into numerical data with a simple filter:"
   ]
  },
  {
   "cell_type": "markdown",
   "metadata": {},
   "source": [
    "### c.  Date engineering"
   ]
  },
  {
   "cell_type": "markdown",
   "metadata": {},
   "source": [
    "### emp_title\n",
    "This variable has 120813 categories and we can choose the top ten employment tiltle and create 10 dummy variables so it can be used in model building."
   ]
  },
  {
   "cell_type": "code",
   "execution_count": 10,
   "metadata": {},
   "outputs": [
    {
     "data": {
      "text/plain": [
       "(120813,)"
      ]
     },
     "execution_count": 10,
     "metadata": {},
     "output_type": "execute_result"
    }
   ],
   "source": [
    "obj_df.emp_title.unique().shape"
   ]
  },
  {
   "cell_type": "code",
   "execution_count": 11,
   "metadata": {},
   "outputs": [
    {
     "data": {
      "text/plain": [
       "teacher             9956\n",
       "manager             8958\n",
       "owner               6101\n",
       "registered nurse    4443\n",
       "supervisor          4080\n",
       "driver              3863\n",
       "sales               3759\n",
       "rn                  3545\n",
       "office manager      2826\n",
       "project manager     2734\n",
       "Name: emp_title, dtype: int64"
      ]
     },
     "execution_count": 11,
     "metadata": {},
     "output_type": "execute_result"
    }
   ],
   "source": [
    "obj_df['emp_title'].str.lower().value_counts().head(10)"
   ]
  },
  {
   "cell_type": "code",
   "execution_count": 12,
   "metadata": {
    "collapsed": true
   },
   "outputs": [],
   "source": [
    "obj_df['emp_title'] = obj_df['emp_title'].str.lower().replace('rn', 'registered nurse')"
   ]
  },
  {
   "cell_type": "code",
   "execution_count": 13,
   "metadata": {},
   "outputs": [
    {
     "data": {
      "text/plain": [
       "other               368270\n",
       "teacher               9956\n",
       "manager               8958\n",
       "registered nurse      7988\n",
       "owner                 6101\n",
       "supervisor            4080\n",
       "driver                3863\n",
       "sales                 3759\n",
       "office manager        2826\n",
       "project manager       2734\n",
       "general manager       2562\n",
       "Name: emp_title, dtype: int64"
      ]
     },
     "execution_count": 13,
     "metadata": {},
     "output_type": "execute_result"
    }
   ],
   "source": [
    "# select top ten employment title\n",
    "cats = ['teacher','manager','registered nurse', 'owner','supervisor','driver','sales','office manager',\n",
    "        'project manager','general manager']\n",
    "obj_df.loc[~ (obj_df['emp_title'].isin(cats)), 'emp_title'] = 'other'\n",
    "obj_df.emp_title.value_counts()"
   ]
  },
  {
   "cell_type": "markdown",
   "metadata": {},
   "source": [
    "### Zip code and state\n",
    "This two variables can't be used directly for the analysis of loan status. But if they combined with the local unemployment rates in US they will be useful for the analysis for the decision of the loan."
   ]
  },
  {
   "cell_type": "code",
   "execution_count": 14,
   "metadata": {},
   "outputs": [
    {
     "name": "stdout",
     "output_type": "stream",
     "text": [
      "<class 'pandas.core.frame.DataFrame'>\n",
      "RangeIndex: 855 entries, 0 to 854\n",
      "Data columns (total 3 columns):\n",
      "state       855 non-null object\n",
      "zip_code    855 non-null int64\n",
      "Rate        855 non-null float64\n",
      "dtypes: float64(1), int64(1), object(1)\n",
      "memory usage: 20.1+ KB\n"
     ]
    },
    {
     "data": {
      "text/html": [
       "<div>\n",
       "<style>\n",
       "    .dataframe thead tr:only-child th {\n",
       "        text-align: right;\n",
       "    }\n",
       "\n",
       "    .dataframe thead th {\n",
       "        text-align: left;\n",
       "    }\n",
       "\n",
       "    .dataframe tbody tr th {\n",
       "        vertical-align: top;\n",
       "    }\n",
       "</style>\n",
       "<table border=\"1\" class=\"dataframe\">\n",
       "  <thead>\n",
       "    <tr style=\"text-align: right;\">\n",
       "      <th></th>\n",
       "      <th>state</th>\n",
       "      <th>zip_code</th>\n",
       "      <th>Rate</th>\n",
       "    </tr>\n",
       "  </thead>\n",
       "  <tbody>\n",
       "    <tr>\n",
       "      <th>0</th>\n",
       "      <td>AK</td>\n",
       "      <td>99500</td>\n",
       "      <td>8.48</td>\n",
       "    </tr>\n",
       "    <tr>\n",
       "      <th>1</th>\n",
       "      <td>AK</td>\n",
       "      <td>99600</td>\n",
       "      <td>8.69</td>\n",
       "    </tr>\n",
       "    <tr>\n",
       "      <th>2</th>\n",
       "      <td>AK</td>\n",
       "      <td>99700</td>\n",
       "      <td>8.41</td>\n",
       "    </tr>\n",
       "  </tbody>\n",
       "</table>\n",
       "</div>"
      ],
      "text/plain": [
       "  state  zip_code  Rate\n",
       "0    AK     99500  8.48\n",
       "1    AK     99600  8.69\n",
       "2    AK     99700  8.41"
      ]
     },
     "execution_count": 14,
     "metadata": {},
     "output_type": "execute_result"
    }
   ],
   "source": [
    "obj_df['zip_code'] = obj_df['zip_code'].str.replace('xx', '00')\n",
    "unemp_zip = pd.read_csv('unemploy_zip.csv')\n",
    "unemp_zip.info()\n",
    "unemp_zip.head(3)"
   ]
  },
  {
   "cell_type": "code",
   "execution_count": 15,
   "metadata": {},
   "outputs": [
    {
     "data": {
      "text/plain": [
       "387468"
      ]
     },
     "execution_count": 15,
     "metadata": {},
     "output_type": "execute_result"
    }
   ],
   "source": [
    "# concate the two files\n",
    "obj_df['zip_code'] = obj_df['zip_code'].astype('float')\n",
    "obj_df = obj_df.rename(columns={'addr_state':'state'})\n",
    "unemp_zip['zip_code'] = unemp_zip['zip_code'].astype('float')\n",
    "obj_df1 = pd.merge(obj_df, unemp_zip, on=['state','zip_code'], how='left')\n",
    "obj_df1.Rate.count()"
   ]
  },
  {
   "cell_type": "markdown",
   "metadata": {},
   "source": [
    "There are 855 zip_unemployment rate in unemp_zip files while there are 915 zip code in lending club dataset. So there are missing values for the unemployment rate when this two files are merged together."
   ]
  },
  {
   "cell_type": "markdown",
   "metadata": {},
   "source": [
    "## Numerical variables wrangling"
   ]
  },
  {
   "cell_type": "code",
   "execution_count": 16,
   "metadata": {
    "collapsed": true
   },
   "outputs": [],
   "source": [
    "num_df = df.select_dtypes(include=['float']).copy()"
   ]
  },
  {
   "cell_type": "code",
   "execution_count": 17,
   "metadata": {},
   "outputs": [
    {
     "name": "stdout",
     "output_type": "stream",
     "text": [
      "Column delinq_2yrs has 87087 outliers\n",
      "Column pub_rec has 74415 outliers\n",
      "Column tot_coll_amt has 66407 outliers\n",
      "Column num_accts_ever_120_pd has 102993 outliers\n",
      "Column pub_rec_bankruptcies has 50916 outliers\n"
     ]
    }
   ],
   "source": [
    "# find the numerical variables which have more than 10% of outliers\n",
    "for col in num_df.columns:\n",
    "    Q1 = num_df[col].quantile(0.25)\n",
    "    Q3 = num_df[col].quantile(0.75)\n",
    "    IQR = Q3 - Q1\n",
    "    out_liers_number = ((num_df[col] < (Q1 - 3 * IQR)) | (num_df[col] > (Q3 + 3 * IQR))).sum()\n",
    "    count = df[col].count()\n",
    "    if out_liers_number > (0.1 * count):\n",
    "        print (\"Column {} has {} outliers\".format(col, out_liers_number)) \n",
    "\n",
    "#from scipy import stats\n",
    "#df[(np.abs(stats.zscore(df)) > 3).all(axis=1)]"
   ]
  },
  {
   "cell_type": "code",
   "execution_count": 18,
   "metadata": {
    "collapsed": true
   },
   "outputs": [],
   "source": [
    "# concat object variable files and numeric variable file\n",
    "obj_df1['zip_code'] = obj_df1['zip_code'].astype('object')\n",
    "df1 = pd.concat([obj_df1, num_df], axis=1 )"
   ]
  },
  {
   "cell_type": "markdown",
   "metadata": {},
   "source": [
    "## Explanatory Data Analysis"
   ]
  },
  {
   "cell_type": "markdown",
   "metadata": {},
   "source": [
    "#### How many good loans and bad loans are there?"
   ]
  },
  {
   "cell_type": "code",
   "execution_count": 19,
   "metadata": {},
   "outputs": [
    {
     "data": {
      "text/plain": [
       "[<matplotlib.text.Text at 0x1e70238c8d0>,\n",
       " <matplotlib.text.Text at 0x1e702384ef0>]"
      ]
     },
     "execution_count": 19,
     "metadata": {},
     "output_type": "execute_result"
    },
    {
     "data": {
      "image/png": "[encoded data removed]",
      "text/plain": [
       "<matplotlib.figure.Figure at 0x1e703b6d0f0>"
      ]
     },
     "metadata": {},
     "output_type": "display_data"
    }
   ],
   "source": [
    "_ = df1['loan_status'].value_counts().plot(kind='bar')\n",
    "_.set_xticklabels(['good loan', 'bad loan'], rotation=0)"
   ]
  },
  {
   "cell_type": "markdown",
   "metadata": {},
   "source": [
    "#### The relationship between loan status and employment title"
   ]
  },
  {
   "cell_type": "code",
   "execution_count": 20,
   "metadata": {},
   "outputs": [
    {
     "data": {
      "text/plain": [
       "<matplotlib.axes._subplots.AxesSubplot at 0x1e7022efb70>"
      ]
     },
     "execution_count": 20,
     "metadata": {},
     "output_type": "execute_result"
    },
    {
     "data": {
      "image/png": "[encoded data removed]",
      "text/plain": [
       "<matplotlib.figure.Figure at 0x1e7022c11d0>"
      ]
     },
     "metadata": {},
     "output_type": "display_data"
    }
   ],
   "source": [
    "df1['emp_title'].value_counts()[1:10].plot(kind='barh')"
   ]
  },
  {
   "cell_type": "code",
   "execution_count": 21,
   "metadata": {
    "collapsed": true
   },
   "outputs": [],
   "source": [
    "# caculate good loan/bad loan for each employment title and their percentages\n",
    "def calculation(col, col_cats):\n",
    "    df2=df[df[col].isin(col_cats)][['loan_status', col]]\n",
    "    good_loan_data = df2[df2.loan_status.isin(['Current', 'Fully Paid', 'In Grace Period'])]\n",
    "    bad_loan_data = df2[df2.loan_status.isin(['Charged Off', 'Late (16-30 days)',\n",
    "                                              'Late (31-120 days)', 'Default'])]\n",
    "\n",
    "    good_loan = good_loan_data.groupby(col).size().values\n",
    "    bad_loan = bad_loan_data.groupby(col).size().values\n",
    "\n",
    "    totals = good_loan + bad_loan\n",
    "    data1_percentages = (good_loan/totals)*100 \n",
    "    data2_percentages = (bad_loan/totals)*100\n",
    "    return good_loan,bad_loan,data1_percentages,data2_percentages\n",
    "    "
   ]
  },
  {
   "cell_type": "code",
   "execution_count": 22,
   "metadata": {
    "collapsed": true
   },
   "outputs": [],
   "source": [
    "def plot(xticks, col, col_cats):\n",
    "    \n",
    "    good_loan,bad_loan,data1_percentages,data2_percentages = calculation(col, col_cats)\n",
    "    \n",
    "    f, (ax1, ax2) = plt.subplots(1, 2, figsize=(15,5))\n",
    "    # plot chart for count of loan status by col\n",
    "    ax1.bar(range(len(good_loan)), good_loan, label='Good_loan', alpha=0.7, color='b')\n",
    "    ax1.bar(range(len(bad_loan)), bad_loan, bottom=good_loan, label='Bad_loan', alpha=0.7, color='r')\n",
    "    plt.sca(ax1)\n",
    "    plt.xticks(xticks, col_cats, rotation=45, ha='right')\n",
    "    ax1.set_ylabel(\"Count\")\n",
    "    ax1.set_xlabel(\"\")\n",
    "    ax1.set_title(\"Count of loan status by {}\".format(col),fontsize=14)\n",
    "    plt.legend(loc='upper right')\n",
    "\n",
    "    # plot chart for percentage of loan status by col\n",
    "    ax2.bar(range(len(data1_percentages)), data1_percentages, alpha=0.7, color='b')\n",
    "    ax2.bar(range(len(data2_percentages)), data2_percentages, bottom=data1_percentages, alpha=0.7, color='r')\n",
    "    plt.sca(ax2)\n",
    "    plt.xticks(xticks, col_cats, rotation=45, ha='right')\n",
    "    ax2.set_ylabel(\"Percentage\")\n",
    "    ax2.set_xlabel(\"\")\n",
    "    ax2.set_title(\"% of loan status by {}\".format(col),fontsize=14)"
   ]
  },
  {
   "cell_type": "code",
   "execution_count": 23,
   "metadata": {},
   "outputs": [
    {
     "data": {
      "image/png": "[encoded data removed]",
      "text/plain": [
       "<matplotlib.figure.Figure at 0x1e70232c358>"
      ]
     },
     "metadata": {},
     "output_type": "display_data"
    }
   ],
   "source": [
    "xticks = [0.1, 1.1, 2.1, 3.1, 4.1, 5.1, 6.1, 7.1, 8.1, 9.1]\n",
    "emp_title_categories = ['teacher','manager','registered nurse', 'owner','supervisor','driver','sales','office manager',\n",
    "        'project manager','general manager']\n",
    "plot(xticks,'emp_title', emp_title_categories)"
   ]
  },
  {
   "cell_type": "markdown",
   "metadata": {},
   "source": [
    "#### The relationship beween loan status and home ownership"
   ]
  },
  {
   "cell_type": "code",
   "execution_count": 24,
   "metadata": {},
   "outputs": [
    {
     "data": {
      "image/png": "[encoded data removed]",
      "text/plain": [
       "<matplotlib.figure.Figure at 0x1e701a56e48>"
      ]
     },
     "metadata": {},
     "output_type": "display_data"
    }
   ],
   "source": [
    "xticks = [0.1, 1.1, 2.1, 3.1]\n",
    "home_ownership_categories = ['MORTGAGE','RENT','OWN']\n",
    "plot(xticks,'home_ownership', home_ownership_categories)"
   ]
  },
  {
   "cell_type": "markdown",
   "metadata": {},
   "source": [
    "#### The relation ship of zip code, unemployment rate and bad loan percentage"
   ]
  },
  {
   "cell_type": "code",
   "execution_count": 25,
   "metadata": {},
   "outputs": [
    {
     "data": {
      "text/plain": [
       "<matplotlib.text.Text at 0x1e700f2a128>"
      ]
     },
     "execution_count": 25,
     "metadata": {},
     "output_type": "execute_result"
    },
    {
     "data": {
      "image/png": "[encoded data removed]",
      "text/plain": [
       "<matplotlib.figure.Figure at 0x1e700fbc2b0>"
      ]
     },
     "metadata": {},
     "output_type": "display_data"
    }
   ],
   "source": [
    "import seaborn as sns\n",
    "sns.set_style(\"whitegrid\")\n",
    "sns.set_context(\"poster\")\n",
    "_ = sns.boxplot(x='loan_status', y='Rate',data=df1)\n",
    "plt.title('Loan status and unemployment rate')"
   ]
  },
  {
   "cell_type": "code",
   "execution_count": 26,
   "metadata": {
    "collapsed": true
   },
   "outputs": [],
   "source": [
    "# caculation of bad loan percentage in the same zip code area\n",
    "def bad_loan_perc_zip(DF):\n",
    "    new1 = DF.loc[DF.loan_status == 'good loan', ['state', 'zip_code', 'Rate', 'loan_status']]\n",
    "    new2 = DF.loc[DF.loan_status == 'bad loan', ['state', 'zip_code', 'Rate', 'loan_status']]\n",
    "\n",
    "    a = pd.DataFrame(new1.groupby(['state', 'zip_code', 'Rate'])['loan_status'].size())\n",
    "    a = a.reset_index()\n",
    "\n",
    "    b = pd.DataFrame(new2.groupby(['state', 'zip_code', 'Rate'])['loan_status'].size())\n",
    "    b = b.reset_index()\n",
    "\n",
    "    total = pd.merge(a, b, on=['state','zip_code'], how='left').drop('Rate_y', axis=1)\n",
    "    total.fillna(0, inplace=True)\n",
    "    total['bad_loan_perc'] = (total['loan_status_y']/(total['loan_status_x'] + total['loan_status_y'])) * 100\n",
    "    return total"
   ]
  },
  {
   "cell_type": "code",
   "execution_count": 27,
   "metadata": {},
   "outputs": [
    {
     "data": {
      "text/plain": [
       "<seaborn.axisgrid.JointGrid at 0x1e700e5f978>"
      ]
     },
     "execution_count": 27,
     "metadata": {},
     "output_type": "execute_result"
    },
    {
     "data": {
      "image/png": "[encoded data removed]",
      "text/plain": [
       "<matplotlib.figure.Figure at 0x1e700e5fda0>"
      ]
     },
     "metadata": {},
     "output_type": "display_data"
    }
   ],
   "source": [
    "# plot the bad loan percentage with unemployment rate in the same zip code area\n",
    "total = bad_loan_perc_zip(df1)\n",
    "sns.jointplot('Rate_x', 'bad_loan_perc', data=total, kind='reg')"
   ]
  },
  {
   "cell_type": "markdown",
   "metadata": {},
   "source": [
    "#### The relationship of employment length and bad loan percentage"
   ]
  },
  {
   "cell_type": "code",
   "execution_count": 28,
   "metadata": {},
   "outputs": [
    {
     "data": {
      "text/plain": [
       "<matplotlib.axes._subplots.AxesSubplot at 0x1e700789080>"
      ]
     },
     "execution_count": 28,
     "metadata": {},
     "output_type": "execute_result"
    },
    {
     "data": {
      "image/png": "[encoded data removed]",
      "text/plain": [
       "<matplotlib.figure.Figure at 0x1e700aef400>"
      ]
     },
     "metadata": {},
     "output_type": "display_data"
    }
   ],
   "source": [
    "g_loan = df1[df1.loan_status == 'good loan'][['emp_length']]\n",
    "g_loan.columns = [\"Good loan emp_length\"]\n",
    "\n",
    "b_loan = df1[df1.loan_status == 'bad loan'][['emp_length']]\n",
    "b_loan.columns = [\"Bad loan emp_length\"]\n",
    "\n",
    "fig, axs = plt.subplots(ncols=2, sharey=True)\n",
    "sns.violinplot(data=g_loan, ax=axs[0], color='#9b59b6')\n",
    "sns.violinplot(data=b_loan, ax=axs[1], color='#3498db')"
   ]
  },
  {
   "cell_type": "markdown",
   "metadata": {},
   "source": [
    "##### Can you count something interesting?\n",
    "Teacher rank first in the top ten occupation of borrows while it has highest bad loan percentage. See plot \" The relationship between loan status and employment title\"\n",
    "\n",
    "Homer owners should be rich but they seems to have higher bad loan percentage than rent people or people who have mortgage. See plot \"The relationship beween loan status and home ownership\""
   ]
  },
  {
   "cell_type": "markdown",
   "metadata": {},
   "source": [
    "##### Can you find some trends (high, low, increase, decrease, anomalies)?\n",
    "I found the higher the unemployment rate the higher of bad loan percentage in the same zip code area. See plot \"The relation ship of zip code, unemployment rate and bad loan percentage\"\n",
    "\n"
   ]
  },
  {
   "cell_type": "markdown",
   "metadata": {},
   "source": [
    "I made bar plot, histogram, box plot to compare two related quantities and scatterplot. And this data set I didn't made a time-series plot for the time variables are all post loan variables and they have been deleted in the data wrangling."
   ]
  },
  {
   "cell_type": "markdown",
   "metadata": {},
   "source": [
    "##### Having made these plots, what are some insights you get from them? Do you see any correlations? Is there a hypothesis you would like to investigate further? What other questions do they lead you to ask?\n",
    "Insights: \n",
    "1. bad loan's percentage is about 20% in 2015.\n",
    "2. Teacher rank first in the top ten occupation of borrows while they seem to have highest bad loan percentage.\n",
    "3. Home owners should be rich but they seem to have higher bad loan percentage than rent people or people who have mortgage.\n",
    "4. Good loan borrowers seem to have the close median of unemployment rate with bad loan borrowers.\n",
    "4. To investigate the same zip code area bad loan percentage has a positive relationship with unemployment rate. The higher the unemployment rate the higher the bad loan percentage.\n",
    "5. Average employment length of good loan borrowers is higher than bad loan borrowers.\n",
    "\n",
    "Hypothesis to investigate further:\n",
    "1. if the top ten employment title holders have different bad loan percentage.\n",
    "2. if home ownership has effect on bad loan percentage.\n",
    "3. if unemployment rate correlates with bad loan percentage in the same zip code area.\n",
    "4. if the mean employment time for good loan borrowers differs from bad loan borrowers.\n",
    "       "
   ]
  },
  {
   "cell_type": "markdown",
   "metadata": {},
   "source": [
    "##### By now you’ve asked a bunch of questions, and found some neat insights. Is there an interesting narrative, a way of presenting the insights using text and plots from the above, that tells a compelling story? As you work out this story, what are some other trends/relationships you think will make it more complete?\n",
    "\n",
    "Story: Bad loan percentage is still high in 2015(20%). Bad loan seems to have shorter employment length, to be a home owner or to work as a teacher. Bad loan percentage seems to increase with the unemployment rate in the same zip code area.\n",
    "\n",
    "To work out the story I need to do statistical testing to test the trends. And I also need to investigate the relationsip between the numerical variables to see if they are correlated. Finally I will build a model to predict loan status."
   ]
  },
  {
   "cell_type": "markdown",
   "metadata": {},
   "source": [
    "## Statistical Analysis"
   ]
  },
  {
   "cell_type": "markdown",
   "metadata": {},
   "source": [
    "### Numeric variables correlation analysis"
   ]
  },
  {
   "cell_type": "code",
   "execution_count": 29,
   "metadata": {},
   "outputs": [
    {
     "data": {
      "text/html": [
       "<div>\n",
       "<style>\n",
       "    .dataframe thead tr:only-child th {\n",
       "        text-align: right;\n",
       "    }\n",
       "\n",
       "    .dataframe thead th {\n",
       "        text-align: left;\n",
       "    }\n",
       "\n",
       "    .dataframe tbody tr th {\n",
       "        vertical-align: top;\n",
       "    }\n",
       "</style>\n",
       "<table border=\"1\" class=\"dataframe\">\n",
       "  <thead>\n",
       "    <tr style=\"text-align: right;\">\n",
       "      <th></th>\n",
       "      <th>variable_0</th>\n",
       "      <th>variable_1</th>\n",
       "      <th>correlation</th>\n",
       "    </tr>\n",
       "  </thead>\n",
       "  <tbody>\n",
       "    <tr>\n",
       "      <th>0</th>\n",
       "      <td>funded_amnt</td>\n",
       "      <td>loan_amnt</td>\n",
       "      <td>1.000000</td>\n",
       "    </tr>\n",
       "    <tr>\n",
       "      <th>1</th>\n",
       "      <td>funded_amnt_inv</td>\n",
       "      <td>loan_amnt</td>\n",
       "      <td>0.999994</td>\n",
       "    </tr>\n",
       "    <tr>\n",
       "      <th>2</th>\n",
       "      <td>funded_amnt_inv</td>\n",
       "      <td>funded_amnt</td>\n",
       "      <td>0.999994</td>\n",
       "    </tr>\n",
       "    <tr>\n",
       "      <th>3</th>\n",
       "      <td>open_il_24m</td>\n",
       "      <td>open_il_12m</td>\n",
       "      <td>0.760552</td>\n",
       "    </tr>\n",
       "    <tr>\n",
       "      <th>4</th>\n",
       "      <td>open_rv_24m</td>\n",
       "      <td>open_rv_12m</td>\n",
       "      <td>0.767262</td>\n",
       "    </tr>\n",
       "  </tbody>\n",
       "</table>\n",
       "</div>"
      ],
      "text/plain": [
       "        variable_0   variable_1  correlation\n",
       "0      funded_amnt    loan_amnt     1.000000\n",
       "1  funded_amnt_inv    loan_amnt     0.999994\n",
       "2  funded_amnt_inv  funded_amnt     0.999994\n",
       "3      open_il_24m  open_il_12m     0.760552\n",
       "4      open_rv_24m  open_rv_12m     0.767262"
      ]
     },
     "execution_count": 29,
     "metadata": {},
     "output_type": "execute_result"
    }
   ],
   "source": [
    "# calculate correlation coefficient of the numeric variables\n",
    "num_df = df.select_dtypes(include=['float']).copy()\n",
    "cor = num_df.corr()\n",
    "\n",
    "# find the highly correlated variables\n",
    "cor.loc[:,:] = np.tril(cor, k=-1) # below main lower triangle of an array\n",
    "cor = pd.DataFrame(cor.stack())\n",
    "cor.rename(columns = {0 :'correlation'}, inplace = True)\n",
    "cor_75 = cor[(cor.correlation > 0.75) | (cor.correlation < -0.75)]\n",
    "cor_75 = cor_75.reset_index()\n",
    "cor_75.rename(columns={'level_0':'variable_0', 'level_1':'variable_1'}, inplace=True)\n",
    "cor_75.head()"
   ]
  },
  {
   "cell_type": "code",
   "execution_count": 30,
   "metadata": {},
   "outputs": [
    {
     "name": "stdout",
     "output_type": "stream",
     "text": [
      "{'revol_bal', 'funded_amnt', 'mths_since_recent_bc_dlq', 'open_il_12m', 'open_rv_12m', 'mths_since_last_delinq', 'open_rv_24m', 'open_il_24m', 'total_rev_hi_lim', 'avg_cur_bal', 'loan_amnt', 'acc_open_past_24mths', 'funded_amnt_inv', 'tot_cur_bal', 'mths_since_recent_revol_delinq'}\n"
     ]
    }
   ],
   "source": [
    "#slice the first ten correlated pair of variables\n",
    "a = cor_75.variable_0.values[:10]\n",
    "b = cor_75.variable_1.values[:10]\n",
    "c = list(a) + list(b)\n",
    "c = set(c)\n",
    "print(c)"
   ]
  },
  {
   "cell_type": "code",
   "execution_count": 31,
   "metadata": {},
   "outputs": [
    {
     "data": {
      "image/png": "[encoded data removed]",
      "text/plain": [
       "<matplotlib.figure.Figure at 0x1e7039c0d30>"
      ]
     },
     "metadata": {},
     "output_type": "display_data"
    }
   ],
   "source": [
    "# correlation hotmap for the selected variables\n",
    "high_cor = num_df[['acc_open_past_24mths','avg_cur_bal','funded_amnt','funded_amnt_inv','loan_amnt','mths_since_last_delinq',\n",
    " 'mths_since_recent_bc_dlq','mths_since_recent_revol_delinq','open_il_12m','open_il_24m','open_rv_12m','open_rv_24m','revol_bal',\n",
    " 'tot_cur_bal','total_rev_hi_lim']]\n",
    "high_corr = high_cor.corr()\n",
    "mask = np.zeros_like(high_corr)\n",
    "mask[np.triu_indices_from(mask)] = True\n",
    "with sns.axes_style(\"white\"):\n",
    "    ax = sns.heatmap(high_corr, mask=mask, vmax=1, square=True)"
   ]
  },
  {
   "cell_type": "markdown",
   "metadata": {},
   "source": [
    "The top ten employment title holders have different bad loan percentage.\n",
    "\n",
    "Home ownership has effect on bad loan percentage.\n",
    "\n",
    "Unemployment rate correlates with bad loan percentage in the same zip code area.\n",
    "\n",
    "The mean employment time for good loan borrowers differs from bad loan borrowers."
   ]
  },
  {
   "cell_type": "markdown",
   "metadata": {},
   "source": [
    "### Chi squrare test for the loan status and employment title"
   ]
  },
  {
   "cell_type": "markdown",
   "metadata": {},
   "source": [
    " it tests whether the distribution of sample categorical data matches an expected distribution."
   ]
  },
  {
   "cell_type": "code",
   "execution_count": 32,
   "metadata": {
    "collapsed": true
   },
   "outputs": [],
   "source": [
    "def create_table(DF, col, colcats): \n",
    "    df = DF[DF[col].isin(colcats)][[ 'loan_status', col]]\n",
    "    Con_Table = pd.crosstab(df.loan_status, df[col], margins=True) \n",
    "    Con_Table.columns =  colcats +['row_totals']\n",
    "    Con_Table.index = ['good','bad', 'col_totals']\n",
    "    return Con_Table, df "
   ]
  },
  {
   "cell_type": "code",
   "execution_count": 33,
   "metadata": {},
   "outputs": [
    {
     "data": {
      "text/html": [
       "<div>\n",
       "<style>\n",
       "    .dataframe thead tr:only-child th {\n",
       "        text-align: right;\n",
       "    }\n",
       "\n",
       "    .dataframe thead th {\n",
       "        text-align: left;\n",
       "    }\n",
       "\n",
       "    .dataframe tbody tr th {\n",
       "        vertical-align: top;\n",
       "    }\n",
       "</style>\n",
       "<table border=\"1\" class=\"dataframe\">\n",
       "  <thead>\n",
       "    <tr style=\"text-align: right;\">\n",
       "      <th></th>\n",
       "      <th>teacher</th>\n",
       "      <th>manager</th>\n",
       "      <th>registered nurse</th>\n",
       "      <th>owner</th>\n",
       "      <th>supervisor</th>\n",
       "      <th>driver</th>\n",
       "      <th>sales</th>\n",
       "      <th>office manager</th>\n",
       "      <th>project manager</th>\n",
       "      <th>general manager</th>\n",
       "      <th>row_totals</th>\n",
       "    </tr>\n",
       "  </thead>\n",
       "  <tbody>\n",
       "    <tr>\n",
       "      <th>good</th>\n",
       "      <td>817</td>\n",
       "      <td>403</td>\n",
       "      <td>1319</td>\n",
       "      <td>379</td>\n",
       "      <td>987</td>\n",
       "      <td>313</td>\n",
       "      <td>1044</td>\n",
       "      <td>610</td>\n",
       "      <td>642</td>\n",
       "      <td>1162</td>\n",
       "      <td>7676</td>\n",
       "    </tr>\n",
       "    <tr>\n",
       "      <th>bad</th>\n",
       "      <td>3046</td>\n",
       "      <td>2159</td>\n",
       "      <td>7639</td>\n",
       "      <td>2447</td>\n",
       "      <td>5114</td>\n",
       "      <td>2421</td>\n",
       "      <td>6944</td>\n",
       "      <td>3149</td>\n",
       "      <td>3438</td>\n",
       "      <td>8794</td>\n",
       "      <td>45151</td>\n",
       "    </tr>\n",
       "    <tr>\n",
       "      <th>col_totals</th>\n",
       "      <td>3863</td>\n",
       "      <td>2562</td>\n",
       "      <td>8958</td>\n",
       "      <td>2826</td>\n",
       "      <td>6101</td>\n",
       "      <td>2734</td>\n",
       "      <td>7988</td>\n",
       "      <td>3759</td>\n",
       "      <td>4080</td>\n",
       "      <td>9956</td>\n",
       "      <td>52827</td>\n",
       "    </tr>\n",
       "  </tbody>\n",
       "</table>\n",
       "</div>"
      ],
      "text/plain": [
       "            teacher  manager  registered nurse  owner  supervisor  driver  \\\n",
       "good            817      403              1319    379         987     313   \n",
       "bad            3046     2159              7639   2447        5114    2421   \n",
       "col_totals     3863     2562              8958   2826        6101    2734   \n",
       "\n",
       "            sales  office manager  project manager  general manager  \\\n",
       "good         1044             610              642             1162   \n",
       "bad          6944            3149             3438             8794   \n",
       "col_totals   7988            3759             4080             9956   \n",
       "\n",
       "            row_totals  \n",
       "good              7676  \n",
       "bad              45151  \n",
       "col_totals       52827  "
      ]
     },
     "execution_count": 33,
     "metadata": {},
     "output_type": "execute_result"
    }
   ],
   "source": [
    "Con_Table, df = create_table(df1, 'emp_title', emp_title_categories)\n",
    "Con_Table"
   ]
  },
  {
   "cell_type": "code",
   "execution_count": 34,
   "metadata": {},
   "outputs": [
    {
     "data": {
      "text/html": [
       "<div>\n",
       "<style>\n",
       "    .dataframe thead tr:only-child th {\n",
       "        text-align: right;\n",
       "    }\n",
       "\n",
       "    .dataframe thead th {\n",
       "        text-align: left;\n",
       "    }\n",
       "\n",
       "    .dataframe tbody tr th {\n",
       "        vertical-align: top;\n",
       "    }\n",
       "</style>\n",
       "<table border=\"1\" class=\"dataframe\">\n",
       "  <thead>\n",
       "    <tr style=\"text-align: right;\">\n",
       "      <th></th>\n",
       "      <th>teacher</th>\n",
       "      <th>manager</th>\n",
       "      <th>registered nurse</th>\n",
       "      <th>owner</th>\n",
       "      <th>supervisor</th>\n",
       "      <th>driver</th>\n",
       "      <th>sales</th>\n",
       "      <th>office manager</th>\n",
       "      <th>project manager</th>\n",
       "      <th>general manager</th>\n",
       "    </tr>\n",
       "  </thead>\n",
       "  <tbody>\n",
       "    <tr>\n",
       "      <th>good</th>\n",
       "      <td>561.311223</td>\n",
       "      <td>372.270089</td>\n",
       "      <td>1301.637572</td>\n",
       "      <td>410.630473</td>\n",
       "      <td>886.50266</td>\n",
       "      <td>397.26246</td>\n",
       "      <td>1160.692222</td>\n",
       "      <td>546.199557</td>\n",
       "      <td>592.842297</td>\n",
       "      <td>1446.651447</td>\n",
       "    </tr>\n",
       "    <tr>\n",
       "      <th>bad</th>\n",
       "      <td>3301.688777</td>\n",
       "      <td>2189.729911</td>\n",
       "      <td>7656.362428</td>\n",
       "      <td>2415.369527</td>\n",
       "      <td>5214.49734</td>\n",
       "      <td>2336.73754</td>\n",
       "      <td>6827.307778</td>\n",
       "      <td>3212.800443</td>\n",
       "      <td>3487.157703</td>\n",
       "      <td>8509.348553</td>\n",
       "    </tr>\n",
       "  </tbody>\n",
       "</table>\n",
       "</div>"
      ],
      "text/plain": [
       "          teacher      manager  registered nurse        owner  supervisor  \\\n",
       "good   561.311223   372.270089       1301.637572   410.630473   886.50266   \n",
       "bad   3301.688777  2189.729911       7656.362428  2415.369527  5214.49734   \n",
       "\n",
       "          driver        sales  office manager  project manager  \\\n",
       "good   397.26246  1160.692222      546.199557       592.842297   \n",
       "bad   2336.73754  6827.307778     3212.800443      3487.157703   \n",
       "\n",
       "      general manager  \n",
       "good      1446.651447  \n",
       "bad       8509.348553  "
      ]
     },
     "execution_count": 34,
     "metadata": {},
     "output_type": "execute_result"
    }
   ],
   "source": [
    "# get observed value and expected value\n",
    "observed = Con_Table.iloc[0:2, 0:10]\n",
    "\n",
    "expected =  np.outer(Con_Table[\"row_totals\"][0:2],\n",
    "                     Con_Table.iloc[2, 0:10]) / 52827\n",
    "\n",
    "expected = pd.DataFrame(expected)\n",
    "\n",
    "expected.columns = emp_title_categories\n",
    "expected.index = ['good','bad']\n",
    "\n",
    "expected"
   ]
  },
  {
   "cell_type": "code",
   "execution_count": 36,
   "metadata": {},
   "outputs": [
    {
     "name": "stdout",
     "output_type": "stream",
     "text": [
      "chi_squared_stat: 269.3493768308436\n",
      "Critical value: 21.0260698175\n",
      "P value: 0.0\n"
     ]
    }
   ],
   "source": [
    "import scipy.stats as stats\n",
    "def chi_square_test(freedom):\n",
    "    # chi square statistics\n",
    "    chi_squared_stat = (((observed-expected)**2)/expected).sum().sum()\n",
    "\n",
    "    print('chi_squared_stat: ' + str(chi_squared_stat))\n",
    "\n",
    "    crit = stats.chi2.ppf(q = 0.95, # Find the critical value for 95% confidence*\n",
    "                          df = freedom)  \n",
    "\n",
    "    print(\"Critical value: \" + str(crit))\n",
    "\n",
    "    p_value = 1 - stats.chi2.cdf(x=chi_squared_stat,  # Find the p-value\n",
    "                                df=freedom)\n",
    "    print(\"P value: \" + str(p_value))\n",
    "\n",
    "chi_square_test(12)"
   ]
  },
  {
   "cell_type": "markdown",
   "metadata": {},
   "source": [
    "### Chi square test for loan status and home ownership"
   ]
  },
  {
   "cell_type": "code",
   "execution_count": 37,
   "metadata": {},
   "outputs": [
    {
     "data": {
      "text/html": [
       "<div>\n",
       "<style>\n",
       "    .dataframe thead tr:only-child th {\n",
       "        text-align: right;\n",
       "    }\n",
       "\n",
       "    .dataframe thead th {\n",
       "        text-align: left;\n",
       "    }\n",
       "\n",
       "    .dataframe tbody tr th {\n",
       "        vertical-align: top;\n",
       "    }\n",
       "</style>\n",
       "<table border=\"1\" class=\"dataframe\">\n",
       "  <thead>\n",
       "    <tr style=\"text-align: right;\">\n",
       "      <th></th>\n",
       "      <th>MORTGAGE</th>\n",
       "      <th>RENT</th>\n",
       "      <th>OWN</th>\n",
       "      <th>row_totals</th>\n",
       "    </tr>\n",
       "  </thead>\n",
       "  <tbody>\n",
       "    <tr>\n",
       "      <th>good</th>\n",
       "      <td>25314</td>\n",
       "      <td>6778</td>\n",
       "      <td>28354</td>\n",
       "      <td>60446</td>\n",
       "    </tr>\n",
       "    <tr>\n",
       "      <th>bad</th>\n",
       "      <td>182369</td>\n",
       "      <td>38988</td>\n",
       "      <td>139290</td>\n",
       "      <td>360647</td>\n",
       "    </tr>\n",
       "    <tr>\n",
       "      <th>col_totals</th>\n",
       "      <td>207683</td>\n",
       "      <td>45766</td>\n",
       "      <td>167644</td>\n",
       "      <td>421093</td>\n",
       "    </tr>\n",
       "  </tbody>\n",
       "</table>\n",
       "</div>"
      ],
      "text/plain": [
       "            MORTGAGE   RENT     OWN  row_totals\n",
       "good           25314   6778   28354       60446\n",
       "bad           182369  38988  139290      360647\n",
       "col_totals    207683  45766  167644      421093"
      ]
     },
     "execution_count": 37,
     "metadata": {},
     "output_type": "execute_result"
    }
   ],
   "source": [
    "Con_Table, df = create_table(df1, 'home_ownership', home_ownership_categories)\n",
    "Con_Table"
   ]
  },
  {
   "cell_type": "code",
   "execution_count": 38,
   "metadata": {
    "collapsed": true
   },
   "outputs": [],
   "source": [
    "# get observed value and expected value\n",
    "observed = Con_Table.iloc[0:2, 0:3]\n",
    "\n",
    "expected =  np.outer(Con_Table[\"row_totals\"][0:2],\n",
    "                     Con_Table.iloc[2, 0:3]) / 421093\n",
    "\n",
    "expected = pd.DataFrame(expected)\n",
    "\n",
    "expected.columns = home_ownership_categories\n",
    "expected.index = ['good','bad']"
   ]
  },
  {
   "cell_type": "code",
   "execution_count": 39,
   "metadata": {},
   "outputs": [
    {
     "name": "stdout",
     "output_type": "stream",
     "text": [
      "chi_squared_stat: 1692.8473338733406\n",
      "Critical value: 11.0704976935\n",
      "P value: 0.0\n"
     ]
    }
   ],
   "source": [
    "chi_square_test(5)"
   ]
  },
  {
   "cell_type": "markdown",
   "metadata": {},
   "source": [
    "### Kruskal-Wallis H-test for the median of employment length of different loan status"
   ]
  },
  {
   "cell_type": "code",
   "execution_count": 40,
   "metadata": {},
   "outputs": [
    {
     "data": {
      "text/plain": [
       "loan_status\n",
       "bad loan     5.0\n",
       "good loan    6.0\n",
       "Name: emp_length, dtype: float64"
      ]
     },
     "execution_count": 40,
     "metadata": {},
     "output_type": "execute_result"
    }
   ],
   "source": [
    "median_emp_length = df1.groupby('loan_status')['emp_length'].median()\n",
    "median_emp_length"
   ]
  },
  {
   "cell_type": "markdown",
   "metadata": {},
   "source": [
    "The Kruskal-Wallis H-test tests the null hypothesis that the population median of all of the groups are equal. It is a non-parametric version of ANOVA. The test works on 2 or more independent samples, which may have different sizes. Note that rejecting the null hypothesis does not indicate which of the groups differs. Post-hoc comparisons between groups are required to determine which groups are different."
   ]
  },
  {
   "cell_type": "code",
   "execution_count": 41,
   "metadata": {},
   "outputs": [
    {
     "name": "stdout",
     "output_type": "stream",
     "text": [
      "Kruskal Wallis H-test test:\n",
      "H-statistic: 189435635.441\n",
      "P-Value: 0.0\n",
      "Reject NULL hypothesis - Significant differences exist between groups.\n"
     ]
    },
    {
     "name": "stderr",
     "output_type": "stream",
     "text": [
      "C:\\Users\\yepeng\\Anaconda3\\lib\\site-packages\\scipy\\stats\\stats.py:5056: RuntimeWarning: overflow encountered in long_scalars\n",
      "  h = 12.0 / (totaln * (totaln + 1)) * ssbn - 3 * (totaln + 1)\n"
     ]
    }
   ],
   "source": [
    "g_loan = df1[df1.loan_status == 'good loan'][['emp_length']]\n",
    "a = g_loan['emp_length']\n",
    "\n",
    "b_loan = df1[df1.loan_status == 'bad loan'][['emp_length']]\n",
    "b = b_loan['emp_length']\n",
    "\n",
    "print(\"Kruskal Wallis H-test test:\")\n",
    "\n",
    "H, pval = stats.kruskal(a, b)\n",
    "\n",
    "print(\"H-statistic:\", H)\n",
    "print(\"P-Value:\", pval)\n",
    "\n",
    "if pval < 0.05:\n",
    "    print(\"Reject NULL hypothesis - Significant differences exist between groups.\")\n",
    "if pval > 0.05:\n",
    "    print(\"Accept NULL hypothesis - No significant difference between groups.\")"
   ]
  },
  {
   "cell_type": "markdown",
   "metadata": {},
   "source": [
    "### Two sample t-test for the mean of unemployment rate in good loan borrowers and bad loan borrowers"
   ]
  },
  {
   "cell_type": "code",
   "execution_count": 42,
   "metadata": {},
   "outputs": [
    {
     "data": {
      "text/plain": [
       "loan_status\n",
       "bad loan     5.554778\n",
       "good loan    5.494133\n",
       "Name: Rate, dtype: float64"
      ]
     },
     "execution_count": 42,
     "metadata": {},
     "output_type": "execute_result"
    }
   ],
   "source": [
    "mean_unemp_rate = df1.groupby('loan_status')['Rate'].mean()\n",
    "mean_unemp_rate "
   ]
  },
  {
   "cell_type": "code",
   "execution_count": 43,
   "metadata": {},
   "outputs": [
    {
     "name": "stdout",
     "output_type": "stream",
     "text": [
      "ttest_ind:            t = -9.58285  p = 9.71499e-22\n"
     ]
    }
   ],
   "source": [
    "good_loan = df1[df1.loan_status == 'good loan'][['Rate']].dropna()\n",
    "x = good_loan['Rate']\n",
    "\n",
    "bad_loan = df1[df1.loan_status == 'bad loan'][['Rate']].dropna()\n",
    "y = bad_loan['Rate']\n",
    "\n",
    "t, p = stats.ttest_ind(x, y, equal_var=False)\n",
    "print(\"ttest_ind:            t = %g  p = %g\" % (t, p))"
   ]
  },
  {
   "cell_type": "markdown",
   "metadata": {},
   "source": [
    "### Statistical Analysis report\n",
    "\n",
    "\n",
    "1.correlation analysis\n",
    "\n",
    "There are more than 30 pairs of numeric variables highly correlate. Among them funded_amnt/loan_amnt funded_amnt_inv/loan_amnt and funded_amnt_inv/funded_amnt's correlation coefficient are close to 1.\n",
    "\n",
    "\n",
    "2.Chi squrare test for the loan status and employment title\n",
    "\n",
    "Hypothesis\n",
    "\n",
    "H 0  : In the population, variable'loan_status' and variable 'emp_title' are independent.\n",
    "H 1  : In the population, variable'loan_status' and variable 'emp_title' are dependent. \n",
    "\n",
    "Test statistics\n",
    "\n",
    "chi_squared_stat: 269.3493768308436\n",
    "Critical value: 21.0260698175\n",
    "P value: 0.0\n",
    "\n",
    "Conclusion:\n",
    "\n",
    "We reject H 0 and consider variable'loan_status' and variable 'emp_title are dependent. In other words loan status dependend on what kind of employment title of the borrowers.\n",
    "\n",
    "3.Chi square test for loan status and home ownership\n",
    "\n",
    "Hypothesis\n",
    "\n",
    "H 0  : In the population, variable'loan_status' and variable 'home_ownership' are independent.\n",
    "H 1  : In the population, variable'loan_status' and variable 'home_ownership' are dependent.\n",
    "\n",
    "Test Statistics\n",
    "\n",
    "chi_squared_stat: 1692.8473338733406\n",
    "Critical value: 11.0704976935\n",
    "P value: 0.0\n",
    "\n",
    "Conclusion:\n",
    "\n",
    "We reject H 0 and consider variable'loan_status' and variable 'home_ownership' are dependent. It means loan status dependend on whether borrowers are renting a home or have purchased house.\n",
    "\n",
    "4.Kruskal-Wallis H-test for the median of employment length of different loan status\n",
    "\n",
    "The Kruskal-Wallis H-test tests the null hypothesis that the population median of all of the groups are equal. It is a non-parametric version of ANOVA. The test works on 2 or more independent samples, which may have different sizes. Note that rejecting the null hypothesis does not indicate which of the groups differs. Post-hoc comparisons between groups are required to determine which groups are different.\n",
    "\n",
    "Hypothersis:\n",
    "\n",
    "H 0: The population median of employment length in good loan borrowers and bad loan borrowers are equal.\n",
    "H 1: The population median of employment length in good loan borrowers and bad loan borrowers are not equal.\n",
    "\n",
    "Test statistics:\n",
    "\n",
    "Kruskal Wallis H-test test:\n",
    "H-statistic: 189435635.441\n",
    "P-Value: 0.0\n",
    "\n",
    "Conclusion:We reject H 0 and consider the population median of employment length in good loan borrowers and bad loan borrowers are equal. The median of good loan borrowers' employment length is higher than that of bad loan borrowers.\n",
    "\n",
    "5. Two sample t-test for the mean of unemployment rate in good loan borrowers and bad loan borrowers\n",
    "\n",
    "Hypothesis:\n",
    "\n",
    "H 0: The population mean of unemployment rate of good loan borrowers and bad loan borrowers are equal.\n",
    "H 1: The population mean of unemployment rate of good loan borrowers and bad loan borrowers are not equal.\n",
    "\n",
    "Test statistics:\n",
    "\n",
    "ttest_ind:            t = -9.58285  p = 9.71499e-22\n",
    "\n",
    "Conclusions:\n",
    "\n",
    "We reject H0 and consider the mean of unemployment rate of good loan borrowers is lower than that of the bad loan borrowers."
   ]
  },
  {
   "cell_type": "code",
   "execution_count": null,
   "metadata": {
    "collapsed": true
   },
   "outputs": [],
   "source": []
  }
 ],
 "metadata": {
  "kernelspec": {
   "display_name": "Python 3",
   "language": "python",
   "name": "python3"
  },
  "language_info": {
   "codemirror_mode": {
    "name": "ipython",
    "version": 3
   },
   "file_extension": ".py",
   "mimetype": "text/x-python",
   "name": "python",
   "nbconvert_exporter": "python",
   "pygments_lexer": "ipython3",
   "version": "3.6.2"
  }
 },
 "nbformat": 4,
 "nbformat_minor": 2
}
